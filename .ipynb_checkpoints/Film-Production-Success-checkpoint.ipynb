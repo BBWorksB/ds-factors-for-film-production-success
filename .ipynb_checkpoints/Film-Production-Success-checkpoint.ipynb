{
 "cells": [
  {
   "cell_type": "markdown",
   "id": "a8c33d28",
   "metadata": {},
   "source": [
    "# Factors for film Production Success"
   ]
  },
  {
   "cell_type": "markdown",
   "id": "afd2a15a",
   "metadata": {},
   "source": [
    "## 1. Business Understanding"
   ]
  },
  {
   "cell_type": "markdown",
   "id": "6b832942",
   "metadata": {},
   "source": [
    "### a) Introduction"
   ]
  },
  {
   "cell_type": "markdown",
   "id": "40bb6243",
   "metadata": {},
   "source": [
    "Film production has become one of the best way to cultivate an image about a product and create a little world of fanticies on the viewers. Many companies are investing in this and the growth of the companies has triggered intrest of other companies to invest in it too. \n",
    "\n",
    "This project is to use data collected from different platforms to determine the factor of the success in the existing production. "
   ]
  },
  {
   "cell_type": "markdown",
   "id": "a1a677d6",
   "metadata": {},
   "source": [
    "### b) Problem of the Statement\n",
    "For better insight of investing we cant rely on the traditional method to make decision. The use of a data driven decision is more reliable. Before starting the invest getting a clear understanding of the factors to consider for the success of the same is important.\n",
    "\n",
    "It is important to have this understanding not only to get better returns but to also remain relevant to the community we are to rech out to. Relevance to the audience will be a better market strategy that will increase the marketing strategy and incress the market scope."
   ]
  },
  {
   "cell_type": "markdown",
   "id": "69d91349",
   "metadata": {},
   "source": [
    "### c) Main Objective\n",
    "To determine the factors that lead to film production success"
   ]
  },
  {
   "cell_type": "markdown",
   "id": "10a48057",
   "metadata": {},
   "source": [
    "### d) Specific Objective\n",
    "* Data for determining the relationship between the audience rating and genre and the movie runtime\n",
    "* Determine the relationship between movie budget production and its domestic and worldwid gross\n",
    "* Determine the best perfoming studio in terms of domestic and foreign gross\n",
    "* Determine rating of genre and its value in Box office"
   ]
  },
  {
   "cell_type": "markdown",
   "id": "21e24bf2",
   "metadata": {},
   "source": [
    "### e) Experimental Design\n",
    "1. Data Collection\n",
    "2. Read and Check data\n",
    "3. Cleaning the Data\n",
    "4. Exploratory Data Analysis\n",
    "5. Conclusions and Recommendations"
   ]
  },
  {
   "cell_type": "markdown",
   "id": "b05bc1a4",
   "metadata": {},
   "source": [
    "### f) Data Understanding\n",
    "The data to be used was provided by the instituion.\n",
    "The datasets to be used are:\n",
    "1. IMDB title rating: It has the movie ID'S(tconst) with avaragerating of each and the numvotes.\n",
    "2. IMDB title basics: It contains the movie genre and the tconst with the movie runtime.\n",
    "3. BOM movie gross: contains stuio with their respective domestic and foreign gross\n",
    "4. Rotten Tomatoes Movie info: Contains movie genre, box office and genre\n",
    "5. Rotten Tomatoes Reviews info: Contains the rating and fresh data."
   ]
  },
  {
   "cell_type": "markdown",
   "id": "b8afebe4",
   "metadata": {},
   "source": [
    "## 2. Importing Libraries"
   ]
  },
  {
   "cell_type": "code",
   "execution_count": 1,
   "id": "eb47ba42",
   "metadata": {},
   "outputs": [],
   "source": [
    "# Importing libraries to be used\n",
    "import pandas as pd\n",
    "import matplotlib.pyplot as plt\n",
    "import numpy as np\n",
    "import seaborn as sns\n",
    "%matplotlib inline"
   ]
  },
  {
   "cell_type": "markdown",
   "id": "9f49ea4d",
   "metadata": {},
   "source": [
    "## 3. Reading, cleanig and exploring Data\n",
    "All data needed through the process."
   ]
  },
  {
   "cell_type": "markdown",
   "id": "56d255eb",
   "metadata": {},
   "source": [
    "### a. Data for determining the relationship between the audience rating and genre and the movie runtime\n",
    "For this objective we will need to datasets the imdb title rating and imdb title basics. The two datasets will be join using the tconst which is a unique id for the movies. \n",
    "\n",
    "The dataset will then be cleaned and remain with relevant columns with no duplicates and no null values. And will use the number votes as the number of people that watched the genre to determine the most watched genre."
   ]
  },
  {
   "cell_type": "markdown",
   "id": "063abdf4",
   "metadata": {},
   "source": [
    "##### Upload the title rating dataset and inspect it"
   ]
  },
  {
   "cell_type": "code",
   "execution_count": 2,
   "id": "5aa5b514",
   "metadata": {},
   "outputs": [
    {
     "data": {
      "text/html": [
       "<div>\n",
       "<style scoped>\n",
       "    .dataframe tbody tr th:only-of-type {\n",
       "        vertical-align: middle;\n",
       "    }\n",
       "\n",
       "    .dataframe tbody tr th {\n",
       "        vertical-align: top;\n",
       "    }\n",
       "\n",
       "    .dataframe thead th {\n",
       "        text-align: right;\n",
       "    }\n",
       "</style>\n",
       "<table border=\"1\" class=\"dataframe\">\n",
       "  <thead>\n",
       "    <tr style=\"text-align: right;\">\n",
       "      <th></th>\n",
       "      <th>tconst</th>\n",
       "      <th>averagerating</th>\n",
       "      <th>numvotes</th>\n",
       "    </tr>\n",
       "  </thead>\n",
       "  <tbody>\n",
       "    <tr>\n",
       "      <th>0</th>\n",
       "      <td>tt10356526</td>\n",
       "      <td>8.3</td>\n",
       "      <td>31</td>\n",
       "    </tr>\n",
       "    <tr>\n",
       "      <th>1</th>\n",
       "      <td>tt10384606</td>\n",
       "      <td>8.9</td>\n",
       "      <td>559</td>\n",
       "    </tr>\n",
       "    <tr>\n",
       "      <th>2</th>\n",
       "      <td>tt1042974</td>\n",
       "      <td>6.4</td>\n",
       "      <td>20</td>\n",
       "    </tr>\n",
       "    <tr>\n",
       "      <th>3</th>\n",
       "      <td>tt1043726</td>\n",
       "      <td>4.2</td>\n",
       "      <td>50352</td>\n",
       "    </tr>\n",
       "    <tr>\n",
       "      <th>4</th>\n",
       "      <td>tt1060240</td>\n",
       "      <td>6.5</td>\n",
       "      <td>21</td>\n",
       "    </tr>\n",
       "  </tbody>\n",
       "</table>\n",
       "</div>"
      ],
      "text/plain": [
       "       tconst  averagerating  numvotes\n",
       "0  tt10356526            8.3        31\n",
       "1  tt10384606            8.9       559\n",
       "2   tt1042974            6.4        20\n",
       "3   tt1043726            4.2     50352\n",
       "4   tt1060240            6.5        21"
      ]
     },
     "execution_count": 2,
     "metadata": {},
     "output_type": "execute_result"
    }
   ],
   "source": [
    "#Uploading the title rating dataset\n",
    "movie_rating = pd.read_csv('data/imdb.title.ratings.csv')\n",
    "movie_rating.head()"
   ]
  },
  {
   "cell_type": "code",
   "execution_count": 3,
   "id": "31be2e95",
   "metadata": {},
   "outputs": [
    {
     "data": {
      "text/plain": [
       "(73856, 3)"
      ]
     },
     "execution_count": 3,
     "metadata": {},
     "output_type": "execute_result"
    }
   ],
   "source": [
    "# Whats the shape of the dataset\n",
    "movie_rating.shape"
   ]
  },
  {
   "cell_type": "code",
   "execution_count": 4,
   "id": "54ae7ccc",
   "metadata": {},
   "outputs": [
    {
     "name": "stdout",
     "output_type": "stream",
     "text": [
      "<class 'pandas.core.frame.DataFrame'>\n",
      "RangeIndex: 73856 entries, 0 to 73855\n",
      "Data columns (total 3 columns):\n",
      " #   Column         Non-Null Count  Dtype  \n",
      "---  ------         --------------  -----  \n",
      " 0   tconst         73856 non-null  object \n",
      " 1   averagerating  73856 non-null  float64\n",
      " 2   numvotes       73856 non-null  int64  \n",
      "dtypes: float64(1), int64(1), object(1)\n",
      "memory usage: 1.7+ MB\n"
     ]
    }
   ],
   "source": [
    "# Check the data types of column and missing values\n",
    "movie_rating.info()"
   ]
  },
  {
   "cell_type": "code",
   "execution_count": 5,
   "id": "910a42ef",
   "metadata": {},
   "outputs": [
    {
     "data": {
      "text/plain": [
       "0        False\n",
       "1        False\n",
       "2        False\n",
       "3        False\n",
       "4        False\n",
       "         ...  \n",
       "73851    False\n",
       "73852    False\n",
       "73853    False\n",
       "73854    False\n",
       "73855    False\n",
       "Length: 73856, dtype: bool"
      ]
     },
     "execution_count": 5,
     "metadata": {},
     "output_type": "execute_result"
    }
   ],
   "source": [
    "# Check any duplicates in the dataset\n",
    "movie_rating.duplicated()"
   ]
  },
  {
   "cell_type": "markdown",
   "id": "50aefcee",
   "metadata": {},
   "source": [
    "The title rating dataset is clean with no duplicates, no missng values and all datatypes are relvant to each column as expected"
   ]
  },
  {
   "cell_type": "markdown",
   "id": "157e0dc0",
   "metadata": {},
   "source": [
    "##### Upload the title basics dataset and inspect it"
   ]
  },
  {
   "cell_type": "code",
   "execution_count": 6,
   "id": "544051ea",
   "metadata": {},
   "outputs": [
    {
     "data": {
      "text/html": [
       "<div>\n",
       "<style scoped>\n",
       "    .dataframe tbody tr th:only-of-type {\n",
       "        vertical-align: middle;\n",
       "    }\n",
       "\n",
       "    .dataframe tbody tr th {\n",
       "        vertical-align: top;\n",
       "    }\n",
       "\n",
       "    .dataframe thead th {\n",
       "        text-align: right;\n",
       "    }\n",
       "</style>\n",
       "<table border=\"1\" class=\"dataframe\">\n",
       "  <thead>\n",
       "    <tr style=\"text-align: right;\">\n",
       "      <th></th>\n",
       "      <th>tconst</th>\n",
       "      <th>primary_title</th>\n",
       "      <th>original_title</th>\n",
       "      <th>start_year</th>\n",
       "      <th>runtime_minutes</th>\n",
       "      <th>genres</th>\n",
       "    </tr>\n",
       "  </thead>\n",
       "  <tbody>\n",
       "    <tr>\n",
       "      <th>0</th>\n",
       "      <td>tt0063540</td>\n",
       "      <td>Sunghursh</td>\n",
       "      <td>Sunghursh</td>\n",
       "      <td>2013</td>\n",
       "      <td>175.0</td>\n",
       "      <td>Action,Crime,Drama</td>\n",
       "    </tr>\n",
       "    <tr>\n",
       "      <th>1</th>\n",
       "      <td>tt0066787</td>\n",
       "      <td>One Day Before the Rainy Season</td>\n",
       "      <td>Ashad Ka Ek Din</td>\n",
       "      <td>2019</td>\n",
       "      <td>114.0</td>\n",
       "      <td>Biography,Drama</td>\n",
       "    </tr>\n",
       "    <tr>\n",
       "      <th>2</th>\n",
       "      <td>tt0069049</td>\n",
       "      <td>The Other Side of the Wind</td>\n",
       "      <td>The Other Side of the Wind</td>\n",
       "      <td>2018</td>\n",
       "      <td>122.0</td>\n",
       "      <td>Drama</td>\n",
       "    </tr>\n",
       "    <tr>\n",
       "      <th>3</th>\n",
       "      <td>tt0069204</td>\n",
       "      <td>Sabse Bada Sukh</td>\n",
       "      <td>Sabse Bada Sukh</td>\n",
       "      <td>2018</td>\n",
       "      <td>NaN</td>\n",
       "      <td>Comedy,Drama</td>\n",
       "    </tr>\n",
       "    <tr>\n",
       "      <th>4</th>\n",
       "      <td>tt0100275</td>\n",
       "      <td>The Wandering Soap Opera</td>\n",
       "      <td>La Telenovela Errante</td>\n",
       "      <td>2017</td>\n",
       "      <td>80.0</td>\n",
       "      <td>Comedy,Drama,Fantasy</td>\n",
       "    </tr>\n",
       "  </tbody>\n",
       "</table>\n",
       "</div>"
      ],
      "text/plain": [
       "      tconst                    primary_title              original_title   \n",
       "0  tt0063540                        Sunghursh                   Sunghursh  \\\n",
       "1  tt0066787  One Day Before the Rainy Season             Ashad Ka Ek Din   \n",
       "2  tt0069049       The Other Side of the Wind  The Other Side of the Wind   \n",
       "3  tt0069204                  Sabse Bada Sukh             Sabse Bada Sukh   \n",
       "4  tt0100275         The Wandering Soap Opera       La Telenovela Errante   \n",
       "\n",
       "   start_year  runtime_minutes                genres  \n",
       "0        2013            175.0    Action,Crime,Drama  \n",
       "1        2019            114.0       Biography,Drama  \n",
       "2        2018            122.0                 Drama  \n",
       "3        2018              NaN          Comedy,Drama  \n",
       "4        2017             80.0  Comedy,Drama,Fantasy  "
      ]
     },
     "execution_count": 6,
     "metadata": {},
     "output_type": "execute_result"
    }
   ],
   "source": [
    "# Upload the imdb title basics\n",
    "movie_basics = pd.read_csv('data/imdb.title.basics.csv')\n",
    "movie_basics.head()"
   ]
  },
  {
   "cell_type": "code",
   "execution_count": 7,
   "id": "a3b6a2c7",
   "metadata": {},
   "outputs": [
    {
     "data": {
      "text/plain": [
       "(146144, 6)"
      ]
     },
     "execution_count": 7,
     "metadata": {},
     "output_type": "execute_result"
    }
   ],
   "source": [
    "#Check the shape\n",
    "movie_basics.shape #its quit a large dataset 😅"
   ]
  },
  {
   "cell_type": "code",
   "execution_count": 8,
   "id": "dfbf7524",
   "metadata": {},
   "outputs": [
    {
     "name": "stdout",
     "output_type": "stream",
     "text": [
      "<class 'pandas.core.frame.DataFrame'>\n",
      "RangeIndex: 146144 entries, 0 to 146143\n",
      "Data columns (total 6 columns):\n",
      " #   Column           Non-Null Count   Dtype  \n",
      "---  ------           --------------   -----  \n",
      " 0   tconst           146144 non-null  object \n",
      " 1   primary_title    146143 non-null  object \n",
      " 2   original_title   146122 non-null  object \n",
      " 3   start_year       146144 non-null  int64  \n",
      " 4   runtime_minutes  114405 non-null  float64\n",
      " 5   genres           140736 non-null  object \n",
      "dtypes: float64(1), int64(1), object(4)\n",
      "memory usage: 6.7+ MB\n"
     ]
    }
   ],
   "source": [
    "#Check the data types of the columns\n",
    "movie_basics.info()"
   ]
  },
  {
   "cell_type": "code",
   "execution_count": 9,
   "id": "42a0db73",
   "metadata": {},
   "outputs": [
    {
     "data": {
      "text/plain": [
       "0         False\n",
       "1         False\n",
       "2         False\n",
       "3         False\n",
       "4         False\n",
       "          ...  \n",
       "146139    False\n",
       "146140    False\n",
       "146141    False\n",
       "146142    False\n",
       "146143    False\n",
       "Length: 146144, dtype: bool"
      ]
     },
     "execution_count": 9,
     "metadata": {},
     "output_type": "execute_result"
    }
   ],
   "source": [
    "#Check for duplicates\n",
    "movie_basics.duplicated()"
   ]
  },
  {
   "cell_type": "markdown",
   "id": "9dcf83e0",
   "metadata": {},
   "source": [
    "##### Do an inner join of the two datasets"
   ]
  },
  {
   "cell_type": "code",
   "execution_count": 10,
   "id": "1fff8f21",
   "metadata": {
    "scrolled": true
   },
   "outputs": [
    {
     "data": {
      "text/html": [
       "<div>\n",
       "<style scoped>\n",
       "    .dataframe tbody tr th:only-of-type {\n",
       "        vertical-align: middle;\n",
       "    }\n",
       "\n",
       "    .dataframe tbody tr th {\n",
       "        vertical-align: top;\n",
       "    }\n",
       "\n",
       "    .dataframe thead th {\n",
       "        text-align: right;\n",
       "    }\n",
       "</style>\n",
       "<table border=\"1\" class=\"dataframe\">\n",
       "  <thead>\n",
       "    <tr style=\"text-align: right;\">\n",
       "      <th></th>\n",
       "      <th>tconst</th>\n",
       "      <th>averagerating</th>\n",
       "      <th>numvotes</th>\n",
       "      <th>primary_title</th>\n",
       "      <th>original_title</th>\n",
       "      <th>start_year</th>\n",
       "      <th>runtime_minutes</th>\n",
       "      <th>genres</th>\n",
       "    </tr>\n",
       "  </thead>\n",
       "  <tbody>\n",
       "    <tr>\n",
       "      <th>0</th>\n",
       "      <td>tt10356526</td>\n",
       "      <td>8.3</td>\n",
       "      <td>31</td>\n",
       "      <td>Laiye Je Yaarian</td>\n",
       "      <td>Laiye Je Yaarian</td>\n",
       "      <td>2019</td>\n",
       "      <td>117.0</td>\n",
       "      <td>Romance</td>\n",
       "    </tr>\n",
       "    <tr>\n",
       "      <th>1</th>\n",
       "      <td>tt10384606</td>\n",
       "      <td>8.9</td>\n",
       "      <td>559</td>\n",
       "      <td>Borderless</td>\n",
       "      <td>Borderless</td>\n",
       "      <td>2019</td>\n",
       "      <td>87.0</td>\n",
       "      <td>Documentary</td>\n",
       "    </tr>\n",
       "    <tr>\n",
       "      <th>2</th>\n",
       "      <td>tt1042974</td>\n",
       "      <td>6.4</td>\n",
       "      <td>20</td>\n",
       "      <td>Just Inès</td>\n",
       "      <td>Just Inès</td>\n",
       "      <td>2010</td>\n",
       "      <td>90.0</td>\n",
       "      <td>Drama</td>\n",
       "    </tr>\n",
       "    <tr>\n",
       "      <th>3</th>\n",
       "      <td>tt1043726</td>\n",
       "      <td>4.2</td>\n",
       "      <td>50352</td>\n",
       "      <td>The Legend of Hercules</td>\n",
       "      <td>The Legend of Hercules</td>\n",
       "      <td>2014</td>\n",
       "      <td>99.0</td>\n",
       "      <td>Action,Adventure,Fantasy</td>\n",
       "    </tr>\n",
       "    <tr>\n",
       "      <th>4</th>\n",
       "      <td>tt1060240</td>\n",
       "      <td>6.5</td>\n",
       "      <td>21</td>\n",
       "      <td>Até Onde?</td>\n",
       "      <td>Até Onde?</td>\n",
       "      <td>2011</td>\n",
       "      <td>73.0</td>\n",
       "      <td>Mystery,Thriller</td>\n",
       "    </tr>\n",
       "  </tbody>\n",
       "</table>\n",
       "</div>"
      ],
      "text/plain": [
       "       tconst  averagerating  numvotes           primary_title   \n",
       "0  tt10356526            8.3        31        Laiye Je Yaarian  \\\n",
       "1  tt10384606            8.9       559              Borderless   \n",
       "2   tt1042974            6.4        20               Just Inès   \n",
       "3   tt1043726            4.2     50352  The Legend of Hercules   \n",
       "4   tt1060240            6.5        21               Até Onde?   \n",
       "\n",
       "           original_title  start_year  runtime_minutes   \n",
       "0        Laiye Je Yaarian        2019            117.0  \\\n",
       "1              Borderless        2019             87.0   \n",
       "2               Just Inès        2010             90.0   \n",
       "3  The Legend of Hercules        2014             99.0   \n",
       "4               Até Onde?        2011             73.0   \n",
       "\n",
       "                     genres  \n",
       "0                   Romance  \n",
       "1               Documentary  \n",
       "2                     Drama  \n",
       "3  Action,Adventure,Fantasy  \n",
       "4          Mystery,Thriller  "
      ]
     },
     "execution_count": 10,
     "metadata": {},
     "output_type": "execute_result"
    }
   ],
   "source": [
    "#Do an inner join using merge on the tconst\n",
    "movie_rating_basics = movie_rating.merge(movie_basics, on='tconst')\n",
    "movie_rating_basics.head()"
   ]
  },
  {
   "cell_type": "code",
   "execution_count": 11,
   "id": "c178fdf0",
   "metadata": {},
   "outputs": [
    {
     "data": {
      "text/plain": [
       "(73856, 8)"
      ]
     },
     "execution_count": 11,
     "metadata": {},
     "output_type": "execute_result"
    }
   ],
   "source": [
    "# Inspecting the new dataset\n",
    "movie_rating_basics.shape"
   ]
  },
  {
   "cell_type": "code",
   "execution_count": 12,
   "id": "2518bce6",
   "metadata": {
    "scrolled": true
   },
   "outputs": [
    {
     "name": "stdout",
     "output_type": "stream",
     "text": [
      "<class 'pandas.core.frame.DataFrame'>\n",
      "RangeIndex: 73856 entries, 0 to 73855\n",
      "Data columns (total 8 columns):\n",
      " #   Column           Non-Null Count  Dtype  \n",
      "---  ------           --------------  -----  \n",
      " 0   tconst           73856 non-null  object \n",
      " 1   averagerating    73856 non-null  float64\n",
      " 2   numvotes         73856 non-null  int64  \n",
      " 3   primary_title    73856 non-null  object \n",
      " 4   original_title   73856 non-null  object \n",
      " 5   start_year       73856 non-null  int64  \n",
      " 6   runtime_minutes  66236 non-null  float64\n",
      " 7   genres           73052 non-null  object \n",
      "dtypes: float64(2), int64(2), object(4)\n",
      "memory usage: 4.5+ MB\n"
     ]
    }
   ],
   "source": [
    "# Datatypes\n",
    "movie_rating_basics.info()"
   ]
  },
  {
   "cell_type": "markdown",
   "id": "7c47194c",
   "metadata": {},
   "source": [
    "The dataypes are as ecpected the int, float and objects where needed"
   ]
  },
  {
   "cell_type": "code",
   "execution_count": 13,
   "id": "e67e6e79",
   "metadata": {},
   "outputs": [
    {
     "data": {
      "text/plain": [
       "tconst              0.000000\n",
       "averagerating       0.000000\n",
       "numvotes            0.000000\n",
       "primary_title       0.000000\n",
       "original_title      0.000000\n",
       "start_year          0.000000\n",
       "runtime_minutes    10.317374\n",
       "genres              1.088605\n",
       "dtype: float64"
      ]
     },
     "execution_count": 13,
     "metadata": {},
     "output_type": "execute_result"
    }
   ],
   "source": [
    "#Missing values and its percentage in the dataset\n",
    "movie_rating_basics.isna().mean()*100"
   ]
  },
  {
   "cell_type": "code",
   "execution_count": 14,
   "id": "7f073245",
   "metadata": {},
   "outputs": [],
   "source": [
    "#The low percentages of missing data will drop all columns with missning data\n",
    "movie_rating_basics.dropna(inplace=True) #Drop and apply on the dataset"
   ]
  },
  {
   "cell_type": "code",
   "execution_count": 15,
   "id": "4f568615",
   "metadata": {},
   "outputs": [
    {
     "data": {
      "text/html": [
       "<div>\n",
       "<style scoped>\n",
       "    .dataframe tbody tr th:only-of-type {\n",
       "        vertical-align: middle;\n",
       "    }\n",
       "\n",
       "    .dataframe tbody tr th {\n",
       "        vertical-align: top;\n",
       "    }\n",
       "\n",
       "    .dataframe thead th {\n",
       "        text-align: right;\n",
       "    }\n",
       "</style>\n",
       "<table border=\"1\" class=\"dataframe\">\n",
       "  <thead>\n",
       "    <tr style=\"text-align: right;\">\n",
       "      <th></th>\n",
       "      <th>tconst</th>\n",
       "      <th>averagerating</th>\n",
       "      <th>numvotes</th>\n",
       "      <th>primary_title</th>\n",
       "      <th>original_title</th>\n",
       "      <th>start_year</th>\n",
       "      <th>runtime_minutes</th>\n",
       "      <th>genres</th>\n",
       "    </tr>\n",
       "  </thead>\n",
       "  <tbody>\n",
       "    <tr>\n",
       "      <th>0</th>\n",
       "      <td>tt10356526</td>\n",
       "      <td>8.3</td>\n",
       "      <td>31</td>\n",
       "      <td>Laiye Je Yaarian</td>\n",
       "      <td>Laiye Je Yaarian</td>\n",
       "      <td>2019</td>\n",
       "      <td>117.0</td>\n",
       "      <td>Romance</td>\n",
       "    </tr>\n",
       "    <tr>\n",
       "      <th>1</th>\n",
       "      <td>tt10384606</td>\n",
       "      <td>8.9</td>\n",
       "      <td>559</td>\n",
       "      <td>Borderless</td>\n",
       "      <td>Borderless</td>\n",
       "      <td>2019</td>\n",
       "      <td>87.0</td>\n",
       "      <td>Documentary</td>\n",
       "    </tr>\n",
       "    <tr>\n",
       "      <th>2</th>\n",
       "      <td>tt1042974</td>\n",
       "      <td>6.4</td>\n",
       "      <td>20</td>\n",
       "      <td>Just Inès</td>\n",
       "      <td>Just Inès</td>\n",
       "      <td>2010</td>\n",
       "      <td>90.0</td>\n",
       "      <td>Drama</td>\n",
       "    </tr>\n",
       "    <tr>\n",
       "      <th>3</th>\n",
       "      <td>tt1043726</td>\n",
       "      <td>4.2</td>\n",
       "      <td>50352</td>\n",
       "      <td>The Legend of Hercules</td>\n",
       "      <td>The Legend of Hercules</td>\n",
       "      <td>2014</td>\n",
       "      <td>99.0</td>\n",
       "      <td>Action,Adventure,Fantasy</td>\n",
       "    </tr>\n",
       "    <tr>\n",
       "      <th>4</th>\n",
       "      <td>tt1060240</td>\n",
       "      <td>6.5</td>\n",
       "      <td>21</td>\n",
       "      <td>Até Onde?</td>\n",
       "      <td>Até Onde?</td>\n",
       "      <td>2011</td>\n",
       "      <td>73.0</td>\n",
       "      <td>Mystery,Thriller</td>\n",
       "    </tr>\n",
       "    <tr>\n",
       "      <th>...</th>\n",
       "      <td>...</td>\n",
       "      <td>...</td>\n",
       "      <td>...</td>\n",
       "      <td>...</td>\n",
       "      <td>...</td>\n",
       "      <td>...</td>\n",
       "      <td>...</td>\n",
       "      <td>...</td>\n",
       "    </tr>\n",
       "    <tr>\n",
       "      <th>73849</th>\n",
       "      <td>tt9768966</td>\n",
       "      <td>8.6</td>\n",
       "      <td>27</td>\n",
       "      <td>Plugged in</td>\n",
       "      <td>Plugged in</td>\n",
       "      <td>2019</td>\n",
       "      <td>53.0</td>\n",
       "      <td>Documentary</td>\n",
       "    </tr>\n",
       "    <tr>\n",
       "      <th>73851</th>\n",
       "      <td>tt9805820</td>\n",
       "      <td>8.1</td>\n",
       "      <td>25</td>\n",
       "      <td>Caisa</td>\n",
       "      <td>Caisa</td>\n",
       "      <td>2018</td>\n",
       "      <td>84.0</td>\n",
       "      <td>Documentary</td>\n",
       "    </tr>\n",
       "    <tr>\n",
       "      <th>73852</th>\n",
       "      <td>tt9844256</td>\n",
       "      <td>7.5</td>\n",
       "      <td>24</td>\n",
       "      <td>Code Geass: Lelouch of the Rebellion - Glorifi...</td>\n",
       "      <td>Code Geass: Lelouch of the Rebellion Episode III</td>\n",
       "      <td>2018</td>\n",
       "      <td>120.0</td>\n",
       "      <td>Action,Animation,Sci-Fi</td>\n",
       "    </tr>\n",
       "    <tr>\n",
       "      <th>73854</th>\n",
       "      <td>tt9886934</td>\n",
       "      <td>7.0</td>\n",
       "      <td>5</td>\n",
       "      <td>The Projectionist</td>\n",
       "      <td>The Projectionist</td>\n",
       "      <td>2019</td>\n",
       "      <td>81.0</td>\n",
       "      <td>Documentary</td>\n",
       "    </tr>\n",
       "    <tr>\n",
       "      <th>73855</th>\n",
       "      <td>tt9894098</td>\n",
       "      <td>6.3</td>\n",
       "      <td>128</td>\n",
       "      <td>Sathru</td>\n",
       "      <td>Sathru</td>\n",
       "      <td>2019</td>\n",
       "      <td>129.0</td>\n",
       "      <td>Thriller</td>\n",
       "    </tr>\n",
       "  </tbody>\n",
       "</table>\n",
       "<p>65720 rows × 8 columns</p>\n",
       "</div>"
      ],
      "text/plain": [
       "           tconst  averagerating  numvotes   \n",
       "0      tt10356526            8.3        31  \\\n",
       "1      tt10384606            8.9       559   \n",
       "2       tt1042974            6.4        20   \n",
       "3       tt1043726            4.2     50352   \n",
       "4       tt1060240            6.5        21   \n",
       "...           ...            ...       ...   \n",
       "73849   tt9768966            8.6        27   \n",
       "73851   tt9805820            8.1        25   \n",
       "73852   tt9844256            7.5        24   \n",
       "73854   tt9886934            7.0         5   \n",
       "73855   tt9894098            6.3       128   \n",
       "\n",
       "                                           primary_title   \n",
       "0                                       Laiye Je Yaarian  \\\n",
       "1                                             Borderless   \n",
       "2                                              Just Inès   \n",
       "3                                 The Legend of Hercules   \n",
       "4                                              Até Onde?   \n",
       "...                                                  ...   \n",
       "73849                                         Plugged in   \n",
       "73851                                              Caisa   \n",
       "73852  Code Geass: Lelouch of the Rebellion - Glorifi...   \n",
       "73854                                  The Projectionist   \n",
       "73855                                             Sathru   \n",
       "\n",
       "                                         original_title  start_year   \n",
       "0                                      Laiye Je Yaarian        2019  \\\n",
       "1                                            Borderless        2019   \n",
       "2                                             Just Inès        2010   \n",
       "3                                The Legend of Hercules        2014   \n",
       "4                                             Até Onde?        2011   \n",
       "...                                                 ...         ...   \n",
       "73849                                        Plugged in        2019   \n",
       "73851                                             Caisa        2018   \n",
       "73852  Code Geass: Lelouch of the Rebellion Episode III        2018   \n",
       "73854                                 The Projectionist        2019   \n",
       "73855                                            Sathru        2019   \n",
       "\n",
       "       runtime_minutes                    genres  \n",
       "0                117.0                   Romance  \n",
       "1                 87.0               Documentary  \n",
       "2                 90.0                     Drama  \n",
       "3                 99.0  Action,Adventure,Fantasy  \n",
       "4                 73.0          Mystery,Thriller  \n",
       "...                ...                       ...  \n",
       "73849             53.0               Documentary  \n",
       "73851             84.0               Documentary  \n",
       "73852            120.0   Action,Animation,Sci-Fi  \n",
       "73854             81.0               Documentary  \n",
       "73855            129.0                  Thriller  \n",
       "\n",
       "[65720 rows x 8 columns]"
      ]
     },
     "execution_count": 15,
     "metadata": {},
     "output_type": "execute_result"
    }
   ],
   "source": [
    "#the number of rows have dropped compared to the original dataset\n",
    "movie_rating_basics"
   ]
  },
  {
   "cell_type": "code",
   "execution_count": 16,
   "id": "9b573287",
   "metadata": {},
   "outputs": [
    {
     "data": {
      "text/plain": [
       "tconst             0\n",
       "averagerating      0\n",
       "numvotes           0\n",
       "primary_title      0\n",
       "original_title     0\n",
       "start_year         0\n",
       "runtime_minutes    0\n",
       "genres             0\n",
       "dtype: int64"
      ]
     },
     "execution_count": 16,
     "metadata": {},
     "output_type": "execute_result"
    }
   ],
   "source": [
    "#Check if it has no missing values\n",
    "movie_rating_basics.isna().sum()"
   ]
  },
  {
   "cell_type": "markdown",
   "id": "4f6182dd",
   "metadata": {},
   "source": [
    "The data is clean.\n",
    "###### Drop irrelevant columns to remain with relevant columns i.e genres, runtime_minutes, averagerating, num_votes and year"
   ]
  },
  {
   "cell_type": "code",
   "execution_count": 17,
   "id": "d3048a70",
   "metadata": {
    "scrolled": true
   },
   "outputs": [
    {
     "data": {
      "text/html": [
       "<div>\n",
       "<style scoped>\n",
       "    .dataframe tbody tr th:only-of-type {\n",
       "        vertical-align: middle;\n",
       "    }\n",
       "\n",
       "    .dataframe tbody tr th {\n",
       "        vertical-align: top;\n",
       "    }\n",
       "\n",
       "    .dataframe thead th {\n",
       "        text-align: right;\n",
       "    }\n",
       "</style>\n",
       "<table border=\"1\" class=\"dataframe\">\n",
       "  <thead>\n",
       "    <tr style=\"text-align: right;\">\n",
       "      <th></th>\n",
       "      <th>averagerating</th>\n",
       "      <th>numvotes</th>\n",
       "      <th>start_year</th>\n",
       "      <th>runtime_minutes</th>\n",
       "      <th>genres</th>\n",
       "    </tr>\n",
       "  </thead>\n",
       "  <tbody>\n",
       "    <tr>\n",
       "      <th>0</th>\n",
       "      <td>8.3</td>\n",
       "      <td>31</td>\n",
       "      <td>2019</td>\n",
       "      <td>117.0</td>\n",
       "      <td>Romance</td>\n",
       "    </tr>\n",
       "    <tr>\n",
       "      <th>1</th>\n",
       "      <td>8.9</td>\n",
       "      <td>559</td>\n",
       "      <td>2019</td>\n",
       "      <td>87.0</td>\n",
       "      <td>Documentary</td>\n",
       "    </tr>\n",
       "    <tr>\n",
       "      <th>2</th>\n",
       "      <td>6.4</td>\n",
       "      <td>20</td>\n",
       "      <td>2010</td>\n",
       "      <td>90.0</td>\n",
       "      <td>Drama</td>\n",
       "    </tr>\n",
       "    <tr>\n",
       "      <th>3</th>\n",
       "      <td>4.2</td>\n",
       "      <td>50352</td>\n",
       "      <td>2014</td>\n",
       "      <td>99.0</td>\n",
       "      <td>Action,Adventure,Fantasy</td>\n",
       "    </tr>\n",
       "    <tr>\n",
       "      <th>4</th>\n",
       "      <td>6.5</td>\n",
       "      <td>21</td>\n",
       "      <td>2011</td>\n",
       "      <td>73.0</td>\n",
       "      <td>Mystery,Thriller</td>\n",
       "    </tr>\n",
       "    <tr>\n",
       "      <th>...</th>\n",
       "      <td>...</td>\n",
       "      <td>...</td>\n",
       "      <td>...</td>\n",
       "      <td>...</td>\n",
       "      <td>...</td>\n",
       "    </tr>\n",
       "    <tr>\n",
       "      <th>73849</th>\n",
       "      <td>8.6</td>\n",
       "      <td>27</td>\n",
       "      <td>2019</td>\n",
       "      <td>53.0</td>\n",
       "      <td>Documentary</td>\n",
       "    </tr>\n",
       "    <tr>\n",
       "      <th>73851</th>\n",
       "      <td>8.1</td>\n",
       "      <td>25</td>\n",
       "      <td>2018</td>\n",
       "      <td>84.0</td>\n",
       "      <td>Documentary</td>\n",
       "    </tr>\n",
       "    <tr>\n",
       "      <th>73852</th>\n",
       "      <td>7.5</td>\n",
       "      <td>24</td>\n",
       "      <td>2018</td>\n",
       "      <td>120.0</td>\n",
       "      <td>Action,Animation,Sci-Fi</td>\n",
       "    </tr>\n",
       "    <tr>\n",
       "      <th>73854</th>\n",
       "      <td>7.0</td>\n",
       "      <td>5</td>\n",
       "      <td>2019</td>\n",
       "      <td>81.0</td>\n",
       "      <td>Documentary</td>\n",
       "    </tr>\n",
       "    <tr>\n",
       "      <th>73855</th>\n",
       "      <td>6.3</td>\n",
       "      <td>128</td>\n",
       "      <td>2019</td>\n",
       "      <td>129.0</td>\n",
       "      <td>Thriller</td>\n",
       "    </tr>\n",
       "  </tbody>\n",
       "</table>\n",
       "<p>65720 rows × 5 columns</p>\n",
       "</div>"
      ],
      "text/plain": [
       "       averagerating  numvotes  start_year  runtime_minutes   \n",
       "0                8.3        31        2019            117.0  \\\n",
       "1                8.9       559        2019             87.0   \n",
       "2                6.4        20        2010             90.0   \n",
       "3                4.2     50352        2014             99.0   \n",
       "4                6.5        21        2011             73.0   \n",
       "...              ...       ...         ...              ...   \n",
       "73849            8.6        27        2019             53.0   \n",
       "73851            8.1        25        2018             84.0   \n",
       "73852            7.5        24        2018            120.0   \n",
       "73854            7.0         5        2019             81.0   \n",
       "73855            6.3       128        2019            129.0   \n",
       "\n",
       "                         genres  \n",
       "0                       Romance  \n",
       "1                   Documentary  \n",
       "2                         Drama  \n",
       "3      Action,Adventure,Fantasy  \n",
       "4              Mystery,Thriller  \n",
       "...                         ...  \n",
       "73849               Documentary  \n",
       "73851               Documentary  \n",
       "73852   Action,Animation,Sci-Fi  \n",
       "73854               Documentary  \n",
       "73855                  Thriller  \n",
       "\n",
       "[65720 rows x 5 columns]"
      ]
     },
     "execution_count": 17,
     "metadata": {},
     "output_type": "execute_result"
    }
   ],
   "source": [
    "movie_rating_basics = movie_rating_basics.drop(labels = ['tconst','primary_title', 'original_title'],\n",
    "                                               axis=1)\n",
    "movie_rating_basics"
   ]
  },
  {
   "cell_type": "markdown",
   "id": "157e198c",
   "metadata": {},
   "source": [
    "#### Explore the dataset\n",
    "- To get a better understanding of the rating we will slice the dataset to have a dataset with number of votes be greater than or equal to 100000. \n",
    "#### Why 100000\n",
    "- It is a resonable number to use to have a realistic averagerating, and if this is the average number of people who voted then lot more watched than the 50000. Moreover, the main reason is to get a better understanding of the genre of the movie and people who took time to rate it."
   ]
  },
  {
   "cell_type": "code",
   "execution_count": 18,
   "id": "560195d4",
   "metadata": {},
   "outputs": [],
   "source": [
    "movie_rating_basics_slice = movie_rating_basics[movie_rating_basics['numvotes'] >= 100000]"
   ]
  },
  {
   "cell_type": "code",
   "execution_count": 19,
   "id": "2ddfd1ab",
   "metadata": {
    "scrolled": true
   },
   "outputs": [
    {
     "data": {
      "text/html": [
       "<div>\n",
       "<style scoped>\n",
       "    .dataframe tbody tr th:only-of-type {\n",
       "        vertical-align: middle;\n",
       "    }\n",
       "\n",
       "    .dataframe tbody tr th {\n",
       "        vertical-align: top;\n",
       "    }\n",
       "\n",
       "    .dataframe thead th {\n",
       "        text-align: right;\n",
       "    }\n",
       "</style>\n",
       "<table border=\"1\" class=\"dataframe\">\n",
       "  <thead>\n",
       "    <tr style=\"text-align: right;\">\n",
       "      <th></th>\n",
       "      <th>averagerating</th>\n",
       "      <th>numvotes</th>\n",
       "      <th>start_year</th>\n",
       "      <th>runtime_minutes</th>\n",
       "      <th>genres</th>\n",
       "    </tr>\n",
       "  </thead>\n",
       "  <tbody>\n",
       "    <tr>\n",
       "      <th>16</th>\n",
       "      <td>7.6</td>\n",
       "      <td>326657</td>\n",
       "      <td>2011</td>\n",
       "      <td>133.0</td>\n",
       "      <td>Biography,Drama,Sport</td>\n",
       "    </tr>\n",
       "    <tr>\n",
       "      <th>19</th>\n",
       "      <td>7.4</td>\n",
       "      <td>428142</td>\n",
       "      <td>2011</td>\n",
       "      <td>132.0</td>\n",
       "      <td>Action,Adventure,Thriller</td>\n",
       "    </tr>\n",
       "    <tr>\n",
       "      <th>20</th>\n",
       "      <td>7.2</td>\n",
       "      <td>477771</td>\n",
       "      <td>2012</td>\n",
       "      <td>109.0</td>\n",
       "      <td>Action,Comedy,Crime</td>\n",
       "    </tr>\n",
       "    <tr>\n",
       "      <th>59</th>\n",
       "      <td>7.1</td>\n",
       "      <td>129443</td>\n",
       "      <td>2010</td>\n",
       "      <td>113.0</td>\n",
       "      <td>Drama,Romance</td>\n",
       "    </tr>\n",
       "    <tr>\n",
       "      <th>89</th>\n",
       "      <td>6.9</td>\n",
       "      <td>398695</td>\n",
       "      <td>2011</td>\n",
       "      <td>98.0</td>\n",
       "      <td>Comedy,Crime</td>\n",
       "    </tr>\n",
       "    <tr>\n",
       "      <th>...</th>\n",
       "      <td>...</td>\n",
       "      <td>...</td>\n",
       "      <td>...</td>\n",
       "      <td>...</td>\n",
       "      <td>...</td>\n",
       "    </tr>\n",
       "    <tr>\n",
       "      <th>72563</th>\n",
       "      <td>4.1</td>\n",
       "      <td>137734</td>\n",
       "      <td>2010</td>\n",
       "      <td>103.0</td>\n",
       "      <td>Action,Adventure,Family</td>\n",
       "    </tr>\n",
       "    <tr>\n",
       "      <th>72569</th>\n",
       "      <td>6.3</td>\n",
       "      <td>129663</td>\n",
       "      <td>2010</td>\n",
       "      <td>113.0</td>\n",
       "      <td>Adventure,Family,Fantasy</td>\n",
       "    </tr>\n",
       "    <tr>\n",
       "      <th>72597</th>\n",
       "      <td>7.6</td>\n",
       "      <td>175968</td>\n",
       "      <td>2011</td>\n",
       "      <td>101.0</td>\n",
       "      <td>Action,Thriller</td>\n",
       "    </tr>\n",
       "    <tr>\n",
       "      <th>72913</th>\n",
       "      <td>6.1</td>\n",
       "      <td>156432</td>\n",
       "      <td>2014</td>\n",
       "      <td>126.0</td>\n",
       "      <td>Action,Adventure,Thriller</td>\n",
       "    </tr>\n",
       "    <tr>\n",
       "      <th>73118</th>\n",
       "      <td>7.0</td>\n",
       "      <td>163279</td>\n",
       "      <td>2018</td>\n",
       "      <td>100.0</td>\n",
       "      <td>Action,Comedy,Crime</td>\n",
       "    </tr>\n",
       "  </tbody>\n",
       "</table>\n",
       "<p>618 rows × 5 columns</p>\n",
       "</div>"
      ],
      "text/plain": [
       "       averagerating  numvotes  start_year  runtime_minutes   \n",
       "16               7.6    326657        2011            133.0  \\\n",
       "19               7.4    428142        2011            132.0   \n",
       "20               7.2    477771        2012            109.0   \n",
       "59               7.1    129443        2010            113.0   \n",
       "89               6.9    398695        2011             98.0   \n",
       "...              ...       ...         ...              ...   \n",
       "72563            4.1    137734        2010            103.0   \n",
       "72569            6.3    129663        2010            113.0   \n",
       "72597            7.6    175968        2011            101.0   \n",
       "72913            6.1    156432        2014            126.0   \n",
       "73118            7.0    163279        2018            100.0   \n",
       "\n",
       "                          genres  \n",
       "16         Biography,Drama,Sport  \n",
       "19     Action,Adventure,Thriller  \n",
       "20           Action,Comedy,Crime  \n",
       "59                 Drama,Romance  \n",
       "89                  Comedy,Crime  \n",
       "...                          ...  \n",
       "72563    Action,Adventure,Family  \n",
       "72569   Adventure,Family,Fantasy  \n",
       "72597            Action,Thriller  \n",
       "72913  Action,Adventure,Thriller  \n",
       "73118        Action,Comedy,Crime  \n",
       "\n",
       "[618 rows x 5 columns]"
      ]
     },
     "execution_count": 19,
     "metadata": {},
     "output_type": "execute_result"
    }
   ],
   "source": [
    "movie_rating_basics_slice"
   ]
  },
  {
   "cell_type": "markdown",
   "id": "fb2b9658",
   "metadata": {},
   "source": [
    "##### Normalize the dataset.\n",
    "For easy visualization and working with the resonable range will normalize the dataset. The min - max scaling feature will be used to normalize the column"
   ]
  },
  {
   "cell_type": "code",
   "execution_count": 20,
   "id": "e386d48f",
   "metadata": {},
   "outputs": [],
   "source": [
    "# # normalized_df=(df-df.min())/(df.max()-df.min())\n",
    "# movie_rating_basics_slice['numvotes'] = ((movie_rating_basics_slice['numvotes'] - \n",
    "#                                           movie_rating_basics_slice['numvotes'].min())/\n",
    "#                                          (movie_rating_basics_slice['numvotes'].max()-\n",
    "#                                          movie_rating_basics_slice['numvotes'].min()))\n",
    "# movie_rating_basics_slice"
   ]
  },
  {
   "cell_type": "code",
   "execution_count": 21,
   "id": "375e94e3",
   "metadata": {
    "scrolled": false
   },
   "outputs": [
    {
     "name": "stdout",
     "output_type": "stream",
     "text": [
      "<class 'pandas.core.frame.DataFrame'>\n",
      "Index: 618 entries, 16 to 73118\n",
      "Data columns (total 5 columns):\n",
      " #   Column           Non-Null Count  Dtype  \n",
      "---  ------           --------------  -----  \n",
      " 0   averagerating    618 non-null    float64\n",
      " 1   numvotes         618 non-null    int64  \n",
      " 2   start_year       618 non-null    int64  \n",
      " 3   runtime_minutes  618 non-null    float64\n",
      " 4   genres           618 non-null    object \n",
      "dtypes: float64(2), int64(2), object(1)\n",
      "memory usage: 29.0+ KB\n"
     ]
    }
   ],
   "source": [
    "movie_rating_basics_slice.info()"
   ]
  },
  {
   "cell_type": "code",
   "execution_count": 22,
   "id": "a78f9529",
   "metadata": {},
   "outputs": [
    {
     "name": "stdout",
     "output_type": "stream",
     "text": [
      "<class 'pandas.core.frame.DataFrame'>\n",
      "Index: 618 entries, 16 to 73118\n",
      "Data columns (total 5 columns):\n",
      " #   Column           Non-Null Count  Dtype  \n",
      "---  ------           --------------  -----  \n",
      " 0   averagerating    618 non-null    float64\n",
      " 1   numvotes         618 non-null    int64  \n",
      " 2   start_year       618 non-null    int64  \n",
      " 3   runtime_minutes  618 non-null    float64\n",
      " 4   genres           618 non-null    object \n",
      "dtypes: float64(2), int64(2), object(1)\n",
      "memory usage: 29.0+ KB\n"
     ]
    }
   ],
   "source": [
    "movie_rating_basics_slice.info()"
   ]
  },
  {
   "cell_type": "markdown",
   "id": "c62e3b9c",
   "metadata": {},
   "source": [
    "###### Inspet each column to check any unique trait"
   ]
  },
  {
   "cell_type": "code",
   "execution_count": 23,
   "id": "cdec6f96",
   "metadata": {},
   "outputs": [
    {
     "data": {
      "text/html": [
       "<div>\n",
       "<style scoped>\n",
       "    .dataframe tbody tr th:only-of-type {\n",
       "        vertical-align: middle;\n",
       "    }\n",
       "\n",
       "    .dataframe tbody tr th {\n",
       "        vertical-align: top;\n",
       "    }\n",
       "\n",
       "    .dataframe thead th {\n",
       "        text-align: right;\n",
       "    }\n",
       "</style>\n",
       "<table border=\"1\" class=\"dataframe\">\n",
       "  <thead>\n",
       "    <tr style=\"text-align: right;\">\n",
       "      <th></th>\n",
       "      <th>averagerating</th>\n",
       "      <th>numvotes</th>\n",
       "      <th>start_year</th>\n",
       "      <th>runtime_minutes</th>\n",
       "    </tr>\n",
       "  </thead>\n",
       "  <tbody>\n",
       "    <tr>\n",
       "      <th>count</th>\n",
       "      <td>618.000000</td>\n",
       "      <td>6.180000e+02</td>\n",
       "      <td>618.000000</td>\n",
       "      <td>618.000000</td>\n",
       "    </tr>\n",
       "    <tr>\n",
       "      <th>mean</th>\n",
       "      <td>6.955340</td>\n",
       "      <td>2.621874e+05</td>\n",
       "      <td>2013.555016</td>\n",
       "      <td>116.592233</td>\n",
       "    </tr>\n",
       "    <tr>\n",
       "      <th>std</th>\n",
       "      <td>0.773013</td>\n",
       "      <td>1.915327e+05</td>\n",
       "      <td>2.413035</td>\n",
       "      <td>17.709031</td>\n",
       "    </tr>\n",
       "    <tr>\n",
       "      <th>min</th>\n",
       "      <td>4.100000</td>\n",
       "      <td>1.003180e+05</td>\n",
       "      <td>2010.000000</td>\n",
       "      <td>80.000000</td>\n",
       "    </tr>\n",
       "    <tr>\n",
       "      <th>25%</th>\n",
       "      <td>6.400000</td>\n",
       "      <td>1.359272e+05</td>\n",
       "      <td>2011.250000</td>\n",
       "      <td>104.000000</td>\n",
       "    </tr>\n",
       "    <tr>\n",
       "      <th>50%</th>\n",
       "      <td>7.000000</td>\n",
       "      <td>1.980145e+05</td>\n",
       "      <td>2013.000000</td>\n",
       "      <td>115.000000</td>\n",
       "    </tr>\n",
       "    <tr>\n",
       "      <th>75%</th>\n",
       "      <td>7.500000</td>\n",
       "      <td>3.258420e+05</td>\n",
       "      <td>2016.000000</td>\n",
       "      <td>128.000000</td>\n",
       "    </tr>\n",
       "    <tr>\n",
       "      <th>max</th>\n",
       "      <td>9.300000</td>\n",
       "      <td>1.841066e+06</td>\n",
       "      <td>2019.000000</td>\n",
       "      <td>181.000000</td>\n",
       "    </tr>\n",
       "  </tbody>\n",
       "</table>\n",
       "</div>"
      ],
      "text/plain": [
       "       averagerating      numvotes   start_year  runtime_minutes\n",
       "count     618.000000  6.180000e+02   618.000000       618.000000\n",
       "mean        6.955340  2.621874e+05  2013.555016       116.592233\n",
       "std         0.773013  1.915327e+05     2.413035        17.709031\n",
       "min         4.100000  1.003180e+05  2010.000000        80.000000\n",
       "25%         6.400000  1.359272e+05  2011.250000       104.000000\n",
       "50%         7.000000  1.980145e+05  2013.000000       115.000000\n",
       "75%         7.500000  3.258420e+05  2016.000000       128.000000\n",
       "max         9.300000  1.841066e+06  2019.000000       181.000000"
      ]
     },
     "execution_count": 23,
     "metadata": {},
     "output_type": "execute_result"
    }
   ],
   "source": [
    "# Describe the dataset\n",
    "movie_rating_basics_slice.describe()"
   ]
  },
  {
   "cell_type": "code",
   "execution_count": 24,
   "id": "5fd56080",
   "metadata": {},
   "outputs": [
    {
     "data": {
      "text/plain": [
       "start_year\n",
       "2013    94\n",
       "2011    83\n",
       "2014    81\n",
       "2012    73\n",
       "2010    72\n",
       "2016    69\n",
       "2015    58\n",
       "2017    51\n",
       "2018    32\n",
       "2019     5\n",
       "Name: count, dtype: int64"
      ]
     },
     "execution_count": 24,
     "metadata": {},
     "output_type": "execute_result"
    }
   ],
   "source": [
    "#Inspect the start_year\n",
    "#To check the unique years\n",
    "movie_rating_basics_slice['start_year'].value_counts()"
   ]
  },
  {
   "cell_type": "markdown",
   "id": "8009e98f",
   "metadata": {},
   "source": [
    "##### Checking for outliers in averagerating and num_votes"
   ]
  },
  {
   "cell_type": "code",
   "execution_count": 25,
   "id": "5230bc54",
   "metadata": {},
   "outputs": [
    {
     "data": {
      "image/png": "[encoded data removed]",
      "text/plain": [
       "<Figure size 640x480 with 1 Axes>"
      ]
     },
     "metadata": {},
     "output_type": "display_data"
    }
   ],
   "source": [
    "movie_rating_basics_slice.boxplot(column = ['averagerating']);"
   ]
  },
  {
   "cell_type": "code",
   "execution_count": 41,
   "id": "ec40320e",
   "metadata": {},
   "outputs": [
    {
     "data": {
      "image/png": "[encoded data removed]",
      "text/plain": [
       "<Figure size 640x480 with 1 Axes>"
      ]
     },
     "metadata": {},
     "output_type": "display_data"
    }
   ],
   "source": [
    "movie_rating_basics_slice.boxplot(column = ['averagerating']);"
   ]
  },
  {
   "cell_type": "markdown",
   "id": "0d841a0f",
   "metadata": {},
   "source": [
    "#### Number of votes with genre\n",
    "Using a bargraph to see the distibution of the genre with high num of votes "
   ]
  },
  {
   "cell_type": "code",
   "execution_count": 27,
   "id": "6e7e0762",
   "metadata": {},
   "outputs": [
    {
     "data": {
      "text/html": [
       "<div>\n",
       "<style scoped>\n",
       "    .dataframe tbody tr th:only-of-type {\n",
       "        vertical-align: middle;\n",
       "    }\n",
       "\n",
       "    .dataframe tbody tr th {\n",
       "        vertical-align: top;\n",
       "    }\n",
       "\n",
       "    .dataframe thead th {\n",
       "        text-align: right;\n",
       "    }\n",
       "</style>\n",
       "<table border=\"1\" class=\"dataframe\">\n",
       "  <thead>\n",
       "    <tr style=\"text-align: right;\">\n",
       "      <th></th>\n",
       "      <th>averagerating</th>\n",
       "      <th>numvotes</th>\n",
       "      <th>start_year</th>\n",
       "      <th>runtime_minutes</th>\n",
       "      <th>genres</th>\n",
       "    </tr>\n",
       "  </thead>\n",
       "  <tbody>\n",
       "    <tr>\n",
       "      <th>16</th>\n",
       "      <td>7.6</td>\n",
       "      <td>326657</td>\n",
       "      <td>2011</td>\n",
       "      <td>133.0</td>\n",
       "      <td>Biography,Drama,Sport</td>\n",
       "    </tr>\n",
       "    <tr>\n",
       "      <th>19</th>\n",
       "      <td>7.4</td>\n",
       "      <td>428142</td>\n",
       "      <td>2011</td>\n",
       "      <td>132.0</td>\n",
       "      <td>Action,Adventure,Thriller</td>\n",
       "    </tr>\n",
       "    <tr>\n",
       "      <th>20</th>\n",
       "      <td>7.2</td>\n",
       "      <td>477771</td>\n",
       "      <td>2012</td>\n",
       "      <td>109.0</td>\n",
       "      <td>Action,Comedy,Crime</td>\n",
       "    </tr>\n",
       "    <tr>\n",
       "      <th>59</th>\n",
       "      <td>7.1</td>\n",
       "      <td>129443</td>\n",
       "      <td>2010</td>\n",
       "      <td>113.0</td>\n",
       "      <td>Drama,Romance</td>\n",
       "    </tr>\n",
       "    <tr>\n",
       "      <th>89</th>\n",
       "      <td>6.9</td>\n",
       "      <td>398695</td>\n",
       "      <td>2011</td>\n",
       "      <td>98.0</td>\n",
       "      <td>Comedy,Crime</td>\n",
       "    </tr>\n",
       "  </tbody>\n",
       "</table>\n",
       "</div>"
      ],
      "text/plain": [
       "    averagerating  numvotes  start_year  runtime_minutes   \n",
       "16            7.6    326657        2011            133.0  \\\n",
       "19            7.4    428142        2011            132.0   \n",
       "20            7.2    477771        2012            109.0   \n",
       "59            7.1    129443        2010            113.0   \n",
       "89            6.9    398695        2011             98.0   \n",
       "\n",
       "                       genres  \n",
       "16      Biography,Drama,Sport  \n",
       "19  Action,Adventure,Thriller  \n",
       "20        Action,Comedy,Crime  \n",
       "59              Drama,Romance  \n",
       "89               Comedy,Crime  "
      ]
     },
     "execution_count": 27,
     "metadata": {},
     "output_type": "execute_result"
    }
   ],
   "source": [
    "movie_rating_basics_slice.head()"
   ]
  },
  {
   "cell_type": "code",
   "execution_count": 37,
   "id": "5f2fbdd6",
   "metadata": {
    "scrolled": true
   },
   "outputs": [
    {
     "data": {
      "image/png": "[encoded data removed]",
      "text/plain": [
       "<Figure size 1000x600 with 1 Axes>"
      ]
     },
     "metadata": {},
     "output_type": "display_data"
    }
   ],
   "source": [
    "plt.figure(figsize=(10,6))\n",
    "sns.barplot(x = 'genres', y = 'numvotes', data=movie_rating_basics_slice);"
   ]
  },
  {
   "cell_type": "code",
   "execution_count": 29,
   "id": "88bd8fcd",
   "metadata": {},
   "outputs": [
    {
     "data": {
      "text/plain": [
       "genres\n",
       "Action,Adventure,Sci-Fi       50\n",
       "Action,Adventure,Fantasy      28\n",
       "Adventure,Animation,Comedy    22\n",
       "Action,Adventure,Comedy       18\n",
       "Action,Comedy,Crime           17\n",
       "                              ..\n",
       "Adventure,Mystery,Sci-Fi       1\n",
       "Drama,Music,Romance            1\n",
       "Comedy,Sci-Fi                  1\n",
       "Family,Fantasy,Musical         1\n",
       "Drama,History,War              1\n",
       "Name: count, Length: 146, dtype: int64"
      ]
     },
     "execution_count": 29,
     "metadata": {},
     "output_type": "execute_result"
    }
   ],
   "source": [
    "movie_rating_basics_slice['genres'].value_counts()"
   ]
  },
  {
   "cell_type": "markdown",
   "id": "0751e75e",
   "metadata": {},
   "source": [
    "#### Slice further the dataset\n",
    "Its had to determing which genre is best because the genre has 146 unique inputs. Will slice the genre column and get the dataset with the top 10 most appreaing genre and compare them with the number of votes"
   ]
  },
  {
   "cell_type": "code",
   "execution_count": 30,
   "id": "88950384",
   "metadata": {},
   "outputs": [
    {
     "name": "stdout",
     "output_type": "stream",
     "text": [
      "The top genre are: \n",
      " ['Action,Adventure,Sci-Fi', 'Action,Adventure,Fantasy', 'Adventure,Animation,Comedy', 'Action,Adventure,Comedy', 'Action,Comedy,Crime', 'Comedy,Drama,Romance', 'Action,Crime,Thriller', 'Action,Adventure,Drama', 'Drama', 'Comedy']\n",
      "The top genre appreances are: \n",
      " [50, 28, 22, 18, 17, 16, 16, 16, 15, 14]\n"
     ]
    }
   ],
   "source": [
    "#Get the top 10 genre\n",
    "top_10_genre = movie_rating_basics_slice['genres'].value_counts().index[:10].tolist()\n",
    "top_10_genre_appearances = movie_rating_basics_slice['genres'].value_counts().values[:10].tolist()\n",
    "print(\"The top genre are: \\n\", top_10_genre)\n",
    "print(\"The top genre appreances are: \\n\", top_10_genre_appearances)"
   ]
  },
  {
   "cell_type": "code",
   "execution_count": 31,
   "id": "f307f961",
   "metadata": {},
   "outputs": [
    {
     "data": {
      "text/html": [
       "<div>\n",
       "<style scoped>\n",
       "    .dataframe tbody tr th:only-of-type {\n",
       "        vertical-align: middle;\n",
       "    }\n",
       "\n",
       "    .dataframe tbody tr th {\n",
       "        vertical-align: top;\n",
       "    }\n",
       "\n",
       "    .dataframe thead th {\n",
       "        text-align: right;\n",
       "    }\n",
       "</style>\n",
       "<table border=\"1\" class=\"dataframe\">\n",
       "  <thead>\n",
       "    <tr style=\"text-align: right;\">\n",
       "      <th></th>\n",
       "      <th>averagerating</th>\n",
       "      <th>numvotes</th>\n",
       "      <th>start_year</th>\n",
       "      <th>runtime_minutes</th>\n",
       "      <th>genres</th>\n",
       "    </tr>\n",
       "  </thead>\n",
       "  <tbody>\n",
       "    <tr>\n",
       "      <th>20</th>\n",
       "      <td>7.2</td>\n",
       "      <td>477771</td>\n",
       "      <td>2012</td>\n",
       "      <td>109.0</td>\n",
       "      <td>Action,Comedy,Crime</td>\n",
       "    </tr>\n",
       "    <tr>\n",
       "      <th>228</th>\n",
       "      <td>7.1</td>\n",
       "      <td>133887</td>\n",
       "      <td>2013</td>\n",
       "      <td>95.0</td>\n",
       "      <td>Comedy,Drama,Romance</td>\n",
       "    </tr>\n",
       "    <tr>\n",
       "      <th>330</th>\n",
       "      <td>6.7</td>\n",
       "      <td>167680</td>\n",
       "      <td>2010</td>\n",
       "      <td>112.0</td>\n",
       "      <td>Comedy,Drama,Romance</td>\n",
       "    </tr>\n",
       "    <tr>\n",
       "      <th>339</th>\n",
       "      <td>6.6</td>\n",
       "      <td>182320</td>\n",
       "      <td>2010</td>\n",
       "      <td>105.0</td>\n",
       "      <td>Action,Crime,Thriller</td>\n",
       "    </tr>\n",
       "    <tr>\n",
       "      <th>760</th>\n",
       "      <td>7.0</td>\n",
       "      <td>657690</td>\n",
       "      <td>2010</td>\n",
       "      <td>124.0</td>\n",
       "      <td>Action,Adventure,Sci-Fi</td>\n",
       "    </tr>\n",
       "    <tr>\n",
       "      <th>...</th>\n",
       "      <td>...</td>\n",
       "      <td>...</td>\n",
       "      <td>...</td>\n",
       "      <td>...</td>\n",
       "      <td>...</td>\n",
       "    </tr>\n",
       "    <tr>\n",
       "      <th>71537</th>\n",
       "      <td>6.3</td>\n",
       "      <td>110824</td>\n",
       "      <td>2011</td>\n",
       "      <td>101.0</td>\n",
       "      <td>Action,Adventure,Comedy</td>\n",
       "    </tr>\n",
       "    <tr>\n",
       "      <th>71702</th>\n",
       "      <td>4.8</td>\n",
       "      <td>181687</td>\n",
       "      <td>2013</td>\n",
       "      <td>100.0</td>\n",
       "      <td>Action,Adventure,Drama</td>\n",
       "    </tr>\n",
       "    <tr>\n",
       "      <th>71879</th>\n",
       "      <td>8.5</td>\n",
       "      <td>670926</td>\n",
       "      <td>2018</td>\n",
       "      <td>149.0</td>\n",
       "      <td>Action,Adventure,Sci-Fi</td>\n",
       "    </tr>\n",
       "    <tr>\n",
       "      <th>71946</th>\n",
       "      <td>7.5</td>\n",
       "      <td>290053</td>\n",
       "      <td>2017</td>\n",
       "      <td>122.0</td>\n",
       "      <td>Action,Crime,Thriller</td>\n",
       "    </tr>\n",
       "    <tr>\n",
       "      <th>73118</th>\n",
       "      <td>7.0</td>\n",
       "      <td>163279</td>\n",
       "      <td>2018</td>\n",
       "      <td>100.0</td>\n",
       "      <td>Action,Comedy,Crime</td>\n",
       "    </tr>\n",
       "  </tbody>\n",
       "</table>\n",
       "<p>212 rows × 5 columns</p>\n",
       "</div>"
      ],
      "text/plain": [
       "       averagerating  numvotes  start_year  runtime_minutes   \n",
       "20               7.2    477771        2012            109.0  \\\n",
       "228              7.1    133887        2013             95.0   \n",
       "330              6.7    167680        2010            112.0   \n",
       "339              6.6    182320        2010            105.0   \n",
       "760              7.0    657690        2010            124.0   \n",
       "...              ...       ...         ...              ...   \n",
       "71537            6.3    110824        2011            101.0   \n",
       "71702            4.8    181687        2013            100.0   \n",
       "71879            8.5    670926        2018            149.0   \n",
       "71946            7.5    290053        2017            122.0   \n",
       "73118            7.0    163279        2018            100.0   \n",
       "\n",
       "                        genres  \n",
       "20         Action,Comedy,Crime  \n",
       "228       Comedy,Drama,Romance  \n",
       "330       Comedy,Drama,Romance  \n",
       "339      Action,Crime,Thriller  \n",
       "760    Action,Adventure,Sci-Fi  \n",
       "...                        ...  \n",
       "71537  Action,Adventure,Comedy  \n",
       "71702   Action,Adventure,Drama  \n",
       "71879  Action,Adventure,Sci-Fi  \n",
       "71946    Action,Crime,Thriller  \n",
       "73118      Action,Comedy,Crime  \n",
       "\n",
       "[212 rows x 5 columns]"
      ]
     },
     "execution_count": 31,
     "metadata": {},
     "output_type": "execute_result"
    }
   ],
   "source": [
    "#Create a new dataset with the top 10 genre only\n",
    "top_movie_genre = movie_rating_basics_slice.loc[movie_rating_basics_slice['genres'].isin(top_10_genre)]\n",
    "top_movie_genre"
   ]
  },
  {
   "cell_type": "code",
   "execution_count": 36,
   "id": "44d0490f",
   "metadata": {
    "scrolled": true
   },
   "outputs": [
    {
     "data": {
      "text/plain": [
       "<Axes: xlabel='genres', ylabel='numvotes'>"
      ]
     },
     "execution_count": 36,
     "metadata": {},
     "output_type": "execute_result"
    },
    {
     "data": {
      "image/png": "[encoded data removed]",
      "text/plain": [
       "<Figure size 1000x600 with 1 Axes>"
      ]
     },
     "metadata": {},
     "output_type": "display_data"
    }
   ],
   "source": [
    "plt.figure(figsize=(10,6))\n",
    "sns.barplot(x = 'genres', y = 'numvotes', data=top_movie_genre)"
   ]
  },
  {
   "cell_type": "markdown",
   "id": "9258a7de",
   "metadata": {},
   "source": [
    "#### Grouping the new dataset to get a better understanding\n",
    "Group the top_movie_genre using genre to only have the top 10 genre and find the mean of the grouped number of votes"
   ]
  },
  {
   "cell_type": "code",
   "execution_count": 33,
   "id": "1e8f7def",
   "metadata": {
    "scrolled": true
   },
   "outputs": [
    {
     "data": {
      "text/html": [
       "<div>\n",
       "<style scoped>\n",
       "    .dataframe tbody tr th:only-of-type {\n",
       "        vertical-align: middle;\n",
       "    }\n",
       "\n",
       "    .dataframe tbody tr th {\n",
       "        vertical-align: top;\n",
       "    }\n",
       "\n",
       "    .dataframe thead th {\n",
       "        text-align: right;\n",
       "    }\n",
       "</style>\n",
       "<table border=\"1\" class=\"dataframe\">\n",
       "  <thead>\n",
       "    <tr style=\"text-align: right;\">\n",
       "      <th></th>\n",
       "      <th>genres</th>\n",
       "      <th>numvotes</th>\n",
       "    </tr>\n",
       "  </thead>\n",
       "  <tbody>\n",
       "    <tr>\n",
       "      <th>0</th>\n",
       "      <td>Action,Adventure,Comedy</td>\n",
       "      <td>352660.222222</td>\n",
       "    </tr>\n",
       "    <tr>\n",
       "      <th>1</th>\n",
       "      <td>Action,Adventure,Drama</td>\n",
       "      <td>196656.000000</td>\n",
       "    </tr>\n",
       "    <tr>\n",
       "      <th>2</th>\n",
       "      <td>Action,Adventure,Fantasy</td>\n",
       "      <td>316940.571429</td>\n",
       "    </tr>\n",
       "    <tr>\n",
       "      <th>3</th>\n",
       "      <td>Action,Adventure,Sci-Fi</td>\n",
       "      <td>446764.040000</td>\n",
       "    </tr>\n",
       "    <tr>\n",
       "      <th>4</th>\n",
       "      <td>Action,Comedy,Crime</td>\n",
       "      <td>206703.294118</td>\n",
       "    </tr>\n",
       "    <tr>\n",
       "      <th>5</th>\n",
       "      <td>Action,Crime,Thriller</td>\n",
       "      <td>221058.062500</td>\n",
       "    </tr>\n",
       "    <tr>\n",
       "      <th>6</th>\n",
       "      <td>Adventure,Animation,Comedy</td>\n",
       "      <td>280868.000000</td>\n",
       "    </tr>\n",
       "    <tr>\n",
       "      <th>7</th>\n",
       "      <td>Comedy</td>\n",
       "      <td>174131.285714</td>\n",
       "    </tr>\n",
       "    <tr>\n",
       "      <th>8</th>\n",
       "      <td>Comedy,Drama,Romance</td>\n",
       "      <td>213493.062500</td>\n",
       "    </tr>\n",
       "    <tr>\n",
       "      <th>9</th>\n",
       "      <td>Drama</td>\n",
       "      <td>201626.466667</td>\n",
       "    </tr>\n",
       "  </tbody>\n",
       "</table>\n",
       "</div>"
      ],
      "text/plain": [
       "                       genres       numvotes\n",
       "0     Action,Adventure,Comedy  352660.222222\n",
       "1      Action,Adventure,Drama  196656.000000\n",
       "2    Action,Adventure,Fantasy  316940.571429\n",
       "3     Action,Adventure,Sci-Fi  446764.040000\n",
       "4         Action,Comedy,Crime  206703.294118\n",
       "5       Action,Crime,Thriller  221058.062500\n",
       "6  Adventure,Animation,Comedy  280868.000000\n",
       "7                      Comedy  174131.285714\n",
       "8        Comedy,Drama,Romance  213493.062500\n",
       "9                       Drama  201626.466667"
      ]
     },
     "execution_count": 33,
     "metadata": {},
     "output_type": "execute_result"
    }
   ],
   "source": [
    "grp_top = top_movie_genre.groupby('genres')['numvotes'].mean().reset_index()\n",
    "grp_top"
   ]
  },
  {
   "cell_type": "markdown",
   "id": "939597a3",
   "metadata": {},
   "source": [
    "#### Visualize the grouped dataset"
   ]
  },
  {
   "cell_type": "code",
   "execution_count": 34,
   "id": "7be653b7",
   "metadata": {
    "scrolled": true
   },
   "outputs": [
    {
     "data": {
      "image/png": "[encoded data removed]",
      "text/plain": [
       "<Figure size 1000x600 with 1 Axes>"
      ]
     },
     "metadata": {},
     "output_type": "display_data"
    }
   ],
   "source": [
    "plt.figure(figsize=(10,6))\n",
    "sns.barplot(x = 'genres', y = 'numvotes', data=grp_top)\n",
    "plt.title(\"The Genre with high number of voting\")\n",
    "plt.xticks(rotation=45);"
   ]
  },
  {
   "cell_type": "markdown",
   "id": "6d101e92",
   "metadata": {},
   "source": [
    "#### Top movies with the runtime\n",
    "The mean of the runtime for the top 10 genre"
   ]
  },
  {
   "cell_type": "code",
   "execution_count": 35,
   "id": "93a501ee",
   "metadata": {
    "scrolled": true
   },
   "outputs": [
    {
     "data": {
      "text/html": [
       "<div>\n",
       "<style scoped>\n",
       "    .dataframe tbody tr th:only-of-type {\n",
       "        vertical-align: middle;\n",
       "    }\n",
       "\n",
       "    .dataframe tbody tr th {\n",
       "        vertical-align: top;\n",
       "    }\n",
       "\n",
       "    .dataframe thead th {\n",
       "        text-align: right;\n",
       "    }\n",
       "</style>\n",
       "<table border=\"1\" class=\"dataframe\">\n",
       "  <thead>\n",
       "    <tr style=\"text-align: right;\">\n",
       "      <th></th>\n",
       "      <th>runtime_minutes</th>\n",
       "    </tr>\n",
       "  </thead>\n",
       "  <tbody>\n",
       "    <tr>\n",
       "      <th>count</th>\n",
       "      <td>10.000000</td>\n",
       "    </tr>\n",
       "    <tr>\n",
       "      <th>mean</th>\n",
       "      <td>115.258157</td>\n",
       "    </tr>\n",
       "    <tr>\n",
       "      <th>std</th>\n",
       "      <td>10.380491</td>\n",
       "    </tr>\n",
       "    <tr>\n",
       "      <th>min</th>\n",
       "      <td>98.363636</td>\n",
       "    </tr>\n",
       "    <tr>\n",
       "      <th>25%</th>\n",
       "      <td>107.921875</td>\n",
       "    </tr>\n",
       "    <tr>\n",
       "      <th>50%</th>\n",
       "      <td>118.954861</td>\n",
       "    </tr>\n",
       "    <tr>\n",
       "      <th>75%</th>\n",
       "      <td>120.371429</td>\n",
       "    </tr>\n",
       "    <tr>\n",
       "      <th>max</th>\n",
       "      <td>132.060000</td>\n",
       "    </tr>\n",
       "  </tbody>\n",
       "</table>\n",
       "</div>"
      ],
      "text/plain": [
       "       runtime_minutes\n",
       "count        10.000000\n",
       "mean        115.258157\n",
       "std          10.380491\n",
       "min          98.363636\n",
       "25%         107.921875\n",
       "50%         118.954861\n",
       "75%         120.371429\n",
       "max         132.060000"
      ]
     },
     "execution_count": 35,
     "metadata": {},
     "output_type": "execute_result"
    }
   ],
   "source": [
    "grp_top = top_movie_genre.groupby('genres')['runtime_minutes'].mean().reset_index()\n",
    "grp_top.describe()"
   ]
  },
  {
   "cell_type": "markdown",
   "id": "14202575",
   "metadata": {},
   "source": [
    "### Finding\n",
    "- Film with the Action, Adventure and fantacy are most watched and get most of the reactions. \n",
    "- From the top movies dataset the data mean runtime is 116minutes"
   ]
  },
  {
   "cell_type": "markdown",
   "id": "73168565",
   "metadata": {},
   "source": [
    "### b. Determine the relationship between movie budget production and its domestic and worldwid gross"
   ]
  },
  {
   "cell_type": "code",
   "execution_count": null,
   "id": "efed7298",
   "metadata": {},
   "outputs": [],
   "source": []
  }
 ],
 "metadata": {
  "kernelspec": {
   "display_name": "Python 3 (ipykernel)",
   "language": "python",
   "name": "python3"
  },
  "language_info": {
   "codemirror_mode": {
    "name": "ipython",
    "version": 3
   },
   "file_extension": ".py",
   "mimetype": "text/x-python",
   "name": "python",
   "nbconvert_exporter": "python",
   "pygments_lexer": "ipython3",
   "version": "3.10.11"
  }
 },
 "nbformat": 4,
 "nbformat_minor": 5
}
