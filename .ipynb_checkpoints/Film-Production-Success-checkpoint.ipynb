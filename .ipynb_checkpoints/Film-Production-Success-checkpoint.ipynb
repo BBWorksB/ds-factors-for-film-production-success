{
 "cells": [
  {
   "cell_type": "markdown",
   "id": "a8c33d28",
   "metadata": {},
   "source": [
    "# Factors for film Production Success"
   ]
  },
  {
   "cell_type": "markdown",
   "id": "afd2a15a",
   "metadata": {},
   "source": [
    "## 1. Business Understanding"
   ]
  },
  {
   "cell_type": "markdown",
   "id": "6b832942",
   "metadata": {},
   "source": [
    "### a) Introduction"
   ]
  },
  {
   "cell_type": "markdown",
   "id": "40bb6243",
   "metadata": {},
   "source": [
    "Film production has become one of the best way to cultivate an image about a product and create a little world of fanticies on the viewers. Many companies are investing in this and the growth of the companies has triggered intrest of other companies to invest in it too. \n",
    "\n",
    "This project is to use data collected from different platforms to determine the factor of the success in the existing production. "
   ]
  },
  {
   "cell_type": "markdown",
   "id": "a1a677d6",
   "metadata": {},
   "source": [
    "### b) Problem of the Statement\n",
    "For better insight of investing we cant rely on the traditional method to make decision. The use of a data driven decision is more reliable. Before starting the invest getting a clear understanding of the factors to consider for the success of the same is important.\n",
    "\n",
    "It is important to have this understanding not only to get better returns but to also remain relevant to the community we are to rech out to. Relevance to the audience will be a better market strategy that will increase the marketing strategy and incress the market scope."
   ]
  },
  {
   "cell_type": "markdown",
   "id": "69d91349",
   "metadata": {},
   "source": [
    "### c) Main Objective\n",
    "To determine the factors that lead to film production success"
   ]
  },
  {
   "cell_type": "markdown",
   "id": "10a48057",
   "metadata": {},
   "source": [
    "### d) Specific Objective\n",
    "* Data for determining the relationship between the audience rating and genre and the movie runtime\n",
    "* Determine the relationship between movie budget production and its domestic and worldwid gross\n",
    "* Determine the best perfoming studio in terms of domestic and foreign gross\n",
    "* Determine Age rating of film and its value in Box office"
   ]
  },
  {
   "cell_type": "markdown",
   "id": "21e24bf2",
   "metadata": {},
   "source": [
    "### e) Experimental Design\n",
    "1. Data Collection\n",
    "2. Read and Check data\n",
    "3. Cleaning the Data\n",
    "4. Exploratory Data Analysis\n",
    "5. Conclusions and Recommendations"
   ]
  },
  {
   "cell_type": "markdown",
   "id": "b05bc1a4",
   "metadata": {},
   "source": [
    "### f) Data Understanding\n",
    "The data to be used was provided by the instituion.\n",
    "The datasets to be used are:\n",
    "1. IMDB title rating: It has the movie ID'S(tconst) with avaragerating of each and the numvotes.\n",
    "2. IMDB title basics: It contains the movie genre and the tconst with the movie runtime.\n",
    "3. BOM movie gross: contains stuio with their respective domestic and foreign gross\n",
    "4. Rotten Tomatoes Movie info: Contains movie genre, box office and genre\n",
    "5. Rotten Tomatoes Reviews info: Contains the rating and fresh data."
   ]
  },
  {
   "cell_type": "markdown",
   "id": "b8afebe4",
   "metadata": {},
   "source": [
    "## 2. Importing Libraries"
   ]
  },
  {
   "cell_type": "code",
   "execution_count": 1,
   "id": "eb47ba42",
   "metadata": {},
   "outputs": [],
   "source": [
    "# Importing libraries to be used\n",
    "import pandas as pd\n",
    "import matplotlib.pyplot as plt\n",
    "import numpy as np\n",
    "import seaborn as sns\n",
    "%matplotlib inline"
   ]
  },
  {
   "cell_type": "markdown",
   "id": "9f49ea4d",
   "metadata": {},
   "source": [
    "## 3. Reading, cleanig and exploring Data\n",
    "All data needed through the process."
   ]
  },
  {
   "cell_type": "markdown",
   "id": "56d255eb",
   "metadata": {},
   "source": [
    "## a. Data for determining the relationship between the audience rating and genre and the movie runtime\n",
    "For this objective we will use the imdb title rating and imdb title basics datasets. The two datasets will be joined using the tconst which is a unique id for the movies. \n",
    "\n",
    "The dataset will then be cleaned and remain with relevant columns with no duplicates and no null values. And will use the number votes as the number of people that watched.From that will find that was most watched genre."
   ]
  },
  {
   "cell_type": "markdown",
   "id": "063abdf4",
   "metadata": {},
   "source": [
    "##### Upload the title rating dataset and inspect it"
   ]
  },
  {
   "cell_type": "code",
   "execution_count": 2,
   "id": "5aa5b514",
   "metadata": {},
   "outputs": [
    {
     "data": {
      "text/html": [
       "<div>\n",
       "<style scoped>\n",
       "    .dataframe tbody tr th:only-of-type {\n",
       "        vertical-align: middle;\n",
       "    }\n",
       "\n",
       "    .dataframe tbody tr th {\n",
       "        vertical-align: top;\n",
       "    }\n",
       "\n",
       "    .dataframe thead th {\n",
       "        text-align: right;\n",
       "    }\n",
       "</style>\n",
       "<table border=\"1\" class=\"dataframe\">\n",
       "  <thead>\n",
       "    <tr style=\"text-align: right;\">\n",
       "      <th></th>\n",
       "      <th>tconst</th>\n",
       "      <th>averagerating</th>\n",
       "      <th>numvotes</th>\n",
       "    </tr>\n",
       "  </thead>\n",
       "  <tbody>\n",
       "    <tr>\n",
       "      <th>0</th>\n",
       "      <td>tt10356526</td>\n",
       "      <td>8.3</td>\n",
       "      <td>31</td>\n",
       "    </tr>\n",
       "    <tr>\n",
       "      <th>1</th>\n",
       "      <td>tt10384606</td>\n",
       "      <td>8.9</td>\n",
       "      <td>559</td>\n",
       "    </tr>\n",
       "    <tr>\n",
       "      <th>2</th>\n",
       "      <td>tt1042974</td>\n",
       "      <td>6.4</td>\n",
       "      <td>20</td>\n",
       "    </tr>\n",
       "    <tr>\n",
       "      <th>3</th>\n",
       "      <td>tt1043726</td>\n",
       "      <td>4.2</td>\n",
       "      <td>50352</td>\n",
       "    </tr>\n",
       "    <tr>\n",
       "      <th>4</th>\n",
       "      <td>tt1060240</td>\n",
       "      <td>6.5</td>\n",
       "      <td>21</td>\n",
       "    </tr>\n",
       "  </tbody>\n",
       "</table>\n",
       "</div>"
      ],
      "text/plain": [
       "       tconst  averagerating  numvotes\n",
       "0  tt10356526            8.3        31\n",
       "1  tt10384606            8.9       559\n",
       "2   tt1042974            6.4        20\n",
       "3   tt1043726            4.2     50352\n",
       "4   tt1060240            6.5        21"
      ]
     },
     "execution_count": 2,
     "metadata": {},
     "output_type": "execute_result"
    }
   ],
   "source": [
    "#Uploading the title rating dataset\n",
    "movie_rating = pd.read_csv('data/imdb.title.ratings.csv')\n",
    "movie_rating.head()"
   ]
  },
  {
   "cell_type": "code",
   "execution_count": 3,
   "id": "31be2e95",
   "metadata": {},
   "outputs": [
    {
     "data": {
      "text/plain": [
       "(73856, 3)"
      ]
     },
     "execution_count": 3,
     "metadata": {},
     "output_type": "execute_result"
    }
   ],
   "source": [
    "# Whats the shape of the dataset\n",
    "movie_rating.shape"
   ]
  },
  {
   "cell_type": "code",
   "execution_count": 4,
   "id": "54ae7ccc",
   "metadata": {},
   "outputs": [
    {
     "name": "stdout",
     "output_type": "stream",
     "text": [
      "<class 'pandas.core.frame.DataFrame'>\n",
      "RangeIndex: 73856 entries, 0 to 73855\n",
      "Data columns (total 3 columns):\n",
      " #   Column         Non-Null Count  Dtype  \n",
      "---  ------         --------------  -----  \n",
      " 0   tconst         73856 non-null  object \n",
      " 1   averagerating  73856 non-null  float64\n",
      " 2   numvotes       73856 non-null  int64  \n",
      "dtypes: float64(1), int64(1), object(1)\n",
      "memory usage: 1.7+ MB\n"
     ]
    }
   ],
   "source": [
    "# Check the data types of column and missing values\n",
    "movie_rating.info()"
   ]
  },
  {
   "cell_type": "code",
   "execution_count": 5,
   "id": "910a42ef",
   "metadata": {},
   "outputs": [
    {
     "data": {
      "text/plain": [
       "0        False\n",
       "1        False\n",
       "2        False\n",
       "3        False\n",
       "4        False\n",
       "         ...  \n",
       "73851    False\n",
       "73852    False\n",
       "73853    False\n",
       "73854    False\n",
       "73855    False\n",
       "Length: 73856, dtype: bool"
      ]
     },
     "execution_count": 5,
     "metadata": {},
     "output_type": "execute_result"
    }
   ],
   "source": [
    "# Check any duplicates in the dataset\n",
    "movie_rating.duplicated()"
   ]
  },
  {
   "cell_type": "markdown",
   "id": "50aefcee",
   "metadata": {},
   "source": [
    "The title rating dataset is clean with no duplicates, no missng values and all datatypes are relvant to each column as expected"
   ]
  },
  {
   "cell_type": "markdown",
   "id": "157e0dc0",
   "metadata": {},
   "source": [
    "##### Upload the title basics dataset and inspect it"
   ]
  },
  {
   "cell_type": "code",
   "execution_count": 6,
   "id": "544051ea",
   "metadata": {},
   "outputs": [
    {
     "data": {
      "text/html": [
       "<div>\n",
       "<style scoped>\n",
       "    .dataframe tbody tr th:only-of-type {\n",
       "        vertical-align: middle;\n",
       "    }\n",
       "\n",
       "    .dataframe tbody tr th {\n",
       "        vertical-align: top;\n",
       "    }\n",
       "\n",
       "    .dataframe thead th {\n",
       "        text-align: right;\n",
       "    }\n",
       "</style>\n",
       "<table border=\"1\" class=\"dataframe\">\n",
       "  <thead>\n",
       "    <tr style=\"text-align: right;\">\n",
       "      <th></th>\n",
       "      <th>tconst</th>\n",
       "      <th>primary_title</th>\n",
       "      <th>original_title</th>\n",
       "      <th>start_year</th>\n",
       "      <th>runtime_minutes</th>\n",
       "      <th>genres</th>\n",
       "    </tr>\n",
       "  </thead>\n",
       "  <tbody>\n",
       "    <tr>\n",
       "      <th>0</th>\n",
       "      <td>tt0063540</td>\n",
       "      <td>Sunghursh</td>\n",
       "      <td>Sunghursh</td>\n",
       "      <td>2013</td>\n",
       "      <td>175.0</td>\n",
       "      <td>Action,Crime,Drama</td>\n",
       "    </tr>\n",
       "    <tr>\n",
       "      <th>1</th>\n",
       "      <td>tt0066787</td>\n",
       "      <td>One Day Before the Rainy Season</td>\n",
       "      <td>Ashad Ka Ek Din</td>\n",
       "      <td>2019</td>\n",
       "      <td>114.0</td>\n",
       "      <td>Biography,Drama</td>\n",
       "    </tr>\n",
       "    <tr>\n",
       "      <th>2</th>\n",
       "      <td>tt0069049</td>\n",
       "      <td>The Other Side of the Wind</td>\n",
       "      <td>The Other Side of the Wind</td>\n",
       "      <td>2018</td>\n",
       "      <td>122.0</td>\n",
       "      <td>Drama</td>\n",
       "    </tr>\n",
       "    <tr>\n",
       "      <th>3</th>\n",
       "      <td>tt0069204</td>\n",
       "      <td>Sabse Bada Sukh</td>\n",
       "      <td>Sabse Bada Sukh</td>\n",
       "      <td>2018</td>\n",
       "      <td>NaN</td>\n",
       "      <td>Comedy,Drama</td>\n",
       "    </tr>\n",
       "    <tr>\n",
       "      <th>4</th>\n",
       "      <td>tt0100275</td>\n",
       "      <td>The Wandering Soap Opera</td>\n",
       "      <td>La Telenovela Errante</td>\n",
       "      <td>2017</td>\n",
       "      <td>80.0</td>\n",
       "      <td>Comedy,Drama,Fantasy</td>\n",
       "    </tr>\n",
       "  </tbody>\n",
       "</table>\n",
       "</div>"
      ],
      "text/plain": [
       "      tconst                    primary_title              original_title   \n",
       "0  tt0063540                        Sunghursh                   Sunghursh  \\\n",
       "1  tt0066787  One Day Before the Rainy Season             Ashad Ka Ek Din   \n",
       "2  tt0069049       The Other Side of the Wind  The Other Side of the Wind   \n",
       "3  tt0069204                  Sabse Bada Sukh             Sabse Bada Sukh   \n",
       "4  tt0100275         The Wandering Soap Opera       La Telenovela Errante   \n",
       "\n",
       "   start_year  runtime_minutes                genres  \n",
       "0        2013            175.0    Action,Crime,Drama  \n",
       "1        2019            114.0       Biography,Drama  \n",
       "2        2018            122.0                 Drama  \n",
       "3        2018              NaN          Comedy,Drama  \n",
       "4        2017             80.0  Comedy,Drama,Fantasy  "
      ]
     },
     "execution_count": 6,
     "metadata": {},
     "output_type": "execute_result"
    }
   ],
   "source": [
    "# Upload the imdb title basics\n",
    "movie_basics = pd.read_csv('data/imdb.title.basics.csv')\n",
    "movie_basics.head()"
   ]
  },
  {
   "cell_type": "code",
   "execution_count": 7,
   "id": "a3b6a2c7",
   "metadata": {},
   "outputs": [
    {
     "data": {
      "text/plain": [
       "(146144, 6)"
      ]
     },
     "execution_count": 7,
     "metadata": {},
     "output_type": "execute_result"
    }
   ],
   "source": [
    "#Check the shape\n",
    "movie_basics.shape #its quit a large dataset 😅"
   ]
  },
  {
   "cell_type": "code",
   "execution_count": 8,
   "id": "dfbf7524",
   "metadata": {},
   "outputs": [
    {
     "name": "stdout",
     "output_type": "stream",
     "text": [
      "<class 'pandas.core.frame.DataFrame'>\n",
      "RangeIndex: 146144 entries, 0 to 146143\n",
      "Data columns (total 6 columns):\n",
      " #   Column           Non-Null Count   Dtype  \n",
      "---  ------           --------------   -----  \n",
      " 0   tconst           146144 non-null  object \n",
      " 1   primary_title    146143 non-null  object \n",
      " 2   original_title   146122 non-null  object \n",
      " 3   start_year       146144 non-null  int64  \n",
      " 4   runtime_minutes  114405 non-null  float64\n",
      " 5   genres           140736 non-null  object \n",
      "dtypes: float64(1), int64(1), object(4)\n",
      "memory usage: 6.7+ MB\n"
     ]
    }
   ],
   "source": [
    "#Check the data types of the columns\n",
    "movie_basics.info()"
   ]
  },
  {
   "cell_type": "code",
   "execution_count": 9,
   "id": "42a0db73",
   "metadata": {},
   "outputs": [
    {
     "data": {
      "text/plain": [
       "0         False\n",
       "1         False\n",
       "2         False\n",
       "3         False\n",
       "4         False\n",
       "          ...  \n",
       "146139    False\n",
       "146140    False\n",
       "146141    False\n",
       "146142    False\n",
       "146143    False\n",
       "Length: 146144, dtype: bool"
      ]
     },
     "execution_count": 9,
     "metadata": {},
     "output_type": "execute_result"
    }
   ],
   "source": [
    "#Check for duplicates\n",
    "movie_basics.duplicated()"
   ]
  },
  {
   "cell_type": "markdown",
   "id": "9dcf83e0",
   "metadata": {},
   "source": [
    "##### Do an inner join of the two datasets"
   ]
  },
  {
   "cell_type": "code",
   "execution_count": 10,
   "id": "1fff8f21",
   "metadata": {
    "scrolled": true
   },
   "outputs": [
    {
     "data": {
      "text/html": [
       "<div>\n",
       "<style scoped>\n",
       "    .dataframe tbody tr th:only-of-type {\n",
       "        vertical-align: middle;\n",
       "    }\n",
       "\n",
       "    .dataframe tbody tr th {\n",
       "        vertical-align: top;\n",
       "    }\n",
       "\n",
       "    .dataframe thead th {\n",
       "        text-align: right;\n",
       "    }\n",
       "</style>\n",
       "<table border=\"1\" class=\"dataframe\">\n",
       "  <thead>\n",
       "    <tr style=\"text-align: right;\">\n",
       "      <th></th>\n",
       "      <th>tconst</th>\n",
       "      <th>averagerating</th>\n",
       "      <th>numvotes</th>\n",
       "      <th>primary_title</th>\n",
       "      <th>original_title</th>\n",
       "      <th>start_year</th>\n",
       "      <th>runtime_minutes</th>\n",
       "      <th>genres</th>\n",
       "    </tr>\n",
       "  </thead>\n",
       "  <tbody>\n",
       "    <tr>\n",
       "      <th>0</th>\n",
       "      <td>tt10356526</td>\n",
       "      <td>8.3</td>\n",
       "      <td>31</td>\n",
       "      <td>Laiye Je Yaarian</td>\n",
       "      <td>Laiye Je Yaarian</td>\n",
       "      <td>2019</td>\n",
       "      <td>117.0</td>\n",
       "      <td>Romance</td>\n",
       "    </tr>\n",
       "    <tr>\n",
       "      <th>1</th>\n",
       "      <td>tt10384606</td>\n",
       "      <td>8.9</td>\n",
       "      <td>559</td>\n",
       "      <td>Borderless</td>\n",
       "      <td>Borderless</td>\n",
       "      <td>2019</td>\n",
       "      <td>87.0</td>\n",
       "      <td>Documentary</td>\n",
       "    </tr>\n",
       "    <tr>\n",
       "      <th>2</th>\n",
       "      <td>tt1042974</td>\n",
       "      <td>6.4</td>\n",
       "      <td>20</td>\n",
       "      <td>Just Inès</td>\n",
       "      <td>Just Inès</td>\n",
       "      <td>2010</td>\n",
       "      <td>90.0</td>\n",
       "      <td>Drama</td>\n",
       "    </tr>\n",
       "    <tr>\n",
       "      <th>3</th>\n",
       "      <td>tt1043726</td>\n",
       "      <td>4.2</td>\n",
       "      <td>50352</td>\n",
       "      <td>The Legend of Hercules</td>\n",
       "      <td>The Legend of Hercules</td>\n",
       "      <td>2014</td>\n",
       "      <td>99.0</td>\n",
       "      <td>Action,Adventure,Fantasy</td>\n",
       "    </tr>\n",
       "    <tr>\n",
       "      <th>4</th>\n",
       "      <td>tt1060240</td>\n",
       "      <td>6.5</td>\n",
       "      <td>21</td>\n",
       "      <td>Até Onde?</td>\n",
       "      <td>Até Onde?</td>\n",
       "      <td>2011</td>\n",
       "      <td>73.0</td>\n",
       "      <td>Mystery,Thriller</td>\n",
       "    </tr>\n",
       "  </tbody>\n",
       "</table>\n",
       "</div>"
      ],
      "text/plain": [
       "       tconst  averagerating  numvotes           primary_title   \n",
       "0  tt10356526            8.3        31        Laiye Je Yaarian  \\\n",
       "1  tt10384606            8.9       559              Borderless   \n",
       "2   tt1042974            6.4        20               Just Inès   \n",
       "3   tt1043726            4.2     50352  The Legend of Hercules   \n",
       "4   tt1060240            6.5        21               Até Onde?   \n",
       "\n",
       "           original_title  start_year  runtime_minutes   \n",
       "0        Laiye Je Yaarian        2019            117.0  \\\n",
       "1              Borderless        2019             87.0   \n",
       "2               Just Inès        2010             90.0   \n",
       "3  The Legend of Hercules        2014             99.0   \n",
       "4               Até Onde?        2011             73.0   \n",
       "\n",
       "                     genres  \n",
       "0                   Romance  \n",
       "1               Documentary  \n",
       "2                     Drama  \n",
       "3  Action,Adventure,Fantasy  \n",
       "4          Mystery,Thriller  "
      ]
     },
     "execution_count": 10,
     "metadata": {},
     "output_type": "execute_result"
    }
   ],
   "source": [
    "#Do an inner join using merge on the tconst\n",
    "movie_rating_basics = movie_rating.merge(movie_basics, on='tconst')\n",
    "movie_rating_basics.head()"
   ]
  },
  {
   "cell_type": "code",
   "execution_count": 11,
   "id": "c178fdf0",
   "metadata": {},
   "outputs": [
    {
     "data": {
      "text/plain": [
       "(73856, 8)"
      ]
     },
     "execution_count": 11,
     "metadata": {},
     "output_type": "execute_result"
    }
   ],
   "source": [
    "# Inspecting the new dataset\n",
    "movie_rating_basics.shape"
   ]
  },
  {
   "cell_type": "code",
   "execution_count": 12,
   "id": "2518bce6",
   "metadata": {
    "scrolled": true
   },
   "outputs": [
    {
     "name": "stdout",
     "output_type": "stream",
     "text": [
      "<class 'pandas.core.frame.DataFrame'>\n",
      "RangeIndex: 73856 entries, 0 to 73855\n",
      "Data columns (total 8 columns):\n",
      " #   Column           Non-Null Count  Dtype  \n",
      "---  ------           --------------  -----  \n",
      " 0   tconst           73856 non-null  object \n",
      " 1   averagerating    73856 non-null  float64\n",
      " 2   numvotes         73856 non-null  int64  \n",
      " 3   primary_title    73856 non-null  object \n",
      " 4   original_title   73856 non-null  object \n",
      " 5   start_year       73856 non-null  int64  \n",
      " 6   runtime_minutes  66236 non-null  float64\n",
      " 7   genres           73052 non-null  object \n",
      "dtypes: float64(2), int64(2), object(4)\n",
      "memory usage: 4.5+ MB\n"
     ]
    }
   ],
   "source": [
    "# Datatypes\n",
    "movie_rating_basics.info()"
   ]
  },
  {
   "cell_type": "markdown",
   "id": "7c47194c",
   "metadata": {},
   "source": [
    "The dataypes are as ecpected the int, float and objects where needed"
   ]
  },
  {
   "cell_type": "code",
   "execution_count": 13,
   "id": "e67e6e79",
   "metadata": {},
   "outputs": [
    {
     "data": {
      "text/plain": [
       "tconst              0.000000\n",
       "averagerating       0.000000\n",
       "numvotes            0.000000\n",
       "primary_title       0.000000\n",
       "original_title      0.000000\n",
       "start_year          0.000000\n",
       "runtime_minutes    10.317374\n",
       "genres              1.088605\n",
       "dtype: float64"
      ]
     },
     "execution_count": 13,
     "metadata": {},
     "output_type": "execute_result"
    }
   ],
   "source": [
    "#Missing values and its percentage in the dataset\n",
    "movie_rating_basics.isna().mean()*100"
   ]
  },
  {
   "cell_type": "code",
   "execution_count": 14,
   "id": "7f073245",
   "metadata": {},
   "outputs": [],
   "source": [
    "#The low percentages of missing data will drop all columns with missning data\n",
    "movie_rating_basics.dropna(inplace=True) #Drop and apply on the dataset"
   ]
  },
  {
   "cell_type": "code",
   "execution_count": 15,
   "id": "4f568615",
   "metadata": {},
   "outputs": [
    {
     "data": {
      "text/html": [
       "<div>\n",
       "<style scoped>\n",
       "    .dataframe tbody tr th:only-of-type {\n",
       "        vertical-align: middle;\n",
       "    }\n",
       "\n",
       "    .dataframe tbody tr th {\n",
       "        vertical-align: top;\n",
       "    }\n",
       "\n",
       "    .dataframe thead th {\n",
       "        text-align: right;\n",
       "    }\n",
       "</style>\n",
       "<table border=\"1\" class=\"dataframe\">\n",
       "  <thead>\n",
       "    <tr style=\"text-align: right;\">\n",
       "      <th></th>\n",
       "      <th>tconst</th>\n",
       "      <th>averagerating</th>\n",
       "      <th>numvotes</th>\n",
       "      <th>primary_title</th>\n",
       "      <th>original_title</th>\n",
       "      <th>start_year</th>\n",
       "      <th>runtime_minutes</th>\n",
       "      <th>genres</th>\n",
       "    </tr>\n",
       "  </thead>\n",
       "  <tbody>\n",
       "    <tr>\n",
       "      <th>0</th>\n",
       "      <td>tt10356526</td>\n",
       "      <td>8.3</td>\n",
       "      <td>31</td>\n",
       "      <td>Laiye Je Yaarian</td>\n",
       "      <td>Laiye Je Yaarian</td>\n",
       "      <td>2019</td>\n",
       "      <td>117.0</td>\n",
       "      <td>Romance</td>\n",
       "    </tr>\n",
       "    <tr>\n",
       "      <th>1</th>\n",
       "      <td>tt10384606</td>\n",
       "      <td>8.9</td>\n",
       "      <td>559</td>\n",
       "      <td>Borderless</td>\n",
       "      <td>Borderless</td>\n",
       "      <td>2019</td>\n",
       "      <td>87.0</td>\n",
       "      <td>Documentary</td>\n",
       "    </tr>\n",
       "    <tr>\n",
       "      <th>2</th>\n",
       "      <td>tt1042974</td>\n",
       "      <td>6.4</td>\n",
       "      <td>20</td>\n",
       "      <td>Just Inès</td>\n",
       "      <td>Just Inès</td>\n",
       "      <td>2010</td>\n",
       "      <td>90.0</td>\n",
       "      <td>Drama</td>\n",
       "    </tr>\n",
       "    <tr>\n",
       "      <th>3</th>\n",
       "      <td>tt1043726</td>\n",
       "      <td>4.2</td>\n",
       "      <td>50352</td>\n",
       "      <td>The Legend of Hercules</td>\n",
       "      <td>The Legend of Hercules</td>\n",
       "      <td>2014</td>\n",
       "      <td>99.0</td>\n",
       "      <td>Action,Adventure,Fantasy</td>\n",
       "    </tr>\n",
       "    <tr>\n",
       "      <th>4</th>\n",
       "      <td>tt1060240</td>\n",
       "      <td>6.5</td>\n",
       "      <td>21</td>\n",
       "      <td>Até Onde?</td>\n",
       "      <td>Até Onde?</td>\n",
       "      <td>2011</td>\n",
       "      <td>73.0</td>\n",
       "      <td>Mystery,Thriller</td>\n",
       "    </tr>\n",
       "    <tr>\n",
       "      <th>...</th>\n",
       "      <td>...</td>\n",
       "      <td>...</td>\n",
       "      <td>...</td>\n",
       "      <td>...</td>\n",
       "      <td>...</td>\n",
       "      <td>...</td>\n",
       "      <td>...</td>\n",
       "      <td>...</td>\n",
       "    </tr>\n",
       "    <tr>\n",
       "      <th>73849</th>\n",
       "      <td>tt9768966</td>\n",
       "      <td>8.6</td>\n",
       "      <td>27</td>\n",
       "      <td>Plugged in</td>\n",
       "      <td>Plugged in</td>\n",
       "      <td>2019</td>\n",
       "      <td>53.0</td>\n",
       "      <td>Documentary</td>\n",
       "    </tr>\n",
       "    <tr>\n",
       "      <th>73851</th>\n",
       "      <td>tt9805820</td>\n",
       "      <td>8.1</td>\n",
       "      <td>25</td>\n",
       "      <td>Caisa</td>\n",
       "      <td>Caisa</td>\n",
       "      <td>2018</td>\n",
       "      <td>84.0</td>\n",
       "      <td>Documentary</td>\n",
       "    </tr>\n",
       "    <tr>\n",
       "      <th>73852</th>\n",
       "      <td>tt9844256</td>\n",
       "      <td>7.5</td>\n",
       "      <td>24</td>\n",
       "      <td>Code Geass: Lelouch of the Rebellion - Glorifi...</td>\n",
       "      <td>Code Geass: Lelouch of the Rebellion Episode III</td>\n",
       "      <td>2018</td>\n",
       "      <td>120.0</td>\n",
       "      <td>Action,Animation,Sci-Fi</td>\n",
       "    </tr>\n",
       "    <tr>\n",
       "      <th>73854</th>\n",
       "      <td>tt9886934</td>\n",
       "      <td>7.0</td>\n",
       "      <td>5</td>\n",
       "      <td>The Projectionist</td>\n",
       "      <td>The Projectionist</td>\n",
       "      <td>2019</td>\n",
       "      <td>81.0</td>\n",
       "      <td>Documentary</td>\n",
       "    </tr>\n",
       "    <tr>\n",
       "      <th>73855</th>\n",
       "      <td>tt9894098</td>\n",
       "      <td>6.3</td>\n",
       "      <td>128</td>\n",
       "      <td>Sathru</td>\n",
       "      <td>Sathru</td>\n",
       "      <td>2019</td>\n",
       "      <td>129.0</td>\n",
       "      <td>Thriller</td>\n",
       "    </tr>\n",
       "  </tbody>\n",
       "</table>\n",
       "<p>65720 rows × 8 columns</p>\n",
       "</div>"
      ],
      "text/plain": [
       "           tconst  averagerating  numvotes   \n",
       "0      tt10356526            8.3        31  \\\n",
       "1      tt10384606            8.9       559   \n",
       "2       tt1042974            6.4        20   \n",
       "3       tt1043726            4.2     50352   \n",
       "4       tt1060240            6.5        21   \n",
       "...           ...            ...       ...   \n",
       "73849   tt9768966            8.6        27   \n",
       "73851   tt9805820            8.1        25   \n",
       "73852   tt9844256            7.5        24   \n",
       "73854   tt9886934            7.0         5   \n",
       "73855   tt9894098            6.3       128   \n",
       "\n",
       "                                           primary_title   \n",
       "0                                       Laiye Je Yaarian  \\\n",
       "1                                             Borderless   \n",
       "2                                              Just Inès   \n",
       "3                                 The Legend of Hercules   \n",
       "4                                              Até Onde?   \n",
       "...                                                  ...   \n",
       "73849                                         Plugged in   \n",
       "73851                                              Caisa   \n",
       "73852  Code Geass: Lelouch of the Rebellion - Glorifi...   \n",
       "73854                                  The Projectionist   \n",
       "73855                                             Sathru   \n",
       "\n",
       "                                         original_title  start_year   \n",
       "0                                      Laiye Je Yaarian        2019  \\\n",
       "1                                            Borderless        2019   \n",
       "2                                             Just Inès        2010   \n",
       "3                                The Legend of Hercules        2014   \n",
       "4                                             Até Onde?        2011   \n",
       "...                                                 ...         ...   \n",
       "73849                                        Plugged in        2019   \n",
       "73851                                             Caisa        2018   \n",
       "73852  Code Geass: Lelouch of the Rebellion Episode III        2018   \n",
       "73854                                 The Projectionist        2019   \n",
       "73855                                            Sathru        2019   \n",
       "\n",
       "       runtime_minutes                    genres  \n",
       "0                117.0                   Romance  \n",
       "1                 87.0               Documentary  \n",
       "2                 90.0                     Drama  \n",
       "3                 99.0  Action,Adventure,Fantasy  \n",
       "4                 73.0          Mystery,Thriller  \n",
       "...                ...                       ...  \n",
       "73849             53.0               Documentary  \n",
       "73851             84.0               Documentary  \n",
       "73852            120.0   Action,Animation,Sci-Fi  \n",
       "73854             81.0               Documentary  \n",
       "73855            129.0                  Thriller  \n",
       "\n",
       "[65720 rows x 8 columns]"
      ]
     },
     "execution_count": 15,
     "metadata": {},
     "output_type": "execute_result"
    }
   ],
   "source": [
    "#the number of rows have dropped compared to the original dataset\n",
    "movie_rating_basics"
   ]
  },
  {
   "cell_type": "code",
   "execution_count": 16,
   "id": "9b573287",
   "metadata": {},
   "outputs": [
    {
     "data": {
      "text/plain": [
       "tconst             0\n",
       "averagerating      0\n",
       "numvotes           0\n",
       "primary_title      0\n",
       "original_title     0\n",
       "start_year         0\n",
       "runtime_minutes    0\n",
       "genres             0\n",
       "dtype: int64"
      ]
     },
     "execution_count": 16,
     "metadata": {},
     "output_type": "execute_result"
    }
   ],
   "source": [
    "#Check if it has no missing values\n",
    "movie_rating_basics.isna().sum()"
   ]
  },
  {
   "cell_type": "markdown",
   "id": "4f6182dd",
   "metadata": {},
   "source": [
    "The data is clean.\n",
    "###### Drop irrelevant columns to remain with relevant columns i.e genres, runtime_minutes, averagerating, num_votes and year"
   ]
  },
  {
   "cell_type": "code",
   "execution_count": 17,
   "id": "d3048a70",
   "metadata": {
    "scrolled": true
   },
   "outputs": [
    {
     "data": {
      "text/html": [
       "<div>\n",
       "<style scoped>\n",
       "    .dataframe tbody tr th:only-of-type {\n",
       "        vertical-align: middle;\n",
       "    }\n",
       "\n",
       "    .dataframe tbody tr th {\n",
       "        vertical-align: top;\n",
       "    }\n",
       "\n",
       "    .dataframe thead th {\n",
       "        text-align: right;\n",
       "    }\n",
       "</style>\n",
       "<table border=\"1\" class=\"dataframe\">\n",
       "  <thead>\n",
       "    <tr style=\"text-align: right;\">\n",
       "      <th></th>\n",
       "      <th>averagerating</th>\n",
       "      <th>numvotes</th>\n",
       "      <th>start_year</th>\n",
       "      <th>runtime_minutes</th>\n",
       "      <th>genres</th>\n",
       "    </tr>\n",
       "  </thead>\n",
       "  <tbody>\n",
       "    <tr>\n",
       "      <th>0</th>\n",
       "      <td>8.3</td>\n",
       "      <td>31</td>\n",
       "      <td>2019</td>\n",
       "      <td>117.0</td>\n",
       "      <td>Romance</td>\n",
       "    </tr>\n",
       "    <tr>\n",
       "      <th>1</th>\n",
       "      <td>8.9</td>\n",
       "      <td>559</td>\n",
       "      <td>2019</td>\n",
       "      <td>87.0</td>\n",
       "      <td>Documentary</td>\n",
       "    </tr>\n",
       "    <tr>\n",
       "      <th>2</th>\n",
       "      <td>6.4</td>\n",
       "      <td>20</td>\n",
       "      <td>2010</td>\n",
       "      <td>90.0</td>\n",
       "      <td>Drama</td>\n",
       "    </tr>\n",
       "    <tr>\n",
       "      <th>3</th>\n",
       "      <td>4.2</td>\n",
       "      <td>50352</td>\n",
       "      <td>2014</td>\n",
       "      <td>99.0</td>\n",
       "      <td>Action,Adventure,Fantasy</td>\n",
       "    </tr>\n",
       "    <tr>\n",
       "      <th>4</th>\n",
       "      <td>6.5</td>\n",
       "      <td>21</td>\n",
       "      <td>2011</td>\n",
       "      <td>73.0</td>\n",
       "      <td>Mystery,Thriller</td>\n",
       "    </tr>\n",
       "    <tr>\n",
       "      <th>...</th>\n",
       "      <td>...</td>\n",
       "      <td>...</td>\n",
       "      <td>...</td>\n",
       "      <td>...</td>\n",
       "      <td>...</td>\n",
       "    </tr>\n",
       "    <tr>\n",
       "      <th>73849</th>\n",
       "      <td>8.6</td>\n",
       "      <td>27</td>\n",
       "      <td>2019</td>\n",
       "      <td>53.0</td>\n",
       "      <td>Documentary</td>\n",
       "    </tr>\n",
       "    <tr>\n",
       "      <th>73851</th>\n",
       "      <td>8.1</td>\n",
       "      <td>25</td>\n",
       "      <td>2018</td>\n",
       "      <td>84.0</td>\n",
       "      <td>Documentary</td>\n",
       "    </tr>\n",
       "    <tr>\n",
       "      <th>73852</th>\n",
       "      <td>7.5</td>\n",
       "      <td>24</td>\n",
       "      <td>2018</td>\n",
       "      <td>120.0</td>\n",
       "      <td>Action,Animation,Sci-Fi</td>\n",
       "    </tr>\n",
       "    <tr>\n",
       "      <th>73854</th>\n",
       "      <td>7.0</td>\n",
       "      <td>5</td>\n",
       "      <td>2019</td>\n",
       "      <td>81.0</td>\n",
       "      <td>Documentary</td>\n",
       "    </tr>\n",
       "    <tr>\n",
       "      <th>73855</th>\n",
       "      <td>6.3</td>\n",
       "      <td>128</td>\n",
       "      <td>2019</td>\n",
       "      <td>129.0</td>\n",
       "      <td>Thriller</td>\n",
       "    </tr>\n",
       "  </tbody>\n",
       "</table>\n",
       "<p>65720 rows × 5 columns</p>\n",
       "</div>"
      ],
      "text/plain": [
       "       averagerating  numvotes  start_year  runtime_minutes   \n",
       "0                8.3        31        2019            117.0  \\\n",
       "1                8.9       559        2019             87.0   \n",
       "2                6.4        20        2010             90.0   \n",
       "3                4.2     50352        2014             99.0   \n",
       "4                6.5        21        2011             73.0   \n",
       "...              ...       ...         ...              ...   \n",
       "73849            8.6        27        2019             53.0   \n",
       "73851            8.1        25        2018             84.0   \n",
       "73852            7.5        24        2018            120.0   \n",
       "73854            7.0         5        2019             81.0   \n",
       "73855            6.3       128        2019            129.0   \n",
       "\n",
       "                         genres  \n",
       "0                       Romance  \n",
       "1                   Documentary  \n",
       "2                         Drama  \n",
       "3      Action,Adventure,Fantasy  \n",
       "4              Mystery,Thriller  \n",
       "...                         ...  \n",
       "73849               Documentary  \n",
       "73851               Documentary  \n",
       "73852   Action,Animation,Sci-Fi  \n",
       "73854               Documentary  \n",
       "73855                  Thriller  \n",
       "\n",
       "[65720 rows x 5 columns]"
      ]
     },
     "execution_count": 17,
     "metadata": {},
     "output_type": "execute_result"
    }
   ],
   "source": [
    "movie_rating_basics = movie_rating_basics.drop(labels = ['tconst','primary_title', 'original_title'],\n",
    "                                               axis=1)\n",
    "movie_rating_basics"
   ]
  },
  {
   "cell_type": "markdown",
   "id": "157e198c",
   "metadata": {},
   "source": [
    "#### Explore the dataset\n",
    "- To get a better understanding of the rating we will slice the dataset to have a dataset with number of votes be greater than or equal to 100000. \n",
    "#### Why 100000\n",
    "- It is a resonable number to use to have a realistic averagerating, and if this is the average number of people who voted then lot more watched than the 50000. Moreover, the main reason is to get a better understanding of the genre of the movie and people who took time to rate it."
   ]
  },
  {
   "cell_type": "code",
   "execution_count": 18,
   "id": "560195d4",
   "metadata": {},
   "outputs": [],
   "source": [
    "movie_rating_basics_slice = movie_rating_basics[movie_rating_basics['numvotes'] >= 100000]"
   ]
  },
  {
   "cell_type": "code",
   "execution_count": 19,
   "id": "2ddfd1ab",
   "metadata": {
    "scrolled": true
   },
   "outputs": [
    {
     "data": {
      "text/html": [
       "<div>\n",
       "<style scoped>\n",
       "    .dataframe tbody tr th:only-of-type {\n",
       "        vertical-align: middle;\n",
       "    }\n",
       "\n",
       "    .dataframe tbody tr th {\n",
       "        vertical-align: top;\n",
       "    }\n",
       "\n",
       "    .dataframe thead th {\n",
       "        text-align: right;\n",
       "    }\n",
       "</style>\n",
       "<table border=\"1\" class=\"dataframe\">\n",
       "  <thead>\n",
       "    <tr style=\"text-align: right;\">\n",
       "      <th></th>\n",
       "      <th>averagerating</th>\n",
       "      <th>numvotes</th>\n",
       "      <th>start_year</th>\n",
       "      <th>runtime_minutes</th>\n",
       "      <th>genres</th>\n",
       "    </tr>\n",
       "  </thead>\n",
       "  <tbody>\n",
       "    <tr>\n",
       "      <th>16</th>\n",
       "      <td>7.6</td>\n",
       "      <td>326657</td>\n",
       "      <td>2011</td>\n",
       "      <td>133.0</td>\n",
       "      <td>Biography,Drama,Sport</td>\n",
       "    </tr>\n",
       "    <tr>\n",
       "      <th>19</th>\n",
       "      <td>7.4</td>\n",
       "      <td>428142</td>\n",
       "      <td>2011</td>\n",
       "      <td>132.0</td>\n",
       "      <td>Action,Adventure,Thriller</td>\n",
       "    </tr>\n",
       "    <tr>\n",
       "      <th>20</th>\n",
       "      <td>7.2</td>\n",
       "      <td>477771</td>\n",
       "      <td>2012</td>\n",
       "      <td>109.0</td>\n",
       "      <td>Action,Comedy,Crime</td>\n",
       "    </tr>\n",
       "    <tr>\n",
       "      <th>59</th>\n",
       "      <td>7.1</td>\n",
       "      <td>129443</td>\n",
       "      <td>2010</td>\n",
       "      <td>113.0</td>\n",
       "      <td>Drama,Romance</td>\n",
       "    </tr>\n",
       "    <tr>\n",
       "      <th>89</th>\n",
       "      <td>6.9</td>\n",
       "      <td>398695</td>\n",
       "      <td>2011</td>\n",
       "      <td>98.0</td>\n",
       "      <td>Comedy,Crime</td>\n",
       "    </tr>\n",
       "    <tr>\n",
       "      <th>...</th>\n",
       "      <td>...</td>\n",
       "      <td>...</td>\n",
       "      <td>...</td>\n",
       "      <td>...</td>\n",
       "      <td>...</td>\n",
       "    </tr>\n",
       "    <tr>\n",
       "      <th>72563</th>\n",
       "      <td>4.1</td>\n",
       "      <td>137734</td>\n",
       "      <td>2010</td>\n",
       "      <td>103.0</td>\n",
       "      <td>Action,Adventure,Family</td>\n",
       "    </tr>\n",
       "    <tr>\n",
       "      <th>72569</th>\n",
       "      <td>6.3</td>\n",
       "      <td>129663</td>\n",
       "      <td>2010</td>\n",
       "      <td>113.0</td>\n",
       "      <td>Adventure,Family,Fantasy</td>\n",
       "    </tr>\n",
       "    <tr>\n",
       "      <th>72597</th>\n",
       "      <td>7.6</td>\n",
       "      <td>175968</td>\n",
       "      <td>2011</td>\n",
       "      <td>101.0</td>\n",
       "      <td>Action,Thriller</td>\n",
       "    </tr>\n",
       "    <tr>\n",
       "      <th>72913</th>\n",
       "      <td>6.1</td>\n",
       "      <td>156432</td>\n",
       "      <td>2014</td>\n",
       "      <td>126.0</td>\n",
       "      <td>Action,Adventure,Thriller</td>\n",
       "    </tr>\n",
       "    <tr>\n",
       "      <th>73118</th>\n",
       "      <td>7.0</td>\n",
       "      <td>163279</td>\n",
       "      <td>2018</td>\n",
       "      <td>100.0</td>\n",
       "      <td>Action,Comedy,Crime</td>\n",
       "    </tr>\n",
       "  </tbody>\n",
       "</table>\n",
       "<p>618 rows × 5 columns</p>\n",
       "</div>"
      ],
      "text/plain": [
       "       averagerating  numvotes  start_year  runtime_minutes   \n",
       "16               7.6    326657        2011            133.0  \\\n",
       "19               7.4    428142        2011            132.0   \n",
       "20               7.2    477771        2012            109.0   \n",
       "59               7.1    129443        2010            113.0   \n",
       "89               6.9    398695        2011             98.0   \n",
       "...              ...       ...         ...              ...   \n",
       "72563            4.1    137734        2010            103.0   \n",
       "72569            6.3    129663        2010            113.0   \n",
       "72597            7.6    175968        2011            101.0   \n",
       "72913            6.1    156432        2014            126.0   \n",
       "73118            7.0    163279        2018            100.0   \n",
       "\n",
       "                          genres  \n",
       "16         Biography,Drama,Sport  \n",
       "19     Action,Adventure,Thriller  \n",
       "20           Action,Comedy,Crime  \n",
       "59                 Drama,Romance  \n",
       "89                  Comedy,Crime  \n",
       "...                          ...  \n",
       "72563    Action,Adventure,Family  \n",
       "72569   Adventure,Family,Fantasy  \n",
       "72597            Action,Thriller  \n",
       "72913  Action,Adventure,Thriller  \n",
       "73118        Action,Comedy,Crime  \n",
       "\n",
       "[618 rows x 5 columns]"
      ]
     },
     "execution_count": 19,
     "metadata": {},
     "output_type": "execute_result"
    }
   ],
   "source": [
    "movie_rating_basics_slice"
   ]
  },
  {
   "cell_type": "markdown",
   "id": "fb2b9658",
   "metadata": {},
   "source": [
    "##### Normalize the dataset.\n",
    "For easy visualization and working with the resonable range will normalize the dataset. The min - max scaling feature will be used to normalize the column"
   ]
  },
  {
   "cell_type": "code",
   "execution_count": 20,
   "id": "e386d48f",
   "metadata": {},
   "outputs": [],
   "source": [
    "# # normalized_df=(df-df.min())/(df.max()-df.min())\n",
    "# movie_rating_basics_slice['numvotes'] = ((movie_rating_basics_slice['numvotes'] - \n",
    "#                                           movie_rating_basics_slice['numvotes'].min())/\n",
    "#                                          (movie_rating_basics_slice['numvotes'].max()-\n",
    "#                                          movie_rating_basics_slice['numvotes'].min()))\n",
    "# movie_rating_basics_slice"
   ]
  },
  {
   "cell_type": "code",
   "execution_count": 21,
   "id": "375e94e3",
   "metadata": {
    "scrolled": false
   },
   "outputs": [
    {
     "name": "stdout",
     "output_type": "stream",
     "text": [
      "<class 'pandas.core.frame.DataFrame'>\n",
      "Index: 618 entries, 16 to 73118\n",
      "Data columns (total 5 columns):\n",
      " #   Column           Non-Null Count  Dtype  \n",
      "---  ------           --------------  -----  \n",
      " 0   averagerating    618 non-null    float64\n",
      " 1   numvotes         618 non-null    int64  \n",
      " 2   start_year       618 non-null    int64  \n",
      " 3   runtime_minutes  618 non-null    float64\n",
      " 4   genres           618 non-null    object \n",
      "dtypes: float64(2), int64(2), object(1)\n",
      "memory usage: 29.0+ KB\n"
     ]
    }
   ],
   "source": [
    "movie_rating_basics_slice.info()"
   ]
  },
  {
   "cell_type": "code",
   "execution_count": 22,
   "id": "a78f9529",
   "metadata": {},
   "outputs": [
    {
     "name": "stdout",
     "output_type": "stream",
     "text": [
      "<class 'pandas.core.frame.DataFrame'>\n",
      "Index: 618 entries, 16 to 73118\n",
      "Data columns (total 5 columns):\n",
      " #   Column           Non-Null Count  Dtype  \n",
      "---  ------           --------------  -----  \n",
      " 0   averagerating    618 non-null    float64\n",
      " 1   numvotes         618 non-null    int64  \n",
      " 2   start_year       618 non-null    int64  \n",
      " 3   runtime_minutes  618 non-null    float64\n",
      " 4   genres           618 non-null    object \n",
      "dtypes: float64(2), int64(2), object(1)\n",
      "memory usage: 29.0+ KB\n"
     ]
    }
   ],
   "source": [
    "movie_rating_basics_slice.info()"
   ]
  },
  {
   "cell_type": "markdown",
   "id": "c62e3b9c",
   "metadata": {},
   "source": [
    "###### Inspet each column to check any unique trait"
   ]
  },
  {
   "cell_type": "code",
   "execution_count": 23,
   "id": "cdec6f96",
   "metadata": {},
   "outputs": [
    {
     "data": {
      "text/html": [
       "<div>\n",
       "<style scoped>\n",
       "    .dataframe tbody tr th:only-of-type {\n",
       "        vertical-align: middle;\n",
       "    }\n",
       "\n",
       "    .dataframe tbody tr th {\n",
       "        vertical-align: top;\n",
       "    }\n",
       "\n",
       "    .dataframe thead th {\n",
       "        text-align: right;\n",
       "    }\n",
       "</style>\n",
       "<table border=\"1\" class=\"dataframe\">\n",
       "  <thead>\n",
       "    <tr style=\"text-align: right;\">\n",
       "      <th></th>\n",
       "      <th>averagerating</th>\n",
       "      <th>numvotes</th>\n",
       "      <th>start_year</th>\n",
       "      <th>runtime_minutes</th>\n",
       "    </tr>\n",
       "  </thead>\n",
       "  <tbody>\n",
       "    <tr>\n",
       "      <th>count</th>\n",
       "      <td>618.000000</td>\n",
       "      <td>6.180000e+02</td>\n",
       "      <td>618.000000</td>\n",
       "      <td>618.000000</td>\n",
       "    </tr>\n",
       "    <tr>\n",
       "      <th>mean</th>\n",
       "      <td>6.955340</td>\n",
       "      <td>2.621874e+05</td>\n",
       "      <td>2013.555016</td>\n",
       "      <td>116.592233</td>\n",
       "    </tr>\n",
       "    <tr>\n",
       "      <th>std</th>\n",
       "      <td>0.773013</td>\n",
       "      <td>1.915327e+05</td>\n",
       "      <td>2.413035</td>\n",
       "      <td>17.709031</td>\n",
       "    </tr>\n",
       "    <tr>\n",
       "      <th>min</th>\n",
       "      <td>4.100000</td>\n",
       "      <td>1.003180e+05</td>\n",
       "      <td>2010.000000</td>\n",
       "      <td>80.000000</td>\n",
       "    </tr>\n",
       "    <tr>\n",
       "      <th>25%</th>\n",
       "      <td>6.400000</td>\n",
       "      <td>1.359272e+05</td>\n",
       "      <td>2011.250000</td>\n",
       "      <td>104.000000</td>\n",
       "    </tr>\n",
       "    <tr>\n",
       "      <th>50%</th>\n",
       "      <td>7.000000</td>\n",
       "      <td>1.980145e+05</td>\n",
       "      <td>2013.000000</td>\n",
       "      <td>115.000000</td>\n",
       "    </tr>\n",
       "    <tr>\n",
       "      <th>75%</th>\n",
       "      <td>7.500000</td>\n",
       "      <td>3.258420e+05</td>\n",
       "      <td>2016.000000</td>\n",
       "      <td>128.000000</td>\n",
       "    </tr>\n",
       "    <tr>\n",
       "      <th>max</th>\n",
       "      <td>9.300000</td>\n",
       "      <td>1.841066e+06</td>\n",
       "      <td>2019.000000</td>\n",
       "      <td>181.000000</td>\n",
       "    </tr>\n",
       "  </tbody>\n",
       "</table>\n",
       "</div>"
      ],
      "text/plain": [
       "       averagerating      numvotes   start_year  runtime_minutes\n",
       "count     618.000000  6.180000e+02   618.000000       618.000000\n",
       "mean        6.955340  2.621874e+05  2013.555016       116.592233\n",
       "std         0.773013  1.915327e+05     2.413035        17.709031\n",
       "min         4.100000  1.003180e+05  2010.000000        80.000000\n",
       "25%         6.400000  1.359272e+05  2011.250000       104.000000\n",
       "50%         7.000000  1.980145e+05  2013.000000       115.000000\n",
       "75%         7.500000  3.258420e+05  2016.000000       128.000000\n",
       "max         9.300000  1.841066e+06  2019.000000       181.000000"
      ]
     },
     "execution_count": 23,
     "metadata": {},
     "output_type": "execute_result"
    }
   ],
   "source": [
    "# Describe the dataset\n",
    "movie_rating_basics_slice.describe()"
   ]
  },
  {
   "cell_type": "code",
   "execution_count": 24,
   "id": "5fd56080",
   "metadata": {},
   "outputs": [
    {
     "data": {
      "text/plain": [
       "start_year\n",
       "2013    94\n",
       "2011    83\n",
       "2014    81\n",
       "2012    73\n",
       "2010    72\n",
       "2016    69\n",
       "2015    58\n",
       "2017    51\n",
       "2018    32\n",
       "2019     5\n",
       "Name: count, dtype: int64"
      ]
     },
     "execution_count": 24,
     "metadata": {},
     "output_type": "execute_result"
    }
   ],
   "source": [
    "#Inspect the start_year\n",
    "#To check the unique years\n",
    "movie_rating_basics_slice['start_year'].value_counts()"
   ]
  },
  {
   "cell_type": "markdown",
   "id": "8009e98f",
   "metadata": {},
   "source": [
    "##### Checking for outliers in averagerating and num_votes"
   ]
  },
  {
   "cell_type": "code",
   "execution_count": 25,
   "id": "5230bc54",
   "metadata": {},
   "outputs": [
    {
     "data": {
      "image/png": "[encoded data removed]",
      "text/plain": [
       "<Figure size 640x480 with 1 Axes>"
      ]
     },
     "metadata": {},
     "output_type": "display_data"
    }
   ],
   "source": [
    "movie_rating_basics_slice.boxplot(column = ['averagerating']);"
   ]
  },
  {
   "cell_type": "code",
   "execution_count": 26,
   "id": "ec40320e",
   "metadata": {},
   "outputs": [
    {
     "data": {
      "image/png": "[encoded data removed]",
      "text/plain": [
       "<Figure size 640x480 with 1 Axes>"
      ]
     },
     "metadata": {},
     "output_type": "display_data"
    }
   ],
   "source": [
    "movie_rating_basics_slice.boxplot(column = ['averagerating']);"
   ]
  },
  {
   "cell_type": "markdown",
   "id": "0d841a0f",
   "metadata": {},
   "source": [
    "#### Number of votes with genre\n",
    "Using a bargraph to see the distibution of the genre with high num of votes "
   ]
  },
  {
   "cell_type": "code",
   "execution_count": 27,
   "id": "6e7e0762",
   "metadata": {},
   "outputs": [
    {
     "data": {
      "text/html": [
       "<div>\n",
       "<style scoped>\n",
       "    .dataframe tbody tr th:only-of-type {\n",
       "        vertical-align: middle;\n",
       "    }\n",
       "\n",
       "    .dataframe tbody tr th {\n",
       "        vertical-align: top;\n",
       "    }\n",
       "\n",
       "    .dataframe thead th {\n",
       "        text-align: right;\n",
       "    }\n",
       "</style>\n",
       "<table border=\"1\" class=\"dataframe\">\n",
       "  <thead>\n",
       "    <tr style=\"text-align: right;\">\n",
       "      <th></th>\n",
       "      <th>averagerating</th>\n",
       "      <th>numvotes</th>\n",
       "      <th>start_year</th>\n",
       "      <th>runtime_minutes</th>\n",
       "      <th>genres</th>\n",
       "    </tr>\n",
       "  </thead>\n",
       "  <tbody>\n",
       "    <tr>\n",
       "      <th>16</th>\n",
       "      <td>7.6</td>\n",
       "      <td>326657</td>\n",
       "      <td>2011</td>\n",
       "      <td>133.0</td>\n",
       "      <td>Biography,Drama,Sport</td>\n",
       "    </tr>\n",
       "    <tr>\n",
       "      <th>19</th>\n",
       "      <td>7.4</td>\n",
       "      <td>428142</td>\n",
       "      <td>2011</td>\n",
       "      <td>132.0</td>\n",
       "      <td>Action,Adventure,Thriller</td>\n",
       "    </tr>\n",
       "    <tr>\n",
       "      <th>20</th>\n",
       "      <td>7.2</td>\n",
       "      <td>477771</td>\n",
       "      <td>2012</td>\n",
       "      <td>109.0</td>\n",
       "      <td>Action,Comedy,Crime</td>\n",
       "    </tr>\n",
       "    <tr>\n",
       "      <th>59</th>\n",
       "      <td>7.1</td>\n",
       "      <td>129443</td>\n",
       "      <td>2010</td>\n",
       "      <td>113.0</td>\n",
       "      <td>Drama,Romance</td>\n",
       "    </tr>\n",
       "    <tr>\n",
       "      <th>89</th>\n",
       "      <td>6.9</td>\n",
       "      <td>398695</td>\n",
       "      <td>2011</td>\n",
       "      <td>98.0</td>\n",
       "      <td>Comedy,Crime</td>\n",
       "    </tr>\n",
       "  </tbody>\n",
       "</table>\n",
       "</div>"
      ],
      "text/plain": [
       "    averagerating  numvotes  start_year  runtime_minutes   \n",
       "16            7.6    326657        2011            133.0  \\\n",
       "19            7.4    428142        2011            132.0   \n",
       "20            7.2    477771        2012            109.0   \n",
       "59            7.1    129443        2010            113.0   \n",
       "89            6.9    398695        2011             98.0   \n",
       "\n",
       "                       genres  \n",
       "16      Biography,Drama,Sport  \n",
       "19  Action,Adventure,Thriller  \n",
       "20        Action,Comedy,Crime  \n",
       "59              Drama,Romance  \n",
       "89               Comedy,Crime  "
      ]
     },
     "execution_count": 27,
     "metadata": {},
     "output_type": "execute_result"
    }
   ],
   "source": [
    "movie_rating_basics_slice.head()"
   ]
  },
  {
   "cell_type": "code",
   "execution_count": 28,
   "id": "5f2fbdd6",
   "metadata": {
    "scrolled": true
   },
   "outputs": [
    {
     "data": {
      "image/png": "[encoded data removed]",
      "text/plain": [
       "<Figure size 1000x600 with 1 Axes>"
      ]
     },
     "metadata": {},
     "output_type": "display_data"
    }
   ],
   "source": [
    "plt.figure(figsize=(10,6))\n",
    "sns.barplot(x = 'genres', y = 'numvotes', data=movie_rating_basics_slice);"
   ]
  },
  {
   "cell_type": "code",
   "execution_count": 29,
   "id": "88bd8fcd",
   "metadata": {},
   "outputs": [
    {
     "data": {
      "text/plain": [
       "genres\n",
       "Action,Adventure,Sci-Fi       50\n",
       "Action,Adventure,Fantasy      28\n",
       "Adventure,Animation,Comedy    22\n",
       "Action,Adventure,Comedy       18\n",
       "Action,Comedy,Crime           17\n",
       "                              ..\n",
       "Adventure,Mystery,Sci-Fi       1\n",
       "Drama,Music,Romance            1\n",
       "Comedy,Sci-Fi                  1\n",
       "Family,Fantasy,Musical         1\n",
       "Drama,History,War              1\n",
       "Name: count, Length: 146, dtype: int64"
      ]
     },
     "execution_count": 29,
     "metadata": {},
     "output_type": "execute_result"
    }
   ],
   "source": [
    "movie_rating_basics_slice['genres'].value_counts()"
   ]
  },
  {
   "cell_type": "markdown",
   "id": "0751e75e",
   "metadata": {},
   "source": [
    "#### Slice further the dataset\n",
    "Its had to determing which genre is best because the genre has 146 unique inputs. Will slice the genre column and get the dataset with the top 10 most appreaing genre and compare them with the number of votes"
   ]
  },
  {
   "cell_type": "code",
   "execution_count": 30,
   "id": "88950384",
   "metadata": {},
   "outputs": [
    {
     "name": "stdout",
     "output_type": "stream",
     "text": [
      "The top genre are: \n",
      " ['Action,Adventure,Sci-Fi', 'Action,Adventure,Fantasy', 'Adventure,Animation,Comedy', 'Action,Adventure,Comedy', 'Action,Comedy,Crime', 'Comedy,Drama,Romance', 'Action,Crime,Thriller', 'Action,Adventure,Drama', 'Drama', 'Comedy']\n",
      "The top genre appreances are: \n",
      " [50, 28, 22, 18, 17, 16, 16, 16, 15, 14]\n"
     ]
    }
   ],
   "source": [
    "#Get the top 10 genre\n",
    "top_10_genre = movie_rating_basics_slice['genres'].value_counts().index[:10].tolist()\n",
    "top_10_genre_appearances = movie_rating_basics_slice['genres'].value_counts().values[:10].tolist()\n",
    "print(\"The top genre are: \\n\", top_10_genre)\n",
    "print(\"The top genre appreances are: \\n\", top_10_genre_appearances)"
   ]
  },
  {
   "cell_type": "code",
   "execution_count": 31,
   "id": "f307f961",
   "metadata": {},
   "outputs": [
    {
     "data": {
      "text/html": [
       "<div>\n",
       "<style scoped>\n",
       "    .dataframe tbody tr th:only-of-type {\n",
       "        vertical-align: middle;\n",
       "    }\n",
       "\n",
       "    .dataframe tbody tr th {\n",
       "        vertical-align: top;\n",
       "    }\n",
       "\n",
       "    .dataframe thead th {\n",
       "        text-align: right;\n",
       "    }\n",
       "</style>\n",
       "<table border=\"1\" class=\"dataframe\">\n",
       "  <thead>\n",
       "    <tr style=\"text-align: right;\">\n",
       "      <th></th>\n",
       "      <th>averagerating</th>\n",
       "      <th>numvotes</th>\n",
       "      <th>start_year</th>\n",
       "      <th>runtime_minutes</th>\n",
       "      <th>genres</th>\n",
       "    </tr>\n",
       "  </thead>\n",
       "  <tbody>\n",
       "    <tr>\n",
       "      <th>20</th>\n",
       "      <td>7.2</td>\n",
       "      <td>477771</td>\n",
       "      <td>2012</td>\n",
       "      <td>109.0</td>\n",
       "      <td>Action,Comedy,Crime</td>\n",
       "    </tr>\n",
       "    <tr>\n",
       "      <th>228</th>\n",
       "      <td>7.1</td>\n",
       "      <td>133887</td>\n",
       "      <td>2013</td>\n",
       "      <td>95.0</td>\n",
       "      <td>Comedy,Drama,Romance</td>\n",
       "    </tr>\n",
       "    <tr>\n",
       "      <th>330</th>\n",
       "      <td>6.7</td>\n",
       "      <td>167680</td>\n",
       "      <td>2010</td>\n",
       "      <td>112.0</td>\n",
       "      <td>Comedy,Drama,Romance</td>\n",
       "    </tr>\n",
       "    <tr>\n",
       "      <th>339</th>\n",
       "      <td>6.6</td>\n",
       "      <td>182320</td>\n",
       "      <td>2010</td>\n",
       "      <td>105.0</td>\n",
       "      <td>Action,Crime,Thriller</td>\n",
       "    </tr>\n",
       "    <tr>\n",
       "      <th>760</th>\n",
       "      <td>7.0</td>\n",
       "      <td>657690</td>\n",
       "      <td>2010</td>\n",
       "      <td>124.0</td>\n",
       "      <td>Action,Adventure,Sci-Fi</td>\n",
       "    </tr>\n",
       "    <tr>\n",
       "      <th>...</th>\n",
       "      <td>...</td>\n",
       "      <td>...</td>\n",
       "      <td>...</td>\n",
       "      <td>...</td>\n",
       "      <td>...</td>\n",
       "    </tr>\n",
       "    <tr>\n",
       "      <th>71537</th>\n",
       "      <td>6.3</td>\n",
       "      <td>110824</td>\n",
       "      <td>2011</td>\n",
       "      <td>101.0</td>\n",
       "      <td>Action,Adventure,Comedy</td>\n",
       "    </tr>\n",
       "    <tr>\n",
       "      <th>71702</th>\n",
       "      <td>4.8</td>\n",
       "      <td>181687</td>\n",
       "      <td>2013</td>\n",
       "      <td>100.0</td>\n",
       "      <td>Action,Adventure,Drama</td>\n",
       "    </tr>\n",
       "    <tr>\n",
       "      <th>71879</th>\n",
       "      <td>8.5</td>\n",
       "      <td>670926</td>\n",
       "      <td>2018</td>\n",
       "      <td>149.0</td>\n",
       "      <td>Action,Adventure,Sci-Fi</td>\n",
       "    </tr>\n",
       "    <tr>\n",
       "      <th>71946</th>\n",
       "      <td>7.5</td>\n",
       "      <td>290053</td>\n",
       "      <td>2017</td>\n",
       "      <td>122.0</td>\n",
       "      <td>Action,Crime,Thriller</td>\n",
       "    </tr>\n",
       "    <tr>\n",
       "      <th>73118</th>\n",
       "      <td>7.0</td>\n",
       "      <td>163279</td>\n",
       "      <td>2018</td>\n",
       "      <td>100.0</td>\n",
       "      <td>Action,Comedy,Crime</td>\n",
       "    </tr>\n",
       "  </tbody>\n",
       "</table>\n",
       "<p>212 rows × 5 columns</p>\n",
       "</div>"
      ],
      "text/plain": [
       "       averagerating  numvotes  start_year  runtime_minutes   \n",
       "20               7.2    477771        2012            109.0  \\\n",
       "228              7.1    133887        2013             95.0   \n",
       "330              6.7    167680        2010            112.0   \n",
       "339              6.6    182320        2010            105.0   \n",
       "760              7.0    657690        2010            124.0   \n",
       "...              ...       ...         ...              ...   \n",
       "71537            6.3    110824        2011            101.0   \n",
       "71702            4.8    181687        2013            100.0   \n",
       "71879            8.5    670926        2018            149.0   \n",
       "71946            7.5    290053        2017            122.0   \n",
       "73118            7.0    163279        2018            100.0   \n",
       "\n",
       "                        genres  \n",
       "20         Action,Comedy,Crime  \n",
       "228       Comedy,Drama,Romance  \n",
       "330       Comedy,Drama,Romance  \n",
       "339      Action,Crime,Thriller  \n",
       "760    Action,Adventure,Sci-Fi  \n",
       "...                        ...  \n",
       "71537  Action,Adventure,Comedy  \n",
       "71702   Action,Adventure,Drama  \n",
       "71879  Action,Adventure,Sci-Fi  \n",
       "71946    Action,Crime,Thriller  \n",
       "73118      Action,Comedy,Crime  \n",
       "\n",
       "[212 rows x 5 columns]"
      ]
     },
     "execution_count": 31,
     "metadata": {},
     "output_type": "execute_result"
    }
   ],
   "source": [
    "#Create a new dataset with the top 10 genre only\n",
    "top_movie_genre = movie_rating_basics_slice.loc[movie_rating_basics_slice['genres'].isin(top_10_genre)]\n",
    "top_movie_genre"
   ]
  },
  {
   "cell_type": "code",
   "execution_count": 32,
   "id": "44d0490f",
   "metadata": {
    "scrolled": true
   },
   "outputs": [
    {
     "data": {
      "text/plain": [
       "<Axes: xlabel='genres', ylabel='numvotes'>"
      ]
     },
     "execution_count": 32,
     "metadata": {},
     "output_type": "execute_result"
    },
    {
     "data": {
      "image/png": "[encoded data removed]",
      "text/plain": [
       "<Figure size 1000x600 with 1 Axes>"
      ]
     },
     "metadata": {},
     "output_type": "display_data"
    }
   ],
   "source": [
    "plt.figure(figsize=(10,6))\n",
    "sns.barplot(x = 'genres', y = 'numvotes', data=top_movie_genre)"
   ]
  },
  {
   "cell_type": "markdown",
   "id": "9258a7de",
   "metadata": {},
   "source": [
    "#### Grouping the new dataset to get a better understanding\n",
    "Group the top_movie_genre using genre to only have the top 10 genre and find the mean of the grouped number of votes"
   ]
  },
  {
   "cell_type": "code",
   "execution_count": 33,
   "id": "1e8f7def",
   "metadata": {
    "scrolled": true
   },
   "outputs": [
    {
     "data": {
      "text/html": [
       "<div>\n",
       "<style scoped>\n",
       "    .dataframe tbody tr th:only-of-type {\n",
       "        vertical-align: middle;\n",
       "    }\n",
       "\n",
       "    .dataframe tbody tr th {\n",
       "        vertical-align: top;\n",
       "    }\n",
       "\n",
       "    .dataframe thead th {\n",
       "        text-align: right;\n",
       "    }\n",
       "</style>\n",
       "<table border=\"1\" class=\"dataframe\">\n",
       "  <thead>\n",
       "    <tr style=\"text-align: right;\">\n",
       "      <th></th>\n",
       "      <th>genres</th>\n",
       "      <th>numvotes</th>\n",
       "    </tr>\n",
       "  </thead>\n",
       "  <tbody>\n",
       "    <tr>\n",
       "      <th>0</th>\n",
       "      <td>Action,Adventure,Comedy</td>\n",
       "      <td>352660.222222</td>\n",
       "    </tr>\n",
       "    <tr>\n",
       "      <th>1</th>\n",
       "      <td>Action,Adventure,Drama</td>\n",
       "      <td>196656.000000</td>\n",
       "    </tr>\n",
       "    <tr>\n",
       "      <th>2</th>\n",
       "      <td>Action,Adventure,Fantasy</td>\n",
       "      <td>316940.571429</td>\n",
       "    </tr>\n",
       "    <tr>\n",
       "      <th>3</th>\n",
       "      <td>Action,Adventure,Sci-Fi</td>\n",
       "      <td>446764.040000</td>\n",
       "    </tr>\n",
       "    <tr>\n",
       "      <th>4</th>\n",
       "      <td>Action,Comedy,Crime</td>\n",
       "      <td>206703.294118</td>\n",
       "    </tr>\n",
       "    <tr>\n",
       "      <th>5</th>\n",
       "      <td>Action,Crime,Thriller</td>\n",
       "      <td>221058.062500</td>\n",
       "    </tr>\n",
       "    <tr>\n",
       "      <th>6</th>\n",
       "      <td>Adventure,Animation,Comedy</td>\n",
       "      <td>280868.000000</td>\n",
       "    </tr>\n",
       "    <tr>\n",
       "      <th>7</th>\n",
       "      <td>Comedy</td>\n",
       "      <td>174131.285714</td>\n",
       "    </tr>\n",
       "    <tr>\n",
       "      <th>8</th>\n",
       "      <td>Comedy,Drama,Romance</td>\n",
       "      <td>213493.062500</td>\n",
       "    </tr>\n",
       "    <tr>\n",
       "      <th>9</th>\n",
       "      <td>Drama</td>\n",
       "      <td>201626.466667</td>\n",
       "    </tr>\n",
       "  </tbody>\n",
       "</table>\n",
       "</div>"
      ],
      "text/plain": [
       "                       genres       numvotes\n",
       "0     Action,Adventure,Comedy  352660.222222\n",
       "1      Action,Adventure,Drama  196656.000000\n",
       "2    Action,Adventure,Fantasy  316940.571429\n",
       "3     Action,Adventure,Sci-Fi  446764.040000\n",
       "4         Action,Comedy,Crime  206703.294118\n",
       "5       Action,Crime,Thriller  221058.062500\n",
       "6  Adventure,Animation,Comedy  280868.000000\n",
       "7                      Comedy  174131.285714\n",
       "8        Comedy,Drama,Romance  213493.062500\n",
       "9                       Drama  201626.466667"
      ]
     },
     "execution_count": 33,
     "metadata": {},
     "output_type": "execute_result"
    }
   ],
   "source": [
    "grp_top = top_movie_genre.groupby('genres')['numvotes'].mean().reset_index()\n",
    "grp_top"
   ]
  },
  {
   "cell_type": "markdown",
   "id": "939597a3",
   "metadata": {},
   "source": [
    "#### Visualize the grouped dataset"
   ]
  },
  {
   "cell_type": "code",
   "execution_count": 34,
   "id": "7be653b7",
   "metadata": {
    "scrolled": true
   },
   "outputs": [
    {
     "data": {
      "image/png": "[encoded data removed]",
      "text/plain": [
       "<Figure size 1000x600 with 1 Axes>"
      ]
     },
     "metadata": {},
     "output_type": "display_data"
    }
   ],
   "source": [
    "plt.figure(figsize=(10,6))\n",
    "sns.barplot(x = 'genres', y = 'numvotes', data=grp_top)\n",
    "plt.title(\"The Genre with high number of voting\")\n",
    "plt.xticks(rotation=45);"
   ]
  },
  {
   "cell_type": "markdown",
   "id": "6d101e92",
   "metadata": {},
   "source": [
    "#### Top movies with the runtime\n",
    "The mean of the runtime for the top 10 genre"
   ]
  },
  {
   "cell_type": "code",
   "execution_count": 35,
   "id": "93a501ee",
   "metadata": {
    "scrolled": true
   },
   "outputs": [
    {
     "data": {
      "text/html": [
       "<div>\n",
       "<style scoped>\n",
       "    .dataframe tbody tr th:only-of-type {\n",
       "        vertical-align: middle;\n",
       "    }\n",
       "\n",
       "    .dataframe tbody tr th {\n",
       "        vertical-align: top;\n",
       "    }\n",
       "\n",
       "    .dataframe thead th {\n",
       "        text-align: right;\n",
       "    }\n",
       "</style>\n",
       "<table border=\"1\" class=\"dataframe\">\n",
       "  <thead>\n",
       "    <tr style=\"text-align: right;\">\n",
       "      <th></th>\n",
       "      <th>runtime_minutes</th>\n",
       "    </tr>\n",
       "  </thead>\n",
       "  <tbody>\n",
       "    <tr>\n",
       "      <th>count</th>\n",
       "      <td>10.000000</td>\n",
       "    </tr>\n",
       "    <tr>\n",
       "      <th>mean</th>\n",
       "      <td>115.258157</td>\n",
       "    </tr>\n",
       "    <tr>\n",
       "      <th>std</th>\n",
       "      <td>10.380491</td>\n",
       "    </tr>\n",
       "    <tr>\n",
       "      <th>min</th>\n",
       "      <td>98.363636</td>\n",
       "    </tr>\n",
       "    <tr>\n",
       "      <th>25%</th>\n",
       "      <td>107.921875</td>\n",
       "    </tr>\n",
       "    <tr>\n",
       "      <th>50%</th>\n",
       "      <td>118.954861</td>\n",
       "    </tr>\n",
       "    <tr>\n",
       "      <th>75%</th>\n",
       "      <td>120.371429</td>\n",
       "    </tr>\n",
       "    <tr>\n",
       "      <th>max</th>\n",
       "      <td>132.060000</td>\n",
       "    </tr>\n",
       "  </tbody>\n",
       "</table>\n",
       "</div>"
      ],
      "text/plain": [
       "       runtime_minutes\n",
       "count        10.000000\n",
       "mean        115.258157\n",
       "std          10.380491\n",
       "min          98.363636\n",
       "25%         107.921875\n",
       "50%         118.954861\n",
       "75%         120.371429\n",
       "max         132.060000"
      ]
     },
     "execution_count": 35,
     "metadata": {},
     "output_type": "execute_result"
    }
   ],
   "source": [
    "grp_top = top_movie_genre.groupby('genres')['runtime_minutes'].mean().reset_index()\n",
    "grp_top.describe()"
   ]
  },
  {
   "cell_type": "markdown",
   "id": "14202575",
   "metadata": {},
   "source": [
    "### Finding\n",
    "- Film with the Action, Adventure and fantacy are most watched and get most of the reactions. \n",
    "- From the top movies dataset the data mean runtime is 116minutes"
   ]
  },
  {
   "cell_type": "markdown",
   "id": "73168565",
   "metadata": {},
   "source": [
    "## b. Determine the relationship between movie budget production and its domestic and worldwide gross\n",
    "The movie budget dataset will be of essence to understand any relationship between the production budget, domestic and worldwide gross.\n",
    "\n",
    "To understand the data, \"Domestic\" refers to gross box-office revenue from North America (U.S., Canada, and Puerto Rico), unless otherwise noted. \"International/worldwide\" covers the rest of the world."
   ]
  },
  {
   "cell_type": "markdown",
   "id": "e96578c4",
   "metadata": {},
   "source": [
    "###### Upload the tn movie budget dataset"
   ]
  },
  {
   "cell_type": "code",
   "execution_count": 36,
   "id": "b8707419",
   "metadata": {
    "scrolled": true
   },
   "outputs": [
    {
     "data": {
      "text/html": [
       "<div>\n",
       "<style scoped>\n",
       "    .dataframe tbody tr th:only-of-type {\n",
       "        vertical-align: middle;\n",
       "    }\n",
       "\n",
       "    .dataframe tbody tr th {\n",
       "        vertical-align: top;\n",
       "    }\n",
       "\n",
       "    .dataframe thead th {\n",
       "        text-align: right;\n",
       "    }\n",
       "</style>\n",
       "<table border=\"1\" class=\"dataframe\">\n",
       "  <thead>\n",
       "    <tr style=\"text-align: right;\">\n",
       "      <th></th>\n",
       "      <th>id</th>\n",
       "      <th>release_date</th>\n",
       "      <th>movie</th>\n",
       "      <th>production_budget</th>\n",
       "      <th>domestic_gross</th>\n",
       "      <th>worldwide_gross</th>\n",
       "    </tr>\n",
       "  </thead>\n",
       "  <tbody>\n",
       "    <tr>\n",
       "      <th>0</th>\n",
       "      <td>1</td>\n",
       "      <td>Dec 18, 2009</td>\n",
       "      <td>Avatar</td>\n",
       "      <td>$425,000,000</td>\n",
       "      <td>$760,507,625</td>\n",
       "      <td>$2,776,345,279</td>\n",
       "    </tr>\n",
       "    <tr>\n",
       "      <th>1</th>\n",
       "      <td>2</td>\n",
       "      <td>May 20, 2011</td>\n",
       "      <td>Pirates of the Caribbean: On Stranger Tides</td>\n",
       "      <td>$410,600,000</td>\n",
       "      <td>$241,063,875</td>\n",
       "      <td>$1,045,663,875</td>\n",
       "    </tr>\n",
       "    <tr>\n",
       "      <th>2</th>\n",
       "      <td>3</td>\n",
       "      <td>Jun 7, 2019</td>\n",
       "      <td>Dark Phoenix</td>\n",
       "      <td>$350,000,000</td>\n",
       "      <td>$42,762,350</td>\n",
       "      <td>$149,762,350</td>\n",
       "    </tr>\n",
       "    <tr>\n",
       "      <th>3</th>\n",
       "      <td>4</td>\n",
       "      <td>May 1, 2015</td>\n",
       "      <td>Avengers: Age of Ultron</td>\n",
       "      <td>$330,600,000</td>\n",
       "      <td>$459,005,868</td>\n",
       "      <td>$1,403,013,963</td>\n",
       "    </tr>\n",
       "    <tr>\n",
       "      <th>4</th>\n",
       "      <td>5</td>\n",
       "      <td>Dec 15, 2017</td>\n",
       "      <td>Star Wars Ep. VIII: The Last Jedi</td>\n",
       "      <td>$317,000,000</td>\n",
       "      <td>$620,181,382</td>\n",
       "      <td>$1,316,721,747</td>\n",
       "    </tr>\n",
       "    <tr>\n",
       "      <th>...</th>\n",
       "      <td>...</td>\n",
       "      <td>...</td>\n",
       "      <td>...</td>\n",
       "      <td>...</td>\n",
       "      <td>...</td>\n",
       "      <td>...</td>\n",
       "    </tr>\n",
       "    <tr>\n",
       "      <th>5777</th>\n",
       "      <td>78</td>\n",
       "      <td>Dec 31, 2018</td>\n",
       "      <td>Red 11</td>\n",
       "      <td>$7,000</td>\n",
       "      <td>$0</td>\n",
       "      <td>$0</td>\n",
       "    </tr>\n",
       "    <tr>\n",
       "      <th>5778</th>\n",
       "      <td>79</td>\n",
       "      <td>Apr 2, 1999</td>\n",
       "      <td>Following</td>\n",
       "      <td>$6,000</td>\n",
       "      <td>$48,482</td>\n",
       "      <td>$240,495</td>\n",
       "    </tr>\n",
       "    <tr>\n",
       "      <th>5779</th>\n",
       "      <td>80</td>\n",
       "      <td>Jul 13, 2005</td>\n",
       "      <td>Return to the Land of Wonders</td>\n",
       "      <td>$5,000</td>\n",
       "      <td>$1,338</td>\n",
       "      <td>$1,338</td>\n",
       "    </tr>\n",
       "    <tr>\n",
       "      <th>5780</th>\n",
       "      <td>81</td>\n",
       "      <td>Sep 29, 2015</td>\n",
       "      <td>A Plague So Pleasant</td>\n",
       "      <td>$1,400</td>\n",
       "      <td>$0</td>\n",
       "      <td>$0</td>\n",
       "    </tr>\n",
       "    <tr>\n",
       "      <th>5781</th>\n",
       "      <td>82</td>\n",
       "      <td>Aug 5, 2005</td>\n",
       "      <td>My Date With Drew</td>\n",
       "      <td>$1,100</td>\n",
       "      <td>$181,041</td>\n",
       "      <td>$181,041</td>\n",
       "    </tr>\n",
       "  </tbody>\n",
       "</table>\n",
       "<p>5782 rows × 6 columns</p>\n",
       "</div>"
      ],
      "text/plain": [
       "      id  release_date                                        movie   \n",
       "0      1  Dec 18, 2009                                       Avatar  \\\n",
       "1      2  May 20, 2011  Pirates of the Caribbean: On Stranger Tides   \n",
       "2      3   Jun 7, 2019                                 Dark Phoenix   \n",
       "3      4   May 1, 2015                      Avengers: Age of Ultron   \n",
       "4      5  Dec 15, 2017            Star Wars Ep. VIII: The Last Jedi   \n",
       "...   ..           ...                                          ...   \n",
       "5777  78  Dec 31, 2018                                       Red 11   \n",
       "5778  79   Apr 2, 1999                                    Following   \n",
       "5779  80  Jul 13, 2005                Return to the Land of Wonders   \n",
       "5780  81  Sep 29, 2015                         A Plague So Pleasant   \n",
       "5781  82   Aug 5, 2005                            My Date With Drew   \n",
       "\n",
       "     production_budget domestic_gross worldwide_gross  \n",
       "0         $425,000,000   $760,507,625  $2,776,345,279  \n",
       "1         $410,600,000   $241,063,875  $1,045,663,875  \n",
       "2         $350,000,000    $42,762,350    $149,762,350  \n",
       "3         $330,600,000   $459,005,868  $1,403,013,963  \n",
       "4         $317,000,000   $620,181,382  $1,316,721,747  \n",
       "...                ...            ...             ...  \n",
       "5777            $7,000             $0              $0  \n",
       "5778            $6,000        $48,482        $240,495  \n",
       "5779            $5,000         $1,338          $1,338  \n",
       "5780            $1,400             $0              $0  \n",
       "5781            $1,100       $181,041        $181,041  \n",
       "\n",
       "[5782 rows x 6 columns]"
      ]
     },
     "execution_count": 36,
     "metadata": {},
     "output_type": "execute_result"
    }
   ],
   "source": [
    "#upload data\n",
    "budget = pd.read_csv('data/tn.movie_budgets.csv')\n",
    "budget"
   ]
  },
  {
   "cell_type": "markdown",
   "id": "1d456671",
   "metadata": {},
   "source": [
    "###### Inspect the dataset"
   ]
  },
  {
   "cell_type": "code",
   "execution_count": 37,
   "id": "8dbe5846",
   "metadata": {},
   "outputs": [
    {
     "data": {
      "text/plain": [
       "(5782, 6)"
      ]
     },
     "execution_count": 37,
     "metadata": {},
     "output_type": "execute_result"
    }
   ],
   "source": [
    "# Find the shape\n",
    "budget.shape"
   ]
  },
  {
   "cell_type": "code",
   "execution_count": 38,
   "id": "7efe5313",
   "metadata": {},
   "outputs": [
    {
     "name": "stdout",
     "output_type": "stream",
     "text": [
      "<class 'pandas.core.frame.DataFrame'>\n",
      "RangeIndex: 5782 entries, 0 to 5781\n",
      "Data columns (total 6 columns):\n",
      " #   Column             Non-Null Count  Dtype \n",
      "---  ------             --------------  ----- \n",
      " 0   id                 5782 non-null   int64 \n",
      " 1   release_date       5782 non-null   object\n",
      " 2   movie              5782 non-null   object\n",
      " 3   production_budget  5782 non-null   object\n",
      " 4   domestic_gross     5782 non-null   object\n",
      " 5   worldwide_gross    5782 non-null   object\n",
      "dtypes: int64(1), object(5)\n",
      "memory usage: 271.2+ KB\n"
     ]
    }
   ],
   "source": [
    "# The column info\n",
    "budget.info()"
   ]
  },
  {
   "cell_type": "code",
   "execution_count": 39,
   "id": "519d2ef8",
   "metadata": {},
   "outputs": [
    {
     "data": {
      "text/plain": [
       "0"
      ]
     },
     "execution_count": 39,
     "metadata": {},
     "output_type": "execute_result"
    }
   ],
   "source": [
    "#CHeck for duplicates\n",
    "budget.duplicated().sum()"
   ]
  },
  {
   "cell_type": "code",
   "execution_count": 40,
   "id": "a688d3eb",
   "metadata": {
    "scrolled": true
   },
   "outputs": [
    {
     "data": {
      "text/plain": [
       "84"
      ]
     },
     "execution_count": 40,
     "metadata": {},
     "output_type": "execute_result"
    }
   ],
   "source": [
    "#Check any duplicates in movie column\n",
    "budget['movie'].duplicated().sum()"
   ]
  },
  {
   "cell_type": "code",
   "execution_count": 41,
   "id": "09611e84",
   "metadata": {},
   "outputs": [],
   "source": [
    "#drop the duplicates\n",
    "budget.drop_duplicates(subset=['movie'], inplace=True)"
   ]
  },
  {
   "cell_type": "code",
   "execution_count": 42,
   "id": "f17f33cf",
   "metadata": {},
   "outputs": [
    {
     "data": {
      "text/plain": [
       "0"
      ]
     },
     "execution_count": 42,
     "metadata": {},
     "output_type": "execute_result"
    }
   ],
   "source": [
    "#CHeck for duplicates\n",
    "budget.duplicated().sum()"
   ]
  },
  {
   "cell_type": "markdown",
   "id": "4171fa69",
   "metadata": {},
   "source": [
    "No missing values but has wrong data types for the budget and gross column. \n",
    "Has no duplicates"
   ]
  },
  {
   "cell_type": "markdown",
   "id": "e5e82e74",
   "metadata": {},
   "source": [
    "#### Cleaning the dataset"
   ]
  },
  {
   "cell_type": "markdown",
   "id": "1169ad58",
   "metadata": {},
   "source": [
    "Remove dollar signs and commas then convert to an interger."
   ]
  },
  {
   "cell_type": "code",
   "execution_count": 43,
   "id": "131a1b2c",
   "metadata": {},
   "outputs": [
    {
     "data": {
      "text/html": [
       "<div>\n",
       "<style scoped>\n",
       "    .dataframe tbody tr th:only-of-type {\n",
       "        vertical-align: middle;\n",
       "    }\n",
       "\n",
       "    .dataframe tbody tr th {\n",
       "        vertical-align: top;\n",
       "    }\n",
       "\n",
       "    .dataframe thead th {\n",
       "        text-align: right;\n",
       "    }\n",
       "</style>\n",
       "<table border=\"1\" class=\"dataframe\">\n",
       "  <thead>\n",
       "    <tr style=\"text-align: right;\">\n",
       "      <th></th>\n",
       "      <th>id</th>\n",
       "      <th>release_date</th>\n",
       "      <th>movie</th>\n",
       "      <th>production_budget</th>\n",
       "      <th>domestic_gross</th>\n",
       "      <th>worldwide_gross</th>\n",
       "    </tr>\n",
       "  </thead>\n",
       "  <tbody>\n",
       "    <tr>\n",
       "      <th>0</th>\n",
       "      <td>1</td>\n",
       "      <td>Dec 18, 2009</td>\n",
       "      <td>Avatar</td>\n",
       "      <td>$425,000,000</td>\n",
       "      <td>$760,507,625</td>\n",
       "      <td>$2,776,345,279</td>\n",
       "    </tr>\n",
       "    <tr>\n",
       "      <th>1</th>\n",
       "      <td>2</td>\n",
       "      <td>May 20, 2011</td>\n",
       "      <td>Pirates of the Caribbean: On Stranger Tides</td>\n",
       "      <td>$410,600,000</td>\n",
       "      <td>$241,063,875</td>\n",
       "      <td>$1,045,663,875</td>\n",
       "    </tr>\n",
       "    <tr>\n",
       "      <th>2</th>\n",
       "      <td>3</td>\n",
       "      <td>Jun 7, 2019</td>\n",
       "      <td>Dark Phoenix</td>\n",
       "      <td>$350,000,000</td>\n",
       "      <td>$42,762,350</td>\n",
       "      <td>$149,762,350</td>\n",
       "    </tr>\n",
       "    <tr>\n",
       "      <th>3</th>\n",
       "      <td>4</td>\n",
       "      <td>May 1, 2015</td>\n",
       "      <td>Avengers: Age of Ultron</td>\n",
       "      <td>$330,600,000</td>\n",
       "      <td>$459,005,868</td>\n",
       "      <td>$1,403,013,963</td>\n",
       "    </tr>\n",
       "    <tr>\n",
       "      <th>4</th>\n",
       "      <td>5</td>\n",
       "      <td>Dec 15, 2017</td>\n",
       "      <td>Star Wars Ep. VIII: The Last Jedi</td>\n",
       "      <td>$317,000,000</td>\n",
       "      <td>$620,181,382</td>\n",
       "      <td>$1,316,721,747</td>\n",
       "    </tr>\n",
       "  </tbody>\n",
       "</table>\n",
       "</div>"
      ],
      "text/plain": [
       "   id  release_date                                        movie   \n",
       "0   1  Dec 18, 2009                                       Avatar  \\\n",
       "1   2  May 20, 2011  Pirates of the Caribbean: On Stranger Tides   \n",
       "2   3   Jun 7, 2019                                 Dark Phoenix   \n",
       "3   4   May 1, 2015                      Avengers: Age of Ultron   \n",
       "4   5  Dec 15, 2017            Star Wars Ep. VIII: The Last Jedi   \n",
       "\n",
       "  production_budget domestic_gross worldwide_gross  \n",
       "0      $425,000,000   $760,507,625  $2,776,345,279  \n",
       "1      $410,600,000   $241,063,875  $1,045,663,875  \n",
       "2      $350,000,000    $42,762,350    $149,762,350  \n",
       "3      $330,600,000   $459,005,868  $1,403,013,963  \n",
       "4      $317,000,000   $620,181,382  $1,316,721,747  "
      ]
     },
     "execution_count": 43,
     "metadata": {},
     "output_type": "execute_result"
    }
   ],
   "source": [
    "budget.head()"
   ]
  },
  {
   "cell_type": "code",
   "execution_count": 44,
   "id": "f3690c07",
   "metadata": {},
   "outputs": [
    {
     "data": {
      "text/html": [
       "<div>\n",
       "<style scoped>\n",
       "    .dataframe tbody tr th:only-of-type {\n",
       "        vertical-align: middle;\n",
       "    }\n",
       "\n",
       "    .dataframe tbody tr th {\n",
       "        vertical-align: top;\n",
       "    }\n",
       "\n",
       "    .dataframe thead th {\n",
       "        text-align: right;\n",
       "    }\n",
       "</style>\n",
       "<table border=\"1\" class=\"dataframe\">\n",
       "  <thead>\n",
       "    <tr style=\"text-align: right;\">\n",
       "      <th></th>\n",
       "      <th>id</th>\n",
       "      <th>release_date</th>\n",
       "      <th>movie</th>\n",
       "      <th>production_budget</th>\n",
       "      <th>domestic_gross</th>\n",
       "      <th>worldwide_gross</th>\n",
       "    </tr>\n",
       "  </thead>\n",
       "  <tbody>\n",
       "    <tr>\n",
       "      <th>0</th>\n",
       "      <td>1</td>\n",
       "      <td>Dec 18, 2009</td>\n",
       "      <td>Avatar</td>\n",
       "      <td>425000000</td>\n",
       "      <td>760507625</td>\n",
       "      <td>2776345279</td>\n",
       "    </tr>\n",
       "    <tr>\n",
       "      <th>1</th>\n",
       "      <td>2</td>\n",
       "      <td>May 20, 2011</td>\n",
       "      <td>Pirates of the Caribbean: On Stranger Tides</td>\n",
       "      <td>410600000</td>\n",
       "      <td>241063875</td>\n",
       "      <td>1045663875</td>\n",
       "    </tr>\n",
       "    <tr>\n",
       "      <th>2</th>\n",
       "      <td>3</td>\n",
       "      <td>Jun 7, 2019</td>\n",
       "      <td>Dark Phoenix</td>\n",
       "      <td>350000000</td>\n",
       "      <td>42762350</td>\n",
       "      <td>149762350</td>\n",
       "    </tr>\n",
       "    <tr>\n",
       "      <th>3</th>\n",
       "      <td>4</td>\n",
       "      <td>May 1, 2015</td>\n",
       "      <td>Avengers: Age of Ultron</td>\n",
       "      <td>330600000</td>\n",
       "      <td>459005868</td>\n",
       "      <td>1403013963</td>\n",
       "    </tr>\n",
       "    <tr>\n",
       "      <th>4</th>\n",
       "      <td>5</td>\n",
       "      <td>Dec 15, 2017</td>\n",
       "      <td>Star Wars Ep. VIII: The Last Jedi</td>\n",
       "      <td>317000000</td>\n",
       "      <td>620181382</td>\n",
       "      <td>1316721747</td>\n",
       "    </tr>\n",
       "  </tbody>\n",
       "</table>\n",
       "</div>"
      ],
      "text/plain": [
       "   id  release_date                                        movie   \n",
       "0   1  Dec 18, 2009                                       Avatar  \\\n",
       "1   2  May 20, 2011  Pirates of the Caribbean: On Stranger Tides   \n",
       "2   3   Jun 7, 2019                                 Dark Phoenix   \n",
       "3   4   May 1, 2015                      Avengers: Age of Ultron   \n",
       "4   5  Dec 15, 2017            Star Wars Ep. VIII: The Last Jedi   \n",
       "\n",
       "  production_budget domestic_gross worldwide_gross  \n",
       "0         425000000      760507625      2776345279  \n",
       "1         410600000      241063875      1045663875  \n",
       "2         350000000       42762350       149762350  \n",
       "3         330600000      459005868      1403013963  \n",
       "4         317000000      620181382      1316721747  "
      ]
     },
     "execution_count": 44,
     "metadata": {},
     "output_type": "execute_result"
    }
   ],
   "source": [
    "clean_column = ['production_budget','domestic_gross','worldwide_gross']\n",
    "budget[clean_column] = budget[clean_column].apply(lambda x: x.str.replace('$','').str.replace(',',''))\n",
    "budget.head()"
   ]
  },
  {
   "cell_type": "code",
   "execution_count": 45,
   "id": "c9d33a4c",
   "metadata": {},
   "outputs": [
    {
     "name": "stdout",
     "output_type": "stream",
     "text": [
      "<class 'pandas.core.frame.DataFrame'>\n",
      "Index: 5698 entries, 0 to 5781\n",
      "Data columns (total 6 columns):\n",
      " #   Column             Non-Null Count  Dtype \n",
      "---  ------             --------------  ----- \n",
      " 0   id                 5698 non-null   int64 \n",
      " 1   release_date       5698 non-null   object\n",
      " 2   movie              5698 non-null   object\n",
      " 3   production_budget  5698 non-null   int64 \n",
      " 4   domestic_gross     5698 non-null   int64 \n",
      " 5   worldwide_gross    5698 non-null   int64 \n",
      "dtypes: int64(4), object(2)\n",
      "memory usage: 311.6+ KB\n"
     ]
    }
   ],
   "source": [
    "#COnverting the columns to intergers\n",
    "budget[clean_column] = budget[clean_column].astype(int)\n",
    "budget.info()"
   ]
  },
  {
   "cell_type": "code",
   "execution_count": 46,
   "id": "b9501e28",
   "metadata": {
    "scrolled": true
   },
   "outputs": [
    {
     "data": {
      "text/plain": [
       "id                                  100\n",
       "release_date                Sep 9, 2016\n",
       "movie                é·æ±ä¸è (CJ7)\n",
       "production_budget             425000000\n",
       "domestic_gross                936662225\n",
       "worldwide_gross              2776345279\n",
       "dtype: object"
      ]
     },
     "execution_count": 46,
     "metadata": {},
     "output_type": "execute_result"
    }
   ],
   "source": [
    "budget.max()"
   ]
  },
  {
   "cell_type": "code",
   "execution_count": 47,
   "id": "e393b98d",
   "metadata": {},
   "outputs": [
    {
     "data": {
      "text/html": [
       "<div>\n",
       "<style scoped>\n",
       "    .dataframe tbody tr th:only-of-type {\n",
       "        vertical-align: middle;\n",
       "    }\n",
       "\n",
       "    .dataframe tbody tr th {\n",
       "        vertical-align: top;\n",
       "    }\n",
       "\n",
       "    .dataframe thead th {\n",
       "        text-align: right;\n",
       "    }\n",
       "</style>\n",
       "<table border=\"1\" class=\"dataframe\">\n",
       "  <thead>\n",
       "    <tr style=\"text-align: right;\">\n",
       "      <th></th>\n",
       "      <th>id</th>\n",
       "      <th>release_date</th>\n",
       "      <th>movie</th>\n",
       "      <th>production_budget</th>\n",
       "      <th>domestic_gross</th>\n",
       "      <th>worldwide_gross</th>\n",
       "    </tr>\n",
       "  </thead>\n",
       "  <tbody>\n",
       "    <tr>\n",
       "      <th>0</th>\n",
       "      <td>1</td>\n",
       "      <td>2009</td>\n",
       "      <td>Avatar</td>\n",
       "      <td>425000000</td>\n",
       "      <td>760507625</td>\n",
       "      <td>2776345279</td>\n",
       "    </tr>\n",
       "    <tr>\n",
       "      <th>1</th>\n",
       "      <td>2</td>\n",
       "      <td>2011</td>\n",
       "      <td>Pirates of the Caribbean: On Stranger Tides</td>\n",
       "      <td>410600000</td>\n",
       "      <td>241063875</td>\n",
       "      <td>1045663875</td>\n",
       "    </tr>\n",
       "    <tr>\n",
       "      <th>2</th>\n",
       "      <td>3</td>\n",
       "      <td>2019</td>\n",
       "      <td>Dark Phoenix</td>\n",
       "      <td>350000000</td>\n",
       "      <td>42762350</td>\n",
       "      <td>149762350</td>\n",
       "    </tr>\n",
       "    <tr>\n",
       "      <th>3</th>\n",
       "      <td>4</td>\n",
       "      <td>2015</td>\n",
       "      <td>Avengers: Age of Ultron</td>\n",
       "      <td>330600000</td>\n",
       "      <td>459005868</td>\n",
       "      <td>1403013963</td>\n",
       "    </tr>\n",
       "    <tr>\n",
       "      <th>4</th>\n",
       "      <td>5</td>\n",
       "      <td>2017</td>\n",
       "      <td>Star Wars Ep. VIII: The Last Jedi</td>\n",
       "      <td>317000000</td>\n",
       "      <td>620181382</td>\n",
       "      <td>1316721747</td>\n",
       "    </tr>\n",
       "  </tbody>\n",
       "</table>\n",
       "</div>"
      ],
      "text/plain": [
       "   id release_date                                        movie   \n",
       "0   1         2009                                       Avatar  \\\n",
       "1   2         2011  Pirates of the Caribbean: On Stranger Tides   \n",
       "2   3         2019                                 Dark Phoenix   \n",
       "3   4         2015                      Avengers: Age of Ultron   \n",
       "4   5         2017            Star Wars Ep. VIII: The Last Jedi   \n",
       "\n",
       "   production_budget  domestic_gross  worldwide_gross  \n",
       "0          425000000       760507625       2776345279  \n",
       "1          410600000       241063875       1045663875  \n",
       "2          350000000        42762350        149762350  \n",
       "3          330600000       459005868       1403013963  \n",
       "4          317000000       620181382       1316721747  "
      ]
     },
     "execution_count": 47,
     "metadata": {},
     "output_type": "execute_result"
    }
   ],
   "source": [
    "# Removing the dates and month to remain with years alone\n",
    "budget['release_date'] = budget['release_date'].str.split(',').str[1].str.strip()\n",
    "budget.head()"
   ]
  },
  {
   "cell_type": "code",
   "execution_count": 48,
   "id": "4106dc58",
   "metadata": {},
   "outputs": [
    {
     "data": {
      "text/html": [
       "<div>\n",
       "<style scoped>\n",
       "    .dataframe tbody tr th:only-of-type {\n",
       "        vertical-align: middle;\n",
       "    }\n",
       "\n",
       "    .dataframe tbody tr th {\n",
       "        vertical-align: top;\n",
       "    }\n",
       "\n",
       "    .dataframe thead th {\n",
       "        text-align: right;\n",
       "    }\n",
       "</style>\n",
       "<table border=\"1\" class=\"dataframe\">\n",
       "  <thead>\n",
       "    <tr style=\"text-align: right;\">\n",
       "      <th></th>\n",
       "      <th>id</th>\n",
       "      <th>release_date</th>\n",
       "      <th>movie</th>\n",
       "      <th>production_budget</th>\n",
       "      <th>domestic_gross</th>\n",
       "      <th>worldwide_gross</th>\n",
       "    </tr>\n",
       "  </thead>\n",
       "  <tbody>\n",
       "    <tr>\n",
       "      <th>0</th>\n",
       "      <td>1</td>\n",
       "      <td>2009</td>\n",
       "      <td>Avatar</td>\n",
       "      <td>425000000</td>\n",
       "      <td>760507625</td>\n",
       "      <td>2776345279</td>\n",
       "    </tr>\n",
       "    <tr>\n",
       "      <th>1</th>\n",
       "      <td>2</td>\n",
       "      <td>2011</td>\n",
       "      <td>Pirates of the Caribbean: On Stranger Tides</td>\n",
       "      <td>410600000</td>\n",
       "      <td>241063875</td>\n",
       "      <td>1045663875</td>\n",
       "    </tr>\n",
       "    <tr>\n",
       "      <th>2</th>\n",
       "      <td>3</td>\n",
       "      <td>2019</td>\n",
       "      <td>Dark Phoenix</td>\n",
       "      <td>350000000</td>\n",
       "      <td>42762350</td>\n",
       "      <td>149762350</td>\n",
       "    </tr>\n",
       "    <tr>\n",
       "      <th>3</th>\n",
       "      <td>4</td>\n",
       "      <td>2015</td>\n",
       "      <td>Avengers: Age of Ultron</td>\n",
       "      <td>330600000</td>\n",
       "      <td>459005868</td>\n",
       "      <td>1403013963</td>\n",
       "    </tr>\n",
       "    <tr>\n",
       "      <th>4</th>\n",
       "      <td>5</td>\n",
       "      <td>2017</td>\n",
       "      <td>Star Wars Ep. VIII: The Last Jedi</td>\n",
       "      <td>317000000</td>\n",
       "      <td>620181382</td>\n",
       "      <td>1316721747</td>\n",
       "    </tr>\n",
       "    <tr>\n",
       "      <th>...</th>\n",
       "      <td>...</td>\n",
       "      <td>...</td>\n",
       "      <td>...</td>\n",
       "      <td>...</td>\n",
       "      <td>...</td>\n",
       "      <td>...</td>\n",
       "    </tr>\n",
       "    <tr>\n",
       "      <th>5777</th>\n",
       "      <td>78</td>\n",
       "      <td>2018</td>\n",
       "      <td>Red 11</td>\n",
       "      <td>7000</td>\n",
       "      <td>0</td>\n",
       "      <td>0</td>\n",
       "    </tr>\n",
       "    <tr>\n",
       "      <th>5778</th>\n",
       "      <td>79</td>\n",
       "      <td>1999</td>\n",
       "      <td>Following</td>\n",
       "      <td>6000</td>\n",
       "      <td>48482</td>\n",
       "      <td>240495</td>\n",
       "    </tr>\n",
       "    <tr>\n",
       "      <th>5779</th>\n",
       "      <td>80</td>\n",
       "      <td>2005</td>\n",
       "      <td>Return to the Land of Wonders</td>\n",
       "      <td>5000</td>\n",
       "      <td>1338</td>\n",
       "      <td>1338</td>\n",
       "    </tr>\n",
       "    <tr>\n",
       "      <th>5780</th>\n",
       "      <td>81</td>\n",
       "      <td>2015</td>\n",
       "      <td>A Plague So Pleasant</td>\n",
       "      <td>1400</td>\n",
       "      <td>0</td>\n",
       "      <td>0</td>\n",
       "    </tr>\n",
       "    <tr>\n",
       "      <th>5781</th>\n",
       "      <td>82</td>\n",
       "      <td>2005</td>\n",
       "      <td>My Date With Drew</td>\n",
       "      <td>1100</td>\n",
       "      <td>181041</td>\n",
       "      <td>181041</td>\n",
       "    </tr>\n",
       "  </tbody>\n",
       "</table>\n",
       "<p>5698 rows × 6 columns</p>\n",
       "</div>"
      ],
      "text/plain": [
       "      id release_date                                        movie   \n",
       "0      1         2009                                       Avatar  \\\n",
       "1      2         2011  Pirates of the Caribbean: On Stranger Tides   \n",
       "2      3         2019                                 Dark Phoenix   \n",
       "3      4         2015                      Avengers: Age of Ultron   \n",
       "4      5         2017            Star Wars Ep. VIII: The Last Jedi   \n",
       "...   ..          ...                                          ...   \n",
       "5777  78         2018                                       Red 11   \n",
       "5778  79         1999                                    Following   \n",
       "5779  80         2005                Return to the Land of Wonders   \n",
       "5780  81         2015                         A Plague So Pleasant   \n",
       "5781  82         2005                            My Date With Drew   \n",
       "\n",
       "      production_budget  domestic_gross  worldwide_gross  \n",
       "0             425000000       760507625       2776345279  \n",
       "1             410600000       241063875       1045663875  \n",
       "2             350000000        42762350        149762350  \n",
       "3             330600000       459005868       1403013963  \n",
       "4             317000000       620181382       1316721747  \n",
       "...                 ...             ...              ...  \n",
       "5777               7000               0                0  \n",
       "5778               6000           48482           240495  \n",
       "5779               5000            1338             1338  \n",
       "5780               1400               0                0  \n",
       "5781               1100          181041           181041  \n",
       "\n",
       "[5698 rows x 6 columns]"
      ]
     },
     "execution_count": 48,
     "metadata": {},
     "output_type": "execute_result"
    }
   ],
   "source": [
    "top_budget = budget.sort_values(by='production_budget', ascending=False)\n",
    "top_budget"
   ]
  },
  {
   "cell_type": "code",
   "execution_count": 49,
   "id": "644536aa",
   "metadata": {},
   "outputs": [
    {
     "data": {
      "text/plain": [
       "425000000"
      ]
     },
     "execution_count": 49,
     "metadata": {},
     "output_type": "execute_result"
    }
   ],
   "source": [
    "top_budget['production_budget'].max()"
   ]
  },
  {
   "cell_type": "markdown",
   "id": "0f508ff5",
   "metadata": {},
   "source": [
    "##### Visualize the data\n",
    "Will use scatter plots to find any relationship between the production, domestic and worlwide"
   ]
  },
  {
   "cell_type": "code",
   "execution_count": 50,
   "id": "a2a834af",
   "metadata": {},
   "outputs": [
    {
     "data": {
      "text/plain": [
       "''"
      ]
     },
     "execution_count": 50,
     "metadata": {},
     "output_type": "execute_result"
    },
    {
     "data": {
      "image/png": "[encoded data removed]",
      "text/plain": [
       "<Figure size 640x480 with 1 Axes>"
      ]
     },
     "metadata": {},
     "output_type": "display_data"
    }
   ],
   "source": [
    "#Draw a scatter plot\n",
    "sns.scatterplot(x='production_budget', y='domestic_gross', data=top_budget, color ='blue', label='Domestic Gross')\n",
    "sns.scatterplot(x='production_budget', y='worldwide_gross', data= top_budget, color='orange', label='World wide')\n",
    ";"
   ]
  },
  {
   "cell_type": "markdown",
   "id": "0a78b5b7",
   "metadata": {},
   "source": [
    "It's hard to determine any relationship we will split the dataset to two depending on the production budget;\n",
    "- Top 10 spenders\n",
    "- Last 10 spenders"
   ]
  },
  {
   "cell_type": "code",
   "execution_count": 51,
   "id": "f4a2eb85",
   "metadata": {},
   "outputs": [],
   "source": [
    "top_spenders = top_budget[:100]\n",
    "# top_spenders"
   ]
  },
  {
   "cell_type": "code",
   "execution_count": 52,
   "id": "8f07e755",
   "metadata": {
    "scrolled": true
   },
   "outputs": [
    {
     "data": {
      "text/plain": [
       "<Axes: xlabel='production_budget', ylabel='domestic_gross'>"
      ]
     },
     "execution_count": 52,
     "metadata": {},
     "output_type": "execute_result"
    },
    {
     "data": {
      "image/png": "[encoded data removed]",
      "text/plain": [
       "<Figure size 640x480 with 1 Axes>"
      ]
     },
     "metadata": {},
     "output_type": "display_data"
    }
   ],
   "source": [
    "#Draw scatterplot\n",
    "sns.scatterplot(x='production_budget', y='domestic_gross', data = top_spenders)\n",
    "sns.scatterplot(x='production_budget', y = 'worldwide_gross', data= top_spenders)"
   ]
  },
  {
   "cell_type": "markdown",
   "id": "2083615c",
   "metadata": {},
   "source": [
    "#### Use correlation matrix and heat map to visualize\n",
    "Correlation matrix will show how strong or how weak the three related and affect each other."
   ]
  },
  {
   "cell_type": "code",
   "execution_count": 53,
   "id": "0d0383f6",
   "metadata": {},
   "outputs": [
    {
     "data": {
      "text/html": [
       "<div>\n",
       "<style scoped>\n",
       "    .dataframe tbody tr th:only-of-type {\n",
       "        vertical-align: middle;\n",
       "    }\n",
       "\n",
       "    .dataframe tbody tr th {\n",
       "        vertical-align: top;\n",
       "    }\n",
       "\n",
       "    .dataframe thead th {\n",
       "        text-align: right;\n",
       "    }\n",
       "</style>\n",
       "<table border=\"1\" class=\"dataframe\">\n",
       "  <thead>\n",
       "    <tr style=\"text-align: right;\">\n",
       "      <th></th>\n",
       "      <th>production_budget</th>\n",
       "      <th>domestic_gross</th>\n",
       "      <th>worldwide_gross</th>\n",
       "    </tr>\n",
       "  </thead>\n",
       "  <tbody>\n",
       "    <tr>\n",
       "      <th>production_budget</th>\n",
       "      <td>1.000000</td>\n",
       "      <td>0.689317</td>\n",
       "      <td>0.749787</td>\n",
       "    </tr>\n",
       "    <tr>\n",
       "      <th>domestic_gross</th>\n",
       "      <td>0.689317</td>\n",
       "      <td>1.000000</td>\n",
       "      <td>0.939370</td>\n",
       "    </tr>\n",
       "    <tr>\n",
       "      <th>worldwide_gross</th>\n",
       "      <td>0.749787</td>\n",
       "      <td>0.939370</td>\n",
       "      <td>1.000000</td>\n",
       "    </tr>\n",
       "  </tbody>\n",
       "</table>\n",
       "</div>"
      ],
      "text/plain": [
       "                   production_budget  domestic_gross  worldwide_gross\n",
       "production_budget           1.000000        0.689317         0.749787\n",
       "domestic_gross              0.689317        1.000000         0.939370\n",
       "worldwide_gross             0.749787        0.939370         1.000000"
      ]
     },
     "execution_count": 53,
     "metadata": {},
     "output_type": "execute_result"
    }
   ],
   "source": [
    "correlation_matrix = top_budget[['production_budget', 'domestic_gross', 'worldwide_gross']].corr()\n",
    "correlation_matrix"
   ]
  },
  {
   "cell_type": "code",
   "execution_count": 54,
   "id": "886bc16a",
   "metadata": {
    "scrolled": true
   },
   "outputs": [
    {
     "data": {
      "image/png": "[encoded data removed]",
      "text/plain": [
       "<Figure size 800x600 with 2 Axes>"
      ]
     },
     "metadata": {},
     "output_type": "display_data"
    }
   ],
   "source": [
    "plt.figure(figsize=(8, 6))\n",
    "sns.heatmap(correlation_matrix, annot=True, cmap='coolwarm', square=True)\n",
    "plt.title('Correlation Matrix')\n",
    "plt.show()"
   ]
  },
  {
   "cell_type": "markdown",
   "id": "50265a09",
   "metadata": {},
   "source": [
    "- The correlation between the production budget and the domestic gross is 0.69 which is not that strong correlation or great impact but a higher impact on the worldwide gross.\n",
    "- There is a *a very high* correlation of 0.94 between the domestic gross and worldwide gross. The success of the movie in the domestic implies a great impact on the success worldwide."
   ]
  },
  {
   "cell_type": "markdown",
   "id": "8b5300b1",
   "metadata": {},
   "source": [
    "#### Any trend with the years and the production budget"
   ]
  },
  {
   "cell_type": "code",
   "execution_count": 55,
   "id": "6ba66d40",
   "metadata": {},
   "outputs": [
    {
     "name": "stdout",
     "output_type": "stream",
     "text": [
      "<class 'pandas.core.frame.DataFrame'>\n",
      "Index: 5698 entries, 0 to 5781\n",
      "Data columns (total 6 columns):\n",
      " #   Column             Non-Null Count  Dtype \n",
      "---  ------             --------------  ----- \n",
      " 0   id                 5698 non-null   int64 \n",
      " 1   release_date       5698 non-null   object\n",
      " 2   movie              5698 non-null   object\n",
      " 3   production_budget  5698 non-null   int64 \n",
      " 4   domestic_gross     5698 non-null   int64 \n",
      " 5   worldwide_gross    5698 non-null   int64 \n",
      "dtypes: int64(4), object(2)\n",
      "memory usage: 311.6+ KB\n"
     ]
    }
   ],
   "source": [
    "budget.info()"
   ]
  },
  {
   "cell_type": "code",
   "execution_count": 56,
   "id": "decf98f2",
   "metadata": {},
   "outputs": [
    {
     "name": "stdout",
     "output_type": "stream",
     "text": [
      "<class 'pandas.core.frame.DataFrame'>\n",
      "Index: 5698 entries, 0 to 5781\n",
      "Data columns (total 6 columns):\n",
      " #   Column             Non-Null Count  Dtype         \n",
      "---  ------             --------------  -----         \n",
      " 0   id                 5698 non-null   int64         \n",
      " 1   release_date       5698 non-null   datetime64[ns]\n",
      " 2   movie              5698 non-null   object        \n",
      " 3   production_budget  5698 non-null   int64         \n",
      " 4   domestic_gross     5698 non-null   int64         \n",
      " 5   worldwide_gross    5698 non-null   int64         \n",
      "dtypes: datetime64[ns](1), int64(4), object(1)\n",
      "memory usage: 311.6+ KB\n"
     ]
    }
   ],
   "source": [
    "#Convert the year to datetime\n",
    "budget['release_date'] = pd.to_datetime(budget['release_date'])\n",
    "budget.info()"
   ]
  },
  {
   "cell_type": "code",
   "execution_count": 57,
   "id": "89003631",
   "metadata": {
    "scrolled": true
   },
   "outputs": [
    {
     "data": {
      "text/html": [
       "<div>\n",
       "<style scoped>\n",
       "    .dataframe tbody tr th:only-of-type {\n",
       "        vertical-align: middle;\n",
       "    }\n",
       "\n",
       "    .dataframe tbody tr th {\n",
       "        vertical-align: top;\n",
       "    }\n",
       "\n",
       "    .dataframe thead th {\n",
       "        text-align: right;\n",
       "    }\n",
       "</style>\n",
       "<table border=\"1\" class=\"dataframe\">\n",
       "  <thead>\n",
       "    <tr style=\"text-align: right;\">\n",
       "      <th></th>\n",
       "      <th>id</th>\n",
       "      <th>release_date</th>\n",
       "      <th>movie</th>\n",
       "      <th>production_budget</th>\n",
       "      <th>domestic_gross</th>\n",
       "      <th>worldwide_gross</th>\n",
       "    </tr>\n",
       "  </thead>\n",
       "  <tbody>\n",
       "    <tr>\n",
       "      <th>0</th>\n",
       "      <td>1</td>\n",
       "      <td>2009-01-01</td>\n",
       "      <td>Avatar</td>\n",
       "      <td>425000000</td>\n",
       "      <td>760507625</td>\n",
       "      <td>2776345279</td>\n",
       "    </tr>\n",
       "    <tr>\n",
       "      <th>1</th>\n",
       "      <td>2</td>\n",
       "      <td>2011-01-01</td>\n",
       "      <td>Pirates of the Caribbean: On Stranger Tides</td>\n",
       "      <td>410600000</td>\n",
       "      <td>241063875</td>\n",
       "      <td>1045663875</td>\n",
       "    </tr>\n",
       "    <tr>\n",
       "      <th>2</th>\n",
       "      <td>3</td>\n",
       "      <td>2019-01-01</td>\n",
       "      <td>Dark Phoenix</td>\n",
       "      <td>350000000</td>\n",
       "      <td>42762350</td>\n",
       "      <td>149762350</td>\n",
       "    </tr>\n",
       "    <tr>\n",
       "      <th>3</th>\n",
       "      <td>4</td>\n",
       "      <td>2015-01-01</td>\n",
       "      <td>Avengers: Age of Ultron</td>\n",
       "      <td>330600000</td>\n",
       "      <td>459005868</td>\n",
       "      <td>1403013963</td>\n",
       "    </tr>\n",
       "    <tr>\n",
       "      <th>4</th>\n",
       "      <td>5</td>\n",
       "      <td>2017-01-01</td>\n",
       "      <td>Star Wars Ep. VIII: The Last Jedi</td>\n",
       "      <td>317000000</td>\n",
       "      <td>620181382</td>\n",
       "      <td>1316721747</td>\n",
       "    </tr>\n",
       "  </tbody>\n",
       "</table>\n",
       "</div>"
      ],
      "text/plain": [
       "   id release_date                                        movie   \n",
       "0   1   2009-01-01                                       Avatar  \\\n",
       "1   2   2011-01-01  Pirates of the Caribbean: On Stranger Tides   \n",
       "2   3   2019-01-01                                 Dark Phoenix   \n",
       "3   4   2015-01-01                      Avengers: Age of Ultron   \n",
       "4   5   2017-01-01            Star Wars Ep. VIII: The Last Jedi   \n",
       "\n",
       "   production_budget  domestic_gross  worldwide_gross  \n",
       "0          425000000       760507625       2776345279  \n",
       "1          410600000       241063875       1045663875  \n",
       "2          350000000        42762350        149762350  \n",
       "3          330600000       459005868       1403013963  \n",
       "4          317000000       620181382       1316721747  "
      ]
     },
     "execution_count": 57,
     "metadata": {},
     "output_type": "execute_result"
    }
   ],
   "source": [
    "budget.head()"
   ]
  },
  {
   "cell_type": "code",
   "execution_count": 58,
   "id": "de08b27b",
   "metadata": {},
   "outputs": [
    {
     "data": {
      "text/html": [
       "<div>\n",
       "<style scoped>\n",
       "    .dataframe tbody tr th:only-of-type {\n",
       "        vertical-align: middle;\n",
       "    }\n",
       "\n",
       "    .dataframe tbody tr th {\n",
       "        vertical-align: top;\n",
       "    }\n",
       "\n",
       "    .dataframe thead th {\n",
       "        text-align: right;\n",
       "    }\n",
       "</style>\n",
       "<table border=\"1\" class=\"dataframe\">\n",
       "  <thead>\n",
       "    <tr style=\"text-align: right;\">\n",
       "      <th></th>\n",
       "      <th>id</th>\n",
       "      <th>release_date</th>\n",
       "      <th>movie</th>\n",
       "      <th>production_budget</th>\n",
       "      <th>domestic_gross</th>\n",
       "      <th>worldwide_gross</th>\n",
       "    </tr>\n",
       "  </thead>\n",
       "  <tbody>\n",
       "    <tr>\n",
       "      <th>0</th>\n",
       "      <td>1</td>\n",
       "      <td>2009-01-01</td>\n",
       "      <td>Avatar</td>\n",
       "      <td>425000000</td>\n",
       "      <td>760507625</td>\n",
       "      <td>2776345279</td>\n",
       "    </tr>\n",
       "    <tr>\n",
       "      <th>1</th>\n",
       "      <td>2</td>\n",
       "      <td>2011-01-01</td>\n",
       "      <td>Pirates of the Caribbean: On Stranger Tides</td>\n",
       "      <td>410600000</td>\n",
       "      <td>241063875</td>\n",
       "      <td>1045663875</td>\n",
       "    </tr>\n",
       "    <tr>\n",
       "      <th>2</th>\n",
       "      <td>3</td>\n",
       "      <td>2019-01-01</td>\n",
       "      <td>Dark Phoenix</td>\n",
       "      <td>350000000</td>\n",
       "      <td>42762350</td>\n",
       "      <td>149762350</td>\n",
       "    </tr>\n",
       "    <tr>\n",
       "      <th>3</th>\n",
       "      <td>4</td>\n",
       "      <td>2015-01-01</td>\n",
       "      <td>Avengers: Age of Ultron</td>\n",
       "      <td>330600000</td>\n",
       "      <td>459005868</td>\n",
       "      <td>1403013963</td>\n",
       "    </tr>\n",
       "    <tr>\n",
       "      <th>4</th>\n",
       "      <td>5</td>\n",
       "      <td>2017-01-01</td>\n",
       "      <td>Star Wars Ep. VIII: The Last Jedi</td>\n",
       "      <td>317000000</td>\n",
       "      <td>620181382</td>\n",
       "      <td>1316721747</td>\n",
       "    </tr>\n",
       "  </tbody>\n",
       "</table>\n",
       "</div>"
      ],
      "text/plain": [
       "   id release_date                                        movie   \n",
       "0   1   2009-01-01                                       Avatar  \\\n",
       "1   2   2011-01-01  Pirates of the Caribbean: On Stranger Tides   \n",
       "2   3   2019-01-01                                 Dark Phoenix   \n",
       "3   4   2015-01-01                      Avengers: Age of Ultron   \n",
       "4   5   2017-01-01            Star Wars Ep. VIII: The Last Jedi   \n",
       "\n",
       "   production_budget  domestic_gross  worldwide_gross  \n",
       "0          425000000       760507625       2776345279  \n",
       "1          410600000       241063875       1045663875  \n",
       "2          350000000        42762350        149762350  \n",
       "3          330600000       459005868       1403013963  \n",
       "4          317000000       620181382       1316721747  "
      ]
     },
     "execution_count": 58,
     "metadata": {},
     "output_type": "execute_result"
    }
   ],
   "source": [
    "budget.head()"
   ]
  },
  {
   "cell_type": "code",
   "execution_count": 59,
   "id": "3c03b2ab",
   "metadata": {
    "scrolled": true
   },
   "outputs": [
    {
     "data": {
      "text/html": [
       "<div>\n",
       "<style scoped>\n",
       "    .dataframe tbody tr th:only-of-type {\n",
       "        vertical-align: middle;\n",
       "    }\n",
       "\n",
       "    .dataframe tbody tr th {\n",
       "        vertical-align: top;\n",
       "    }\n",
       "\n",
       "    .dataframe thead th {\n",
       "        text-align: right;\n",
       "    }\n",
       "</style>\n",
       "<table border=\"1\" class=\"dataframe\">\n",
       "  <thead>\n",
       "    <tr style=\"text-align: right;\">\n",
       "      <th></th>\n",
       "      <th>release_date</th>\n",
       "      <th>production_budget</th>\n",
       "      <th>domestic_gross</th>\n",
       "      <th>worldwide_gross</th>\n",
       "    </tr>\n",
       "  </thead>\n",
       "  <tbody>\n",
       "    <tr>\n",
       "      <th>0</th>\n",
       "      <td>2009-01-01</td>\n",
       "      <td>425000000</td>\n",
       "      <td>760507625</td>\n",
       "      <td>2776345279</td>\n",
       "    </tr>\n",
       "    <tr>\n",
       "      <th>1</th>\n",
       "      <td>2011-01-01</td>\n",
       "      <td>410600000</td>\n",
       "      <td>241063875</td>\n",
       "      <td>1045663875</td>\n",
       "    </tr>\n",
       "    <tr>\n",
       "      <th>2</th>\n",
       "      <td>2019-01-01</td>\n",
       "      <td>350000000</td>\n",
       "      <td>42762350</td>\n",
       "      <td>149762350</td>\n",
       "    </tr>\n",
       "    <tr>\n",
       "      <th>3</th>\n",
       "      <td>2015-01-01</td>\n",
       "      <td>330600000</td>\n",
       "      <td>459005868</td>\n",
       "      <td>1403013963</td>\n",
       "    </tr>\n",
       "    <tr>\n",
       "      <th>4</th>\n",
       "      <td>2017-01-01</td>\n",
       "      <td>317000000</td>\n",
       "      <td>620181382</td>\n",
       "      <td>1316721747</td>\n",
       "    </tr>\n",
       "    <tr>\n",
       "      <th>...</th>\n",
       "      <td>...</td>\n",
       "      <td>...</td>\n",
       "      <td>...</td>\n",
       "      <td>...</td>\n",
       "    </tr>\n",
       "    <tr>\n",
       "      <th>5777</th>\n",
       "      <td>2018-01-01</td>\n",
       "      <td>7000</td>\n",
       "      <td>0</td>\n",
       "      <td>0</td>\n",
       "    </tr>\n",
       "    <tr>\n",
       "      <th>5778</th>\n",
       "      <td>1999-01-01</td>\n",
       "      <td>6000</td>\n",
       "      <td>48482</td>\n",
       "      <td>240495</td>\n",
       "    </tr>\n",
       "    <tr>\n",
       "      <th>5779</th>\n",
       "      <td>2005-01-01</td>\n",
       "      <td>5000</td>\n",
       "      <td>1338</td>\n",
       "      <td>1338</td>\n",
       "    </tr>\n",
       "    <tr>\n",
       "      <th>5780</th>\n",
       "      <td>2015-01-01</td>\n",
       "      <td>1400</td>\n",
       "      <td>0</td>\n",
       "      <td>0</td>\n",
       "    </tr>\n",
       "    <tr>\n",
       "      <th>5781</th>\n",
       "      <td>2005-01-01</td>\n",
       "      <td>1100</td>\n",
       "      <td>181041</td>\n",
       "      <td>181041</td>\n",
       "    </tr>\n",
       "  </tbody>\n",
       "</table>\n",
       "<p>5698 rows × 4 columns</p>\n",
       "</div>"
      ],
      "text/plain": [
       "     release_date  production_budget  domestic_gross  worldwide_gross\n",
       "0      2009-01-01          425000000       760507625       2776345279\n",
       "1      2011-01-01          410600000       241063875       1045663875\n",
       "2      2019-01-01          350000000        42762350        149762350\n",
       "3      2015-01-01          330600000       459005868       1403013963\n",
       "4      2017-01-01          317000000       620181382       1316721747\n",
       "...           ...                ...             ...              ...\n",
       "5777   2018-01-01               7000               0                0\n",
       "5778   1999-01-01               6000           48482           240495\n",
       "5779   2005-01-01               5000            1338             1338\n",
       "5780   2015-01-01               1400               0                0\n",
       "5781   2005-01-01               1100          181041           181041\n",
       "\n",
       "[5698 rows x 4 columns]"
      ]
     },
     "execution_count": 59,
     "metadata": {},
     "output_type": "execute_result"
    }
   ],
   "source": [
    "# Drop the movie column and the id\n",
    "year_budget = budget.drop(columns=['movie', 'id'])\n",
    "year_budget"
   ]
  },
  {
   "cell_type": "code",
   "execution_count": 60,
   "id": "a9fa47ff",
   "metadata": {},
   "outputs": [
    {
     "name": "stdout",
     "output_type": "stream",
     "text": [
      "<class 'pandas.core.frame.DataFrame'>\n",
      "Index: 5698 entries, 0 to 5781\n",
      "Data columns (total 4 columns):\n",
      " #   Column             Non-Null Count  Dtype         \n",
      "---  ------             --------------  -----         \n",
      " 0   release_date       5698 non-null   datetime64[ns]\n",
      " 1   production_budget  5698 non-null   int64         \n",
      " 2   domestic_gross     5698 non-null   int64         \n",
      " 3   worldwide_gross    5698 non-null   int64         \n",
      "dtypes: datetime64[ns](1), int64(3)\n",
      "memory usage: 222.6 KB\n"
     ]
    }
   ],
   "source": [
    "year_budget.info()"
   ]
  },
  {
   "cell_type": "code",
   "execution_count": 61,
   "id": "30529047",
   "metadata": {
    "scrolled": true
   },
   "outputs": [
    {
     "data": {
      "text/html": [
       "<div>\n",
       "<style scoped>\n",
       "    .dataframe tbody tr th:only-of-type {\n",
       "        vertical-align: middle;\n",
       "    }\n",
       "\n",
       "    .dataframe tbody tr th {\n",
       "        vertical-align: top;\n",
       "    }\n",
       "\n",
       "    .dataframe thead th {\n",
       "        text-align: right;\n",
       "    }\n",
       "</style>\n",
       "<table border=\"1\" class=\"dataframe\">\n",
       "  <thead>\n",
       "    <tr style=\"text-align: right;\">\n",
       "      <th></th>\n",
       "      <th>release_date</th>\n",
       "      <th>production_budget</th>\n",
       "      <th>domestic_gross</th>\n",
       "      <th>worldwide_gross</th>\n",
       "    </tr>\n",
       "  </thead>\n",
       "  <tbody>\n",
       "    <tr>\n",
       "      <th>0</th>\n",
       "      <td>2009-01-01</td>\n",
       "      <td>425000000</td>\n",
       "      <td>760507625</td>\n",
       "      <td>2776345279</td>\n",
       "    </tr>\n",
       "    <tr>\n",
       "      <th>1</th>\n",
       "      <td>2011-01-01</td>\n",
       "      <td>410600000</td>\n",
       "      <td>241063875</td>\n",
       "      <td>1045663875</td>\n",
       "    </tr>\n",
       "    <tr>\n",
       "      <th>2</th>\n",
       "      <td>2019-01-01</td>\n",
       "      <td>350000000</td>\n",
       "      <td>42762350</td>\n",
       "      <td>149762350</td>\n",
       "    </tr>\n",
       "    <tr>\n",
       "      <th>3</th>\n",
       "      <td>2015-01-01</td>\n",
       "      <td>330600000</td>\n",
       "      <td>459005868</td>\n",
       "      <td>1403013963</td>\n",
       "    </tr>\n",
       "    <tr>\n",
       "      <th>4</th>\n",
       "      <td>2017-01-01</td>\n",
       "      <td>317000000</td>\n",
       "      <td>620181382</td>\n",
       "      <td>1316721747</td>\n",
       "    </tr>\n",
       "    <tr>\n",
       "      <th>...</th>\n",
       "      <td>...</td>\n",
       "      <td>...</td>\n",
       "      <td>...</td>\n",
       "      <td>...</td>\n",
       "    </tr>\n",
       "    <tr>\n",
       "      <th>5776</th>\n",
       "      <td>2004-01-01</td>\n",
       "      <td>7000</td>\n",
       "      <td>900</td>\n",
       "      <td>900</td>\n",
       "    </tr>\n",
       "    <tr>\n",
       "      <th>5777</th>\n",
       "      <td>2018-01-01</td>\n",
       "      <td>7000</td>\n",
       "      <td>0</td>\n",
       "      <td>0</td>\n",
       "    </tr>\n",
       "    <tr>\n",
       "      <th>5779</th>\n",
       "      <td>2005-01-01</td>\n",
       "      <td>5000</td>\n",
       "      <td>1338</td>\n",
       "      <td>1338</td>\n",
       "    </tr>\n",
       "    <tr>\n",
       "      <th>5780</th>\n",
       "      <td>2015-01-01</td>\n",
       "      <td>1400</td>\n",
       "      <td>0</td>\n",
       "      <td>0</td>\n",
       "    </tr>\n",
       "    <tr>\n",
       "      <th>5781</th>\n",
       "      <td>2005-01-01</td>\n",
       "      <td>1100</td>\n",
       "      <td>181041</td>\n",
       "      <td>181041</td>\n",
       "    </tr>\n",
       "  </tbody>\n",
       "</table>\n",
       "<p>4356 rows × 4 columns</p>\n",
       "</div>"
      ],
      "text/plain": [
       "     release_date  production_budget  domestic_gross  worldwide_gross\n",
       "0      2009-01-01          425000000       760507625       2776345279\n",
       "1      2011-01-01          410600000       241063875       1045663875\n",
       "2      2019-01-01          350000000        42762350        149762350\n",
       "3      2015-01-01          330600000       459005868       1403013963\n",
       "4      2017-01-01          317000000       620181382       1316721747\n",
       "...           ...                ...             ...              ...\n",
       "5776   2004-01-01               7000             900              900\n",
       "5777   2018-01-01               7000               0                0\n",
       "5779   2005-01-01               5000            1338             1338\n",
       "5780   2015-01-01               1400               0                0\n",
       "5781   2005-01-01               1100          181041           181041\n",
       "\n",
       "[4356 rows x 4 columns]"
      ]
     },
     "execution_count": 61,
     "metadata": {},
     "output_type": "execute_result"
    }
   ],
   "source": [
    "#Filter to have data with only release date > 2000\n",
    "year200_budget = year_budget[year_budget['release_date'].dt.year >=2000 ]\n",
    "year200_budget"
   ]
  },
  {
   "cell_type": "code",
   "execution_count": 62,
   "id": "c0bf8e9a",
   "metadata": {},
   "outputs": [
    {
     "name": "stderr",
     "output_type": "stream",
     "text": [
      "/tmp/ipykernel_3515/644184653.py:2: SettingWithCopyWarning: \n",
      "A value is trying to be set on a copy of a slice from a DataFrame.\n",
      "Try using .loc[row_indexer,col_indexer] = value instead\n",
      "\n",
      "See the caveats in the documentation: https://pandas.pydata.org/pandas-docs/stable/user_guide/indexing.html#returning-a-view-versus-a-copy\n",
      "  year200_budget['release_date'] = year200_budget['release_date'].dt.year\n"
     ]
    },
    {
     "data": {
      "text/html": [
       "<div>\n",
       "<style scoped>\n",
       "    .dataframe tbody tr th:only-of-type {\n",
       "        vertical-align: middle;\n",
       "    }\n",
       "\n",
       "    .dataframe tbody tr th {\n",
       "        vertical-align: top;\n",
       "    }\n",
       "\n",
       "    .dataframe thead th {\n",
       "        text-align: right;\n",
       "    }\n",
       "</style>\n",
       "<table border=\"1\" class=\"dataframe\">\n",
       "  <thead>\n",
       "    <tr style=\"text-align: right;\">\n",
       "      <th></th>\n",
       "      <th>release_date</th>\n",
       "      <th>production_budget</th>\n",
       "      <th>domestic_gross</th>\n",
       "      <th>worldwide_gross</th>\n",
       "    </tr>\n",
       "  </thead>\n",
       "  <tbody>\n",
       "    <tr>\n",
       "      <th>0</th>\n",
       "      <td>2009</td>\n",
       "      <td>425000000</td>\n",
       "      <td>760507625</td>\n",
       "      <td>2776345279</td>\n",
       "    </tr>\n",
       "    <tr>\n",
       "      <th>1</th>\n",
       "      <td>2011</td>\n",
       "      <td>410600000</td>\n",
       "      <td>241063875</td>\n",
       "      <td>1045663875</td>\n",
       "    </tr>\n",
       "  </tbody>\n",
       "</table>\n",
       "</div>"
      ],
      "text/plain": [
       "   release_date  production_budget  domestic_gross  worldwide_gross\n",
       "0          2009          425000000       760507625       2776345279\n",
       "1          2011          410600000       241063875       1045663875"
      ]
     },
     "execution_count": 62,
     "metadata": {},
     "output_type": "execute_result"
    }
   ],
   "source": [
    "## Extract the year alone from releasedate\n",
    "year200_budget['release_date'] = year200_budget['release_date'].dt.year\n",
    "year200_budget.head(2)"
   ]
  },
  {
   "cell_type": "code",
   "execution_count": 63,
   "id": "f0015b0c",
   "metadata": {
    "scrolled": true
   },
   "outputs": [],
   "source": [
    "## Groupby the year and find the mean of the budget and gross\n",
    "year200_budget_grp = year200_budget.groupby(['release_date']).mean()"
   ]
  },
  {
   "cell_type": "code",
   "execution_count": 64,
   "id": "b3365197",
   "metadata": {},
   "outputs": [
    {
     "data": {
      "text/html": [
       "<div>\n",
       "<style scoped>\n",
       "    .dataframe tbody tr th:only-of-type {\n",
       "        vertical-align: middle;\n",
       "    }\n",
       "\n",
       "    .dataframe tbody tr th {\n",
       "        vertical-align: top;\n",
       "    }\n",
       "\n",
       "    .dataframe thead th {\n",
       "        text-align: right;\n",
       "    }\n",
       "</style>\n",
       "<table border=\"1\" class=\"dataframe\">\n",
       "  <thead>\n",
       "    <tr style=\"text-align: right;\">\n",
       "      <th></th>\n",
       "      <th>production_budget</th>\n",
       "      <th>domestic_gross</th>\n",
       "      <th>worldwide_gross</th>\n",
       "    </tr>\n",
       "    <tr>\n",
       "      <th>release_date</th>\n",
       "      <th></th>\n",
       "      <th></th>\n",
       "      <th></th>\n",
       "    </tr>\n",
       "  </thead>\n",
       "  <tbody>\n",
       "    <tr>\n",
       "      <th>2000</th>\n",
       "      <td>31,323,074.70</td>\n",
       "      <td>39,426,574.29</td>\n",
       "      <td>69,264,298.06</td>\n",
       "    </tr>\n",
       "    <tr>\n",
       "      <th>2001</th>\n",
       "      <td>32,534,640.88</td>\n",
       "      <td>43,697,064.26</td>\n",
       "      <td>80,968,448.93</td>\n",
       "    </tr>\n",
       "    <tr>\n",
       "      <th>2002</th>\n",
       "      <td>31,363,050.81</td>\n",
       "      <td>42,035,576.33</td>\n",
       "      <td>78,599,230.93</td>\n",
       "    </tr>\n",
       "    <tr>\n",
       "      <th>2003</th>\n",
       "      <td>32,269,492.54</td>\n",
       "      <td>41,817,463.87</td>\n",
       "      <td>82,097,273.71</td>\n",
       "    </tr>\n",
       "    <tr>\n",
       "      <th>2004</th>\n",
       "      <td>35,283,019.30</td>\n",
       "      <td>44,130,480.20</td>\n",
       "      <td>89,249,075.58</td>\n",
       "    </tr>\n",
       "    <tr>\n",
       "      <th>2005</th>\n",
       "      <td>33,438,772.15</td>\n",
       "      <td>37,152,679.37</td>\n",
       "      <td>78,339,310.32</td>\n",
       "    </tr>\n",
       "    <tr>\n",
       "      <th>2006</th>\n",
       "      <td>28,914,938.22</td>\n",
       "      <td>33,513,230.45</td>\n",
       "      <td>71,902,287.19</td>\n",
       "    </tr>\n",
       "    <tr>\n",
       "      <th>2007</th>\n",
       "      <td>33,438,077.98</td>\n",
       "      <td>37,902,737.37</td>\n",
       "      <td>86,991,031.62</td>\n",
       "    </tr>\n",
       "    <tr>\n",
       "      <th>2008</th>\n",
       "      <td>31,853,600.34</td>\n",
       "      <td>35,558,713.02</td>\n",
       "      <td>81,862,620.89</td>\n",
       "    </tr>\n",
       "    <tr>\n",
       "      <th>2009</th>\n",
       "      <td>35,860,105.49</td>\n",
       "      <td>44,197,245.94</td>\n",
       "      <td>101,052,531.69</td>\n",
       "    </tr>\n",
       "    <tr>\n",
       "      <th>2010</th>\n",
       "      <td>33,460,093.96</td>\n",
       "      <td>36,700,083.91</td>\n",
       "      <td>88,761,414.73</td>\n",
       "    </tr>\n",
       "    <tr>\n",
       "      <th>2011</th>\n",
       "      <td>35,247,843.70</td>\n",
       "      <td>38,564,788.64</td>\n",
       "      <td>97,146,714.25</td>\n",
       "    </tr>\n",
       "    <tr>\n",
       "      <th>2012</th>\n",
       "      <td>36,417,747.52</td>\n",
       "      <td>45,174,999.25</td>\n",
       "      <td>116,665,767.84</td>\n",
       "    </tr>\n",
       "    <tr>\n",
       "      <th>2013</th>\n",
       "      <td>37,543,827.00</td>\n",
       "      <td>45,012,272.81</td>\n",
       "      <td>111,221,859.78</td>\n",
       "    </tr>\n",
       "    <tr>\n",
       "      <th>2014</th>\n",
       "      <td>30,462,233.75</td>\n",
       "      <td>39,559,734.63</td>\n",
       "      <td>99,421,880.50</td>\n",
       "    </tr>\n",
       "    <tr>\n",
       "      <th>2015</th>\n",
       "      <td>26,474,486.14</td>\n",
       "      <td>32,377,038.30</td>\n",
       "      <td>83,368,686.33</td>\n",
       "    </tr>\n",
       "    <tr>\n",
       "      <th>2016</th>\n",
       "      <td>40,973,698.63</td>\n",
       "      <td>50,423,873.98</td>\n",
       "      <td>131,361,428.04</td>\n",
       "    </tr>\n",
       "    <tr>\n",
       "      <th>2017</th>\n",
       "      <td>50,394,927.27</td>\n",
       "      <td>62,999,454.10</td>\n",
       "      <td>171,316,996.30</td>\n",
       "    </tr>\n",
       "    <tr>\n",
       "      <th>2018</th>\n",
       "      <td>48,048,631.21</td>\n",
       "      <td>73,486,650.55</td>\n",
       "      <td>182,658,133.27</td>\n",
       "    </tr>\n",
       "    <tr>\n",
       "      <th>2019</th>\n",
       "      <td>53,570,468.75</td>\n",
       "      <td>44,321,384.41</td>\n",
       "      <td>103,502,075.39</td>\n",
       "    </tr>\n",
       "    <tr>\n",
       "      <th>2020</th>\n",
       "      <td>94,000,000.00</td>\n",
       "      <td>0.00</td>\n",
       "      <td>0.00</td>\n",
       "    </tr>\n",
       "  </tbody>\n",
       "</table>\n",
       "</div>"
      ],
      "text/plain": [
       "              production_budget  domestic_gross  worldwide_gross\n",
       "release_date                                                    \n",
       "2000              31,323,074.70   39,426,574.29    69,264,298.06\n",
       "2001              32,534,640.88   43,697,064.26    80,968,448.93\n",
       "2002              31,363,050.81   42,035,576.33    78,599,230.93\n",
       "2003              32,269,492.54   41,817,463.87    82,097,273.71\n",
       "2004              35,283,019.30   44,130,480.20    89,249,075.58\n",
       "2005              33,438,772.15   37,152,679.37    78,339,310.32\n",
       "2006              28,914,938.22   33,513,230.45    71,902,287.19\n",
       "2007              33,438,077.98   37,902,737.37    86,991,031.62\n",
       "2008              31,853,600.34   35,558,713.02    81,862,620.89\n",
       "2009              35,860,105.49   44,197,245.94   101,052,531.69\n",
       "2010              33,460,093.96   36,700,083.91    88,761,414.73\n",
       "2011              35,247,843.70   38,564,788.64    97,146,714.25\n",
       "2012              36,417,747.52   45,174,999.25   116,665,767.84\n",
       "2013              37,543,827.00   45,012,272.81   111,221,859.78\n",
       "2014              30,462,233.75   39,559,734.63    99,421,880.50\n",
       "2015              26,474,486.14   32,377,038.30    83,368,686.33\n",
       "2016              40,973,698.63   50,423,873.98   131,361,428.04\n",
       "2017              50,394,927.27   62,999,454.10   171,316,996.30\n",
       "2018              48,048,631.21   73,486,650.55   182,658,133.27\n",
       "2019              53,570,468.75   44,321,384.41   103,502,075.39\n",
       "2020              94,000,000.00            0.00             0.00"
      ]
     },
     "execution_count": 64,
     "metadata": {},
     "output_type": "execute_result"
    }
   ],
   "source": [
    "pd.options.display.float_format = '{:,.2f}'.format #sets the disply of a float to have a comma at 1000 and 2dp\n",
    "year200_budget_grp"
   ]
  },
  {
   "cell_type": "code",
   "execution_count": 65,
   "id": "843cef0e",
   "metadata": {},
   "outputs": [],
   "source": [
    "year200_budget_grp.reset_index(inplace=True)"
   ]
  },
  {
   "cell_type": "markdown",
   "id": "ba3cdddb",
   "metadata": {},
   "source": [
    "#### Visualization\n",
    "Will use line graph"
   ]
  },
  {
   "cell_type": "code",
   "execution_count": 66,
   "id": "eb8e5a41",
   "metadata": {},
   "outputs": [
    {
     "data": {
      "image/png": "[encoded data removed]",
      "text/plain": [
       "<Figure size 1000x600 with 1 Axes>"
      ]
     },
     "metadata": {},
     "output_type": "display_data"
    }
   ],
   "source": [
    "#set the fig size\n",
    "plt.figure(figsize=(10,6))\n",
    "#draw line graph\n",
    "sns.lineplot(x='release_date', y='production_budget', data=year200_budget_grp, label='Production budget', marker ='o')\n",
    "sns.lineplot(x='release_date', y='domestic_gross', data=year200_budget_grp, label='domestic gross',marker ='o')\n",
    "sns.lineplot(x='release_date', y='worldwide_gross', data=year200_budget_grp, label='worlwide gross',marker ='o')\n",
    "plt.legend();"
   ]
  },
  {
   "cell_type": "markdown",
   "id": "6be54e42",
   "metadata": {},
   "source": [
    "##### Findings\n",
    "- The success of the movie worldwide depends on the success of the movie domestically.\n",
    "- The is slightly strong relation of the production budget and the domestic and worldwide gross.\n",
    "- The production cost had a slight increase in value since 2000 then 2017 there was a sharp increase. Each year the production budget increases.\n",
    "- The higher the production cost the higher the production and worlwide gross."
   ]
  },
  {
   "cell_type": "markdown",
   "id": "4d37e6ae",
   "metadata": {},
   "source": [
    "## c. Determine the best perfoming studio in terms of domestic and foreign gross\n",
    "Collaboration with other organisation who have been in the field and have perfomed well overtime will be one of the best ways to ensure success of the business. \n",
    "\n",
    "Will use BM-Gross dataset and find the best perfoming studio in terms of domestic and gross."
   ]
  },
  {
   "cell_type": "code",
   "execution_count": 67,
   "id": "ee1bc701",
   "metadata": {},
   "outputs": [
    {
     "data": {
      "text/html": [
       "<div>\n",
       "<style scoped>\n",
       "    .dataframe tbody tr th:only-of-type {\n",
       "        vertical-align: middle;\n",
       "    }\n",
       "\n",
       "    .dataframe tbody tr th {\n",
       "        vertical-align: top;\n",
       "    }\n",
       "\n",
       "    .dataframe thead th {\n",
       "        text-align: right;\n",
       "    }\n",
       "</style>\n",
       "<table border=\"1\" class=\"dataframe\">\n",
       "  <thead>\n",
       "    <tr style=\"text-align: right;\">\n",
       "      <th></th>\n",
       "      <th>title</th>\n",
       "      <th>studio</th>\n",
       "      <th>domestic_gross</th>\n",
       "      <th>foreign_gross</th>\n",
       "      <th>year</th>\n",
       "    </tr>\n",
       "  </thead>\n",
       "  <tbody>\n",
       "    <tr>\n",
       "      <th>0</th>\n",
       "      <td>Toy Story 3</td>\n",
       "      <td>BV</td>\n",
       "      <td>415,000,000.00</td>\n",
       "      <td>652000000</td>\n",
       "      <td>2010</td>\n",
       "    </tr>\n",
       "    <tr>\n",
       "      <th>1</th>\n",
       "      <td>Alice in Wonderland (2010)</td>\n",
       "      <td>BV</td>\n",
       "      <td>334,200,000.00</td>\n",
       "      <td>691300000</td>\n",
       "      <td>2010</td>\n",
       "    </tr>\n",
       "    <tr>\n",
       "      <th>2</th>\n",
       "      <td>Harry Potter and the Deathly Hallows Part 1</td>\n",
       "      <td>WB</td>\n",
       "      <td>296,000,000.00</td>\n",
       "      <td>664300000</td>\n",
       "      <td>2010</td>\n",
       "    </tr>\n",
       "    <tr>\n",
       "      <th>3</th>\n",
       "      <td>Inception</td>\n",
       "      <td>WB</td>\n",
       "      <td>292,600,000.00</td>\n",
       "      <td>535700000</td>\n",
       "      <td>2010</td>\n",
       "    </tr>\n",
       "    <tr>\n",
       "      <th>4</th>\n",
       "      <td>Shrek Forever After</td>\n",
       "      <td>P/DW</td>\n",
       "      <td>238,700,000.00</td>\n",
       "      <td>513900000</td>\n",
       "      <td>2010</td>\n",
       "    </tr>\n",
       "    <tr>\n",
       "      <th>...</th>\n",
       "      <td>...</td>\n",
       "      <td>...</td>\n",
       "      <td>...</td>\n",
       "      <td>...</td>\n",
       "      <td>...</td>\n",
       "    </tr>\n",
       "    <tr>\n",
       "      <th>3382</th>\n",
       "      <td>The Quake</td>\n",
       "      <td>Magn.</td>\n",
       "      <td>6,200.00</td>\n",
       "      <td>NaN</td>\n",
       "      <td>2018</td>\n",
       "    </tr>\n",
       "    <tr>\n",
       "      <th>3383</th>\n",
       "      <td>Edward II (2018 re-release)</td>\n",
       "      <td>FM</td>\n",
       "      <td>4,800.00</td>\n",
       "      <td>NaN</td>\n",
       "      <td>2018</td>\n",
       "    </tr>\n",
       "    <tr>\n",
       "      <th>3384</th>\n",
       "      <td>El Pacto</td>\n",
       "      <td>Sony</td>\n",
       "      <td>2,500.00</td>\n",
       "      <td>NaN</td>\n",
       "      <td>2018</td>\n",
       "    </tr>\n",
       "    <tr>\n",
       "      <th>3385</th>\n",
       "      <td>The Swan</td>\n",
       "      <td>Synergetic</td>\n",
       "      <td>2,400.00</td>\n",
       "      <td>NaN</td>\n",
       "      <td>2018</td>\n",
       "    </tr>\n",
       "    <tr>\n",
       "      <th>3386</th>\n",
       "      <td>An Actor Prepares</td>\n",
       "      <td>Grav.</td>\n",
       "      <td>1,700.00</td>\n",
       "      <td>NaN</td>\n",
       "      <td>2018</td>\n",
       "    </tr>\n",
       "  </tbody>\n",
       "</table>\n",
       "<p>3387 rows × 5 columns</p>\n",
       "</div>"
      ],
      "text/plain": [
       "                                            title      studio  domestic_gross   \n",
       "0                                     Toy Story 3          BV  415,000,000.00  \\\n",
       "1                      Alice in Wonderland (2010)          BV  334,200,000.00   \n",
       "2     Harry Potter and the Deathly Hallows Part 1          WB  296,000,000.00   \n",
       "3                                       Inception          WB  292,600,000.00   \n",
       "4                             Shrek Forever After        P/DW  238,700,000.00   \n",
       "...                                           ...         ...             ...   \n",
       "3382                                    The Quake       Magn.        6,200.00   \n",
       "3383                  Edward II (2018 re-release)          FM        4,800.00   \n",
       "3384                                     El Pacto        Sony        2,500.00   \n",
       "3385                                     The Swan  Synergetic        2,400.00   \n",
       "3386                            An Actor Prepares       Grav.        1,700.00   \n",
       "\n",
       "     foreign_gross  year  \n",
       "0        652000000  2010  \n",
       "1        691300000  2010  \n",
       "2        664300000  2010  \n",
       "3        535700000  2010  \n",
       "4        513900000  2010  \n",
       "...            ...   ...  \n",
       "3382           NaN  2018  \n",
       "3383           NaN  2018  \n",
       "3384           NaN  2018  \n",
       "3385           NaN  2018  \n",
       "3386           NaN  2018  \n",
       "\n",
       "[3387 rows x 5 columns]"
      ]
     },
     "execution_count": 67,
     "metadata": {},
     "output_type": "execute_result"
    }
   ],
   "source": [
    "#Upload the data\n",
    "studio = pd.read_csv('data/bom.movie_gross.csv')\n",
    "studio"
   ]
  },
  {
   "cell_type": "code",
   "execution_count": 68,
   "id": "528ac4b1",
   "metadata": {},
   "outputs": [
    {
     "name": "stdout",
     "output_type": "stream",
     "text": [
      "<class 'pandas.core.frame.DataFrame'>\n",
      "RangeIndex: 3387 entries, 0 to 3386\n",
      "Data columns (total 5 columns):\n",
      " #   Column          Non-Null Count  Dtype  \n",
      "---  ------          --------------  -----  \n",
      " 0   title           3387 non-null   object \n",
      " 1   studio          3382 non-null   object \n",
      " 2   domestic_gross  3359 non-null   float64\n",
      " 3   foreign_gross   2037 non-null   object \n",
      " 4   year            3387 non-null   int64  \n",
      "dtypes: float64(1), int64(1), object(3)\n",
      "memory usage: 132.4+ KB\n"
     ]
    }
   ],
   "source": [
    "studio.info()"
   ]
  },
  {
   "cell_type": "code",
   "execution_count": 69,
   "id": "12cbf721",
   "metadata": {},
   "outputs": [
    {
     "data": {
      "text/plain": [
       "title             0.00\n",
       "studio            0.15\n",
       "domestic_gross    0.83\n",
       "foreign_gross    39.86\n",
       "year              0.00\n",
       "dtype: float64"
      ]
     },
     "execution_count": 69,
     "metadata": {},
     "output_type": "execute_result"
    }
   ],
   "source": [
    "studio.isna().mean()*100"
   ]
  },
  {
   "cell_type": "code",
   "execution_count": 70,
   "id": "5c84b9fa",
   "metadata": {},
   "outputs": [],
   "source": [
    "#drop the foreign gross, movie,year column and any mising rows in the dataset\n",
    "#drop the foreign gross\n",
    "dom_studio = studio.drop(columns=['foreign_gross', 'title'])"
   ]
  },
  {
   "cell_type": "code",
   "execution_count": 71,
   "id": "c3d9b442",
   "metadata": {
    "scrolled": true
   },
   "outputs": [
    {
     "data": {
      "text/plain": [
       "studio             5\n",
       "domestic_gross    28\n",
       "year               0\n",
       "dtype: int64"
      ]
     },
     "execution_count": 71,
     "metadata": {},
     "output_type": "execute_result"
    }
   ],
   "source": [
    "dom_studio.isna().sum()"
   ]
  },
  {
   "cell_type": "code",
   "execution_count": 72,
   "id": "9109a84a",
   "metadata": {},
   "outputs": [],
   "source": [
    "dom_studio.dropna(inplace=True)"
   ]
  },
  {
   "cell_type": "code",
   "execution_count": 73,
   "id": "5ba9fc2c",
   "metadata": {},
   "outputs": [
    {
     "data": {
      "text/plain": [
       "studio            0\n",
       "domestic_gross    0\n",
       "year              0\n",
       "dtype: int64"
      ]
     },
     "execution_count": 73,
     "metadata": {},
     "output_type": "execute_result"
    }
   ],
   "source": [
    "dom_studio.isna().sum()"
   ]
  },
  {
   "cell_type": "code",
   "execution_count": 74,
   "id": "8eaaff07",
   "metadata": {},
   "outputs": [
    {
     "name": "stdout",
     "output_type": "stream",
     "text": [
      "<class 'pandas.core.frame.DataFrame'>\n",
      "Index: 3356 entries, 0 to 3386\n",
      "Data columns (total 3 columns):\n",
      " #   Column          Non-Null Count  Dtype  \n",
      "---  ------          --------------  -----  \n",
      " 0   studio          3356 non-null   object \n",
      " 1   domestic_gross  3356 non-null   float64\n",
      " 2   year            3356 non-null   int64  \n",
      "dtypes: float64(1), int64(1), object(1)\n",
      "memory usage: 104.9+ KB\n"
     ]
    }
   ],
   "source": [
    "dom_studio.info()"
   ]
  },
  {
   "cell_type": "code",
   "execution_count": 75,
   "id": "ad2ed8dd",
   "metadata": {},
   "outputs": [
    {
     "data": {
      "text/html": [
       "<div>\n",
       "<style scoped>\n",
       "    .dataframe tbody tr th:only-of-type {\n",
       "        vertical-align: middle;\n",
       "    }\n",
       "\n",
       "    .dataframe tbody tr th {\n",
       "        vertical-align: top;\n",
       "    }\n",
       "\n",
       "    .dataframe thead th {\n",
       "        text-align: right;\n",
       "    }\n",
       "</style>\n",
       "<table border=\"1\" class=\"dataframe\">\n",
       "  <thead>\n",
       "    <tr style=\"text-align: right;\">\n",
       "      <th></th>\n",
       "      <th>studio</th>\n",
       "      <th>domestic_gross</th>\n",
       "      <th>year</th>\n",
       "    </tr>\n",
       "  </thead>\n",
       "  <tbody>\n",
       "    <tr>\n",
       "      <th>0</th>\n",
       "      <td>BV</td>\n",
       "      <td>415,000,000.00</td>\n",
       "      <td>2010</td>\n",
       "    </tr>\n",
       "    <tr>\n",
       "      <th>1</th>\n",
       "      <td>BV</td>\n",
       "      <td>334,200,000.00</td>\n",
       "      <td>2010</td>\n",
       "    </tr>\n",
       "    <tr>\n",
       "      <th>2</th>\n",
       "      <td>WB</td>\n",
       "      <td>296,000,000.00</td>\n",
       "      <td>2010</td>\n",
       "    </tr>\n",
       "    <tr>\n",
       "      <th>3</th>\n",
       "      <td>WB</td>\n",
       "      <td>292,600,000.00</td>\n",
       "      <td>2010</td>\n",
       "    </tr>\n",
       "    <tr>\n",
       "      <th>4</th>\n",
       "      <td>P/DW</td>\n",
       "      <td>238,700,000.00</td>\n",
       "      <td>2010</td>\n",
       "    </tr>\n",
       "    <tr>\n",
       "      <th>5</th>\n",
       "      <td>Sum.</td>\n",
       "      <td>300,500,000.00</td>\n",
       "      <td>2010</td>\n",
       "    </tr>\n",
       "    <tr>\n",
       "      <th>6</th>\n",
       "      <td>Par.</td>\n",
       "      <td>312,400,000.00</td>\n",
       "      <td>2010</td>\n",
       "    </tr>\n",
       "    <tr>\n",
       "      <th>7</th>\n",
       "      <td>BV</td>\n",
       "      <td>200,800,000.00</td>\n",
       "      <td>2010</td>\n",
       "    </tr>\n",
       "    <tr>\n",
       "      <th>8</th>\n",
       "      <td>Uni.</td>\n",
       "      <td>251,500,000.00</td>\n",
       "      <td>2010</td>\n",
       "    </tr>\n",
       "    <tr>\n",
       "      <th>9</th>\n",
       "      <td>P/DW</td>\n",
       "      <td>217,600,000.00</td>\n",
       "      <td>2010</td>\n",
       "    </tr>\n",
       "  </tbody>\n",
       "</table>\n",
       "</div>"
      ],
      "text/plain": [
       "  studio  domestic_gross  year\n",
       "0     BV  415,000,000.00  2010\n",
       "1     BV  334,200,000.00  2010\n",
       "2     WB  296,000,000.00  2010\n",
       "3     WB  292,600,000.00  2010\n",
       "4   P/DW  238,700,000.00  2010\n",
       "5   Sum.  300,500,000.00  2010\n",
       "6   Par.  312,400,000.00  2010\n",
       "7     BV  200,800,000.00  2010\n",
       "8   Uni.  251,500,000.00  2010\n",
       "9   P/DW  217,600,000.00  2010"
      ]
     },
     "execution_count": 75,
     "metadata": {},
     "output_type": "execute_result"
    }
   ],
   "source": [
    "dom_studio.head(10)"
   ]
  },
  {
   "cell_type": "code",
   "execution_count": 76,
   "id": "1cb98b26",
   "metadata": {},
   "outputs": [
    {
     "data": {
      "text/html": [
       "<div>\n",
       "<style scoped>\n",
       "    .dataframe tbody tr th:only-of-type {\n",
       "        vertical-align: middle;\n",
       "    }\n",
       "\n",
       "    .dataframe tbody tr th {\n",
       "        vertical-align: top;\n",
       "    }\n",
       "\n",
       "    .dataframe thead th {\n",
       "        text-align: right;\n",
       "    }\n",
       "</style>\n",
       "<table border=\"1\" class=\"dataframe\">\n",
       "  <thead>\n",
       "    <tr style=\"text-align: right;\">\n",
       "      <th></th>\n",
       "      <th></th>\n",
       "      <th>domestic_gross</th>\n",
       "    </tr>\n",
       "    <tr>\n",
       "      <th>studio</th>\n",
       "      <th>year</th>\n",
       "      <th></th>\n",
       "    </tr>\n",
       "  </thead>\n",
       "  <tbody>\n",
       "    <tr>\n",
       "      <th>3D</th>\n",
       "      <th>2010</th>\n",
       "      <td>6,100,000.00</td>\n",
       "    </tr>\n",
       "    <tr>\n",
       "      <th rowspan=\"2\" valign=\"top\">A23</th>\n",
       "      <th>2011</th>\n",
       "      <td>151,000.00</td>\n",
       "    </tr>\n",
       "    <tr>\n",
       "      <th>2013</th>\n",
       "      <td>13,200.00</td>\n",
       "    </tr>\n",
       "    <tr>\n",
       "      <th rowspan=\"2\" valign=\"top\">A24</th>\n",
       "      <th>2013</th>\n",
       "      <td>5,569,080.00</td>\n",
       "    </tr>\n",
       "    <tr>\n",
       "      <th>2014</th>\n",
       "      <td>1,898,830.00</td>\n",
       "    </tr>\n",
       "    <tr>\n",
       "      <th>...</th>\n",
       "      <th>...</th>\n",
       "      <td>...</td>\n",
       "    </tr>\n",
       "    <tr>\n",
       "      <th rowspan=\"5\" valign=\"top\">Zeit.</th>\n",
       "      <th>2013</th>\n",
       "      <td>392,500.00</td>\n",
       "    </tr>\n",
       "    <tr>\n",
       "      <th>2014</th>\n",
       "      <td>126,175.00</td>\n",
       "    </tr>\n",
       "    <tr>\n",
       "      <th>2015</th>\n",
       "      <td>22,900.00</td>\n",
       "    </tr>\n",
       "    <tr>\n",
       "      <th>2016</th>\n",
       "      <td>11,700.00</td>\n",
       "    </tr>\n",
       "    <tr>\n",
       "      <th>2017</th>\n",
       "      <td>820,000.00</td>\n",
       "    </tr>\n",
       "  </tbody>\n",
       "</table>\n",
       "<p>737 rows × 1 columns</p>\n",
       "</div>"
      ],
      "text/plain": [
       "             domestic_gross\n",
       "studio year                \n",
       "3D     2010    6,100,000.00\n",
       "A23    2011      151,000.00\n",
       "       2013       13,200.00\n",
       "A24    2013    5,569,080.00\n",
       "       2014    1,898,830.00\n",
       "...                     ...\n",
       "Zeit.  2013      392,500.00\n",
       "       2014      126,175.00\n",
       "       2015       22,900.00\n",
       "       2016       11,700.00\n",
       "       2017      820,000.00\n",
       "\n",
       "[737 rows x 1 columns]"
      ]
     },
     "execution_count": 76,
     "metadata": {},
     "output_type": "execute_result"
    }
   ],
   "source": [
    "dom_studio_grp = dom_studio.groupby(['studio','year']).mean()\n",
    "dom_studio_grp"
   ]
  },
  {
   "cell_type": "code",
   "execution_count": 77,
   "id": "92d6826e",
   "metadata": {
    "scrolled": true
   },
   "outputs": [],
   "source": [
    "#Reset the index\n",
    "dom_studio_grp.reset_index(inplace=True)"
   ]
  },
  {
   "cell_type": "code",
   "execution_count": 78,
   "id": "0e72d170",
   "metadata": {},
   "outputs": [
    {
     "data": {
      "text/html": [
       "<div>\n",
       "<style scoped>\n",
       "    .dataframe tbody tr th:only-of-type {\n",
       "        vertical-align: middle;\n",
       "    }\n",
       "\n",
       "    .dataframe tbody tr th {\n",
       "        vertical-align: top;\n",
       "    }\n",
       "\n",
       "    .dataframe thead th {\n",
       "        text-align: right;\n",
       "    }\n",
       "</style>\n",
       "<table border=\"1\" class=\"dataframe\">\n",
       "  <thead>\n",
       "    <tr style=\"text-align: right;\">\n",
       "      <th></th>\n",
       "      <th>studio</th>\n",
       "      <th>year</th>\n",
       "      <th>domestic_gross</th>\n",
       "    </tr>\n",
       "  </thead>\n",
       "  <tbody>\n",
       "    <tr>\n",
       "      <th>71</th>\n",
       "      <td>BV</td>\n",
       "      <td>2010</td>\n",
       "      <td>108,509,228.57</td>\n",
       "    </tr>\n",
       "    <tr>\n",
       "      <th>73</th>\n",
       "      <td>BV</td>\n",
       "      <td>2012</td>\n",
       "      <td>121,223,076.92</td>\n",
       "    </tr>\n",
       "    <tr>\n",
       "      <th>74</th>\n",
       "      <td>BV</td>\n",
       "      <td>2013</td>\n",
       "      <td>181,640,000.00</td>\n",
       "    </tr>\n",
       "    <tr>\n",
       "      <th>75</th>\n",
       "      <td>BV</td>\n",
       "      <td>2014</td>\n",
       "      <td>116,892,307.69</td>\n",
       "    </tr>\n",
       "    <tr>\n",
       "      <th>76</th>\n",
       "      <td>BV</td>\n",
       "      <td>2015</td>\n",
       "      <td>226,881,818.09</td>\n",
       "    </tr>\n",
       "    <tr>\n",
       "      <th>77</th>\n",
       "      <td>BV</td>\n",
       "      <td>2016</td>\n",
       "      <td>220,846,153.85</td>\n",
       "    </tr>\n",
       "    <tr>\n",
       "      <th>78</th>\n",
       "      <td>BV</td>\n",
       "      <td>2017</td>\n",
       "      <td>297,275,000.00</td>\n",
       "    </tr>\n",
       "    <tr>\n",
       "      <th>79</th>\n",
       "      <td>BV</td>\n",
       "      <td>2018</td>\n",
       "      <td>304,560,000.00</td>\n",
       "    </tr>\n",
       "    <tr>\n",
       "      <th>256</th>\n",
       "      <td>Fox</td>\n",
       "      <td>2014</td>\n",
       "      <td>106,729,411.76</td>\n",
       "    </tr>\n",
       "    <tr>\n",
       "      <th>467</th>\n",
       "      <td>P/DW</td>\n",
       "      <td>2010</td>\n",
       "      <td>169,425,000.00</td>\n",
       "    </tr>\n",
       "    <tr>\n",
       "      <th>468</th>\n",
       "      <td>P/DW</td>\n",
       "      <td>2011</td>\n",
       "      <td>222,300,000.00</td>\n",
       "    </tr>\n",
       "    <tr>\n",
       "      <th>469</th>\n",
       "      <td>P/DW</td>\n",
       "      <td>2012</td>\n",
       "      <td>112,766,666.67</td>\n",
       "    </tr>\n",
       "    <tr>\n",
       "      <th>492</th>\n",
       "      <td>Par.</td>\n",
       "      <td>2010</td>\n",
       "      <td>110,236,600.00</td>\n",
       "    </tr>\n",
       "    <tr>\n",
       "      <th>493</th>\n",
       "      <td>Par.</td>\n",
       "      <td>2011</td>\n",
       "      <td>107,075,000.00</td>\n",
       "    </tr>\n",
       "    <tr>\n",
       "      <th>495</th>\n",
       "      <td>Par.</td>\n",
       "      <td>2013</td>\n",
       "      <td>113,455,555.56</td>\n",
       "    </tr>\n",
       "    <tr>\n",
       "      <th>587</th>\n",
       "      <td>Sony</td>\n",
       "      <td>2010</td>\n",
       "      <td>102,066,666.56</td>\n",
       "    </tr>\n",
       "    <tr>\n",
       "      <th>589</th>\n",
       "      <td>Sony</td>\n",
       "      <td>2012</td>\n",
       "      <td>110,430,769.23</td>\n",
       "    </tr>\n",
       "    <tr>\n",
       "      <th>590</th>\n",
       "      <td>Sony</td>\n",
       "      <td>2013</td>\n",
       "      <td>102,099,999.88</td>\n",
       "    </tr>\n",
       "    <tr>\n",
       "      <th>650</th>\n",
       "      <td>Uni.</td>\n",
       "      <td>2015</td>\n",
       "      <td>115,701,809.52</td>\n",
       "    </tr>\n",
       "    <tr>\n",
       "      <th>652</th>\n",
       "      <td>Uni.</td>\n",
       "      <td>2017</td>\n",
       "      <td>103,785,714.29</td>\n",
       "    </tr>\n",
       "    <tr>\n",
       "      <th>684</th>\n",
       "      <td>WB</td>\n",
       "      <td>2013</td>\n",
       "      <td>101,390,909.09</td>\n",
       "    </tr>\n",
       "    <tr>\n",
       "      <th>687</th>\n",
       "      <td>WB</td>\n",
       "      <td>2016</td>\n",
       "      <td>116,197,083.33</td>\n",
       "    </tr>\n",
       "    <tr>\n",
       "      <th>688</th>\n",
       "      <td>WB</td>\n",
       "      <td>2017</td>\n",
       "      <td>113,800,000.00</td>\n",
       "    </tr>\n",
       "    <tr>\n",
       "      <th>689</th>\n",
       "      <td>WB</td>\n",
       "      <td>2018</td>\n",
       "      <td>101,711,764.71</td>\n",
       "    </tr>\n",
       "    <tr>\n",
       "      <th>692</th>\n",
       "      <td>WB (NL)</td>\n",
       "      <td>2012</td>\n",
       "      <td>148,466,666.67</td>\n",
       "    </tr>\n",
       "    <tr>\n",
       "      <th>693</th>\n",
       "      <td>WB (NL)</td>\n",
       "      <td>2013</td>\n",
       "      <td>126,779,999.80</td>\n",
       "    </tr>\n",
       "    <tr>\n",
       "      <th>694</th>\n",
       "      <td>WB (NL)</td>\n",
       "      <td>2014</td>\n",
       "      <td>104,400,000.00</td>\n",
       "    </tr>\n",
       "    <tr>\n",
       "      <th>697</th>\n",
       "      <td>WB (NL)</td>\n",
       "      <td>2017</td>\n",
       "      <td>106,480,000.00</td>\n",
       "    </tr>\n",
       "  </tbody>\n",
       "</table>\n",
       "</div>"
      ],
      "text/plain": [
       "      studio  year  domestic_gross\n",
       "71        BV  2010  108,509,228.57\n",
       "73        BV  2012  121,223,076.92\n",
       "74        BV  2013  181,640,000.00\n",
       "75        BV  2014  116,892,307.69\n",
       "76        BV  2015  226,881,818.09\n",
       "77        BV  2016  220,846,153.85\n",
       "78        BV  2017  297,275,000.00\n",
       "79        BV  2018  304,560,000.00\n",
       "256      Fox  2014  106,729,411.76\n",
       "467     P/DW  2010  169,425,000.00\n",
       "468     P/DW  2011  222,300,000.00\n",
       "469     P/DW  2012  112,766,666.67\n",
       "492     Par.  2010  110,236,600.00\n",
       "493     Par.  2011  107,075,000.00\n",
       "495     Par.  2013  113,455,555.56\n",
       "587     Sony  2010  102,066,666.56\n",
       "589     Sony  2012  110,430,769.23\n",
       "590     Sony  2013  102,099,999.88\n",
       "650     Uni.  2015  115,701,809.52\n",
       "652     Uni.  2017  103,785,714.29\n",
       "684       WB  2013  101,390,909.09\n",
       "687       WB  2016  116,197,083.33\n",
       "688       WB  2017  113,800,000.00\n",
       "689       WB  2018  101,711,764.71\n",
       "692  WB (NL)  2012  148,466,666.67\n",
       "693  WB (NL)  2013  126,779,999.80\n",
       "694  WB (NL)  2014  104,400,000.00\n",
       "697  WB (NL)  2017  106,480,000.00"
      ]
     },
     "execution_count": 78,
     "metadata": {},
     "output_type": "execute_result"
    }
   ],
   "source": [
    "dom_studio_grp_filter = dom_studio_grp[dom_studio_grp['domestic_gross']>100000000]\n",
    "dom_studio_grp_filter"
   ]
  },
  {
   "cell_type": "code",
   "execution_count": 79,
   "id": "16c19ebe",
   "metadata": {},
   "outputs": [
    {
     "data": {
      "text/html": [
       "<div>\n",
       "<style scoped>\n",
       "    .dataframe tbody tr th:only-of-type {\n",
       "        vertical-align: middle;\n",
       "    }\n",
       "\n",
       "    .dataframe tbody tr th {\n",
       "        vertical-align: top;\n",
       "    }\n",
       "\n",
       "    .dataframe thead th {\n",
       "        text-align: right;\n",
       "    }\n",
       "</style>\n",
       "<table border=\"1\" class=\"dataframe\">\n",
       "  <thead>\n",
       "    <tr style=\"text-align: right;\">\n",
       "      <th></th>\n",
       "      <th>studio</th>\n",
       "      <th>year</th>\n",
       "      <th>domestic_gross</th>\n",
       "    </tr>\n",
       "  </thead>\n",
       "  <tbody>\n",
       "    <tr>\n",
       "      <th>467</th>\n",
       "      <td>P/DW</td>\n",
       "      <td>2010</td>\n",
       "      <td>169,425,000.00</td>\n",
       "    </tr>\n",
       "    <tr>\n",
       "      <th>468</th>\n",
       "      <td>P/DW</td>\n",
       "      <td>2011</td>\n",
       "      <td>222,300,000.00</td>\n",
       "    </tr>\n",
       "    <tr>\n",
       "      <th>692</th>\n",
       "      <td>WB (NL)</td>\n",
       "      <td>2012</td>\n",
       "      <td>148,466,666.67</td>\n",
       "    </tr>\n",
       "    <tr>\n",
       "      <th>74</th>\n",
       "      <td>BV</td>\n",
       "      <td>2013</td>\n",
       "      <td>181,640,000.00</td>\n",
       "    </tr>\n",
       "    <tr>\n",
       "      <th>75</th>\n",
       "      <td>BV</td>\n",
       "      <td>2014</td>\n",
       "      <td>116,892,307.69</td>\n",
       "    </tr>\n",
       "    <tr>\n",
       "      <th>76</th>\n",
       "      <td>BV</td>\n",
       "      <td>2015</td>\n",
       "      <td>226,881,818.09</td>\n",
       "    </tr>\n",
       "    <tr>\n",
       "      <th>77</th>\n",
       "      <td>BV</td>\n",
       "      <td>2016</td>\n",
       "      <td>220,846,153.85</td>\n",
       "    </tr>\n",
       "    <tr>\n",
       "      <th>78</th>\n",
       "      <td>BV</td>\n",
       "      <td>2017</td>\n",
       "      <td>297,275,000.00</td>\n",
       "    </tr>\n",
       "    <tr>\n",
       "      <th>79</th>\n",
       "      <td>BV</td>\n",
       "      <td>2018</td>\n",
       "      <td>304,560,000.00</td>\n",
       "    </tr>\n",
       "  </tbody>\n",
       "</table>\n",
       "</div>"
      ],
      "text/plain": [
       "      studio  year  domestic_gross\n",
       "467     P/DW  2010  169,425,000.00\n",
       "468     P/DW  2011  222,300,000.00\n",
       "692  WB (NL)  2012  148,466,666.67\n",
       "74        BV  2013  181,640,000.00\n",
       "75        BV  2014  116,892,307.69\n",
       "76        BV  2015  226,881,818.09\n",
       "77        BV  2016  220,846,153.85\n",
       "78        BV  2017  297,275,000.00\n",
       "79        BV  2018  304,560,000.00"
      ]
     },
     "execution_count": 79,
     "metadata": {},
     "output_type": "execute_result"
    }
   ],
   "source": [
    "#Find the best studio with high mean gross for each year\n",
    "best_studio = dom_studio_grp_filter.loc[dom_studio_grp_filter.groupby('year')['domestic_gross'].idxmax()]\n",
    "best_studio"
   ]
  },
  {
   "cell_type": "markdown",
   "id": "508b2150",
   "metadata": {},
   "source": [
    "#### Visualize\n"
   ]
  },
  {
   "cell_type": "code",
   "execution_count": 80,
   "id": "0941097b",
   "metadata": {},
   "outputs": [
    {
     "data": {
      "image/png": "[encoded data removed]",
      "text/plain": [
       "<Figure size 1000x600 with 1 Axes>"
      ]
     },
     "metadata": {},
     "output_type": "display_data"
    }
   ],
   "source": [
    "plt.figure(figsize=(10, 6))\n",
    "sns.barplot(x='year', y='domestic_gross', hue='studio', data=best_studio);"
   ]
  },
  {
   "cell_type": "markdown",
   "id": "ddfd68e0",
   "metadata": {},
   "source": [
    "#### Findings\n",
    "- BV is the best movie to work with. \n",
    "It has shown a contionus increment of the domestic gross since 2015"
   ]
  },
  {
   "cell_type": "markdown",
   "id": "3c8413de",
   "metadata": {},
   "source": [
    "## d. Determine Age rating of film and its value in Box office\n",
    "The movie information dataser from the rotten tomato website includes the age rating with:\n",
    "- **G** - Suitable for all ages to watch\n",
    "- **PG** - Needs parental guidance\n",
    "- **PG13** - Parental guidance for only 13+ to watch\n",
    "- **R** - Not allowed for those under age of 17\n",
    "- **NC17** - Only for 18+, strictly for 18+\n",
    "- **NR** - not submitted for rating\n"
   ]
  },
  {
   "cell_type": "code",
   "execution_count": 199,
   "id": "e2ebbda4",
   "metadata": {
    "scrolled": true
   },
   "outputs": [
    {
     "data": {
      "text/html": [
       "<div>\n",
       "<style scoped>\n",
       "    .dataframe tbody tr th:only-of-type {\n",
       "        vertical-align: middle;\n",
       "    }\n",
       "\n",
       "    .dataframe tbody tr th {\n",
       "        vertical-align: top;\n",
       "    }\n",
       "\n",
       "    .dataframe thead th {\n",
       "        text-align: right;\n",
       "    }\n",
       "</style>\n",
       "<table border=\"1\" class=\"dataframe\">\n",
       "  <thead>\n",
       "    <tr style=\"text-align: right;\">\n",
       "      <th></th>\n",
       "      <th>id</th>\n",
       "      <th>synopsis</th>\n",
       "      <th>rating</th>\n",
       "      <th>genre</th>\n",
       "      <th>director</th>\n",
       "      <th>writer</th>\n",
       "      <th>theater_date</th>\n",
       "      <th>dvd_date</th>\n",
       "      <th>currency</th>\n",
       "      <th>box_office</th>\n",
       "      <th>runtime</th>\n",
       "      <th>studio</th>\n",
       "    </tr>\n",
       "  </thead>\n",
       "  <tbody>\n",
       "    <tr>\n",
       "      <th>0</th>\n",
       "      <td>1</td>\n",
       "      <td>This gritty, fast-paced, and innovative police...</td>\n",
       "      <td>R</td>\n",
       "      <td>Action and Adventure|Classics|Drama</td>\n",
       "      <td>William Friedkin</td>\n",
       "      <td>Ernest Tidyman</td>\n",
       "      <td>Oct 9, 1971</td>\n",
       "      <td>Sep 25, 2001</td>\n",
       "      <td>NaN</td>\n",
       "      <td>NaN</td>\n",
       "      <td>104 minutes</td>\n",
       "      <td>NaN</td>\n",
       "    </tr>\n",
       "    <tr>\n",
       "      <th>1</th>\n",
       "      <td>3</td>\n",
       "      <td>New York City, not-too-distant-future: Eric Pa...</td>\n",
       "      <td>R</td>\n",
       "      <td>Drama|Science Fiction and Fantasy</td>\n",
       "      <td>David Cronenberg</td>\n",
       "      <td>David Cronenberg|Don DeLillo</td>\n",
       "      <td>Aug 17, 2012</td>\n",
       "      <td>Jan 1, 2013</td>\n",
       "      <td>$</td>\n",
       "      <td>600,000</td>\n",
       "      <td>108 minutes</td>\n",
       "      <td>Entertainment One</td>\n",
       "    </tr>\n",
       "    <tr>\n",
       "      <th>2</th>\n",
       "      <td>5</td>\n",
       "      <td>Illeana Douglas delivers a superb performance ...</td>\n",
       "      <td>R</td>\n",
       "      <td>Drama|Musical and Performing Arts</td>\n",
       "      <td>Allison Anders</td>\n",
       "      <td>Allison Anders</td>\n",
       "      <td>Sep 13, 1996</td>\n",
       "      <td>Apr 18, 2000</td>\n",
       "      <td>NaN</td>\n",
       "      <td>NaN</td>\n",
       "      <td>116 minutes</td>\n",
       "      <td>NaN</td>\n",
       "    </tr>\n",
       "    <tr>\n",
       "      <th>3</th>\n",
       "      <td>6</td>\n",
       "      <td>Michael Douglas runs afoul of a treacherous su...</td>\n",
       "      <td>R</td>\n",
       "      <td>Drama|Mystery and Suspense</td>\n",
       "      <td>Barry Levinson</td>\n",
       "      <td>Paul Attanasio|Michael Crichton</td>\n",
       "      <td>Dec 9, 1994</td>\n",
       "      <td>Aug 27, 1997</td>\n",
       "      <td>NaN</td>\n",
       "      <td>NaN</td>\n",
       "      <td>128 minutes</td>\n",
       "      <td>NaN</td>\n",
       "    </tr>\n",
       "    <tr>\n",
       "      <th>4</th>\n",
       "      <td>7</td>\n",
       "      <td>NaN</td>\n",
       "      <td>NR</td>\n",
       "      <td>Drama|Romance</td>\n",
       "      <td>Rodney Bennett</td>\n",
       "      <td>Giles Cooper</td>\n",
       "      <td>NaN</td>\n",
       "      <td>NaN</td>\n",
       "      <td>NaN</td>\n",
       "      <td>NaN</td>\n",
       "      <td>200 minutes</td>\n",
       "      <td>NaN</td>\n",
       "    </tr>\n",
       "    <tr>\n",
       "      <th>...</th>\n",
       "      <td>...</td>\n",
       "      <td>...</td>\n",
       "      <td>...</td>\n",
       "      <td>...</td>\n",
       "      <td>...</td>\n",
       "      <td>...</td>\n",
       "      <td>...</td>\n",
       "      <td>...</td>\n",
       "      <td>...</td>\n",
       "      <td>...</td>\n",
       "      <td>...</td>\n",
       "      <td>...</td>\n",
       "    </tr>\n",
       "    <tr>\n",
       "      <th>1555</th>\n",
       "      <td>1996</td>\n",
       "      <td>Forget terrorists or hijackers -- there's a ha...</td>\n",
       "      <td>R</td>\n",
       "      <td>Action and Adventure|Horror|Mystery and Suspense</td>\n",
       "      <td>NaN</td>\n",
       "      <td>NaN</td>\n",
       "      <td>Aug 18, 2006</td>\n",
       "      <td>Jan 2, 2007</td>\n",
       "      <td>$</td>\n",
       "      <td>33,886,034</td>\n",
       "      <td>106 minutes</td>\n",
       "      <td>New Line Cinema</td>\n",
       "    </tr>\n",
       "    <tr>\n",
       "      <th>1556</th>\n",
       "      <td>1997</td>\n",
       "      <td>The popular Saturday Night Live sketch was exp...</td>\n",
       "      <td>PG</td>\n",
       "      <td>Comedy|Science Fiction and Fantasy</td>\n",
       "      <td>Steve Barron</td>\n",
       "      <td>Terry Turner|Tom Davis|Dan Aykroyd|Bonnie Turner</td>\n",
       "      <td>Jul 23, 1993</td>\n",
       "      <td>Apr 17, 2001</td>\n",
       "      <td>NaN</td>\n",
       "      <td>NaN</td>\n",
       "      <td>88 minutes</td>\n",
       "      <td>Paramount Vantage</td>\n",
       "    </tr>\n",
       "    <tr>\n",
       "      <th>1557</th>\n",
       "      <td>1998</td>\n",
       "      <td>Based on a novel by Richard Powell, when the l...</td>\n",
       "      <td>G</td>\n",
       "      <td>Classics|Comedy|Drama|Musical and Performing Arts</td>\n",
       "      <td>Gordon Douglas</td>\n",
       "      <td>NaN</td>\n",
       "      <td>Jan 1, 1962</td>\n",
       "      <td>May 11, 2004</td>\n",
       "      <td>NaN</td>\n",
       "      <td>NaN</td>\n",
       "      <td>111 minutes</td>\n",
       "      <td>NaN</td>\n",
       "    </tr>\n",
       "    <tr>\n",
       "      <th>1558</th>\n",
       "      <td>1999</td>\n",
       "      <td>The Sandlot is a coming-of-age story about a g...</td>\n",
       "      <td>PG</td>\n",
       "      <td>Comedy|Drama|Kids and Family|Sports and Fitness</td>\n",
       "      <td>David Mickey Evans</td>\n",
       "      <td>David Mickey Evans|Robert Gunter</td>\n",
       "      <td>Apr 1, 1993</td>\n",
       "      <td>Jan 29, 2002</td>\n",
       "      <td>NaN</td>\n",
       "      <td>NaN</td>\n",
       "      <td>101 minutes</td>\n",
       "      <td>NaN</td>\n",
       "    </tr>\n",
       "    <tr>\n",
       "      <th>1559</th>\n",
       "      <td>2000</td>\n",
       "      <td>Suspended from the force, Paris cop Hubert is ...</td>\n",
       "      <td>R</td>\n",
       "      <td>Action and Adventure|Art House and Internation...</td>\n",
       "      <td>NaN</td>\n",
       "      <td>Luc Besson</td>\n",
       "      <td>Sep 27, 2001</td>\n",
       "      <td>Feb 11, 2003</td>\n",
       "      <td>NaN</td>\n",
       "      <td>NaN</td>\n",
       "      <td>94 minutes</td>\n",
       "      <td>Columbia Pictures</td>\n",
       "    </tr>\n",
       "  </tbody>\n",
       "</table>\n",
       "<p>1560 rows × 12 columns</p>\n",
       "</div>"
      ],
      "text/plain": [
       "        id                                           synopsis rating   \n",
       "0        1  This gritty, fast-paced, and innovative police...      R  \\\n",
       "1        3  New York City, not-too-distant-future: Eric Pa...      R   \n",
       "2        5  Illeana Douglas delivers a superb performance ...      R   \n",
       "3        6  Michael Douglas runs afoul of a treacherous su...      R   \n",
       "4        7                                                NaN     NR   \n",
       "...    ...                                                ...    ...   \n",
       "1555  1996  Forget terrorists or hijackers -- there's a ha...      R   \n",
       "1556  1997  The popular Saturday Night Live sketch was exp...     PG   \n",
       "1557  1998  Based on a novel by Richard Powell, when the l...      G   \n",
       "1558  1999  The Sandlot is a coming-of-age story about a g...     PG   \n",
       "1559  2000  Suspended from the force, Paris cop Hubert is ...      R   \n",
       "\n",
       "                                                  genre            director   \n",
       "0                   Action and Adventure|Classics|Drama    William Friedkin  \\\n",
       "1                     Drama|Science Fiction and Fantasy    David Cronenberg   \n",
       "2                     Drama|Musical and Performing Arts      Allison Anders   \n",
       "3                            Drama|Mystery and Suspense      Barry Levinson   \n",
       "4                                         Drama|Romance      Rodney Bennett   \n",
       "...                                                 ...                 ...   \n",
       "1555   Action and Adventure|Horror|Mystery and Suspense                 NaN   \n",
       "1556                 Comedy|Science Fiction and Fantasy        Steve Barron   \n",
       "1557  Classics|Comedy|Drama|Musical and Performing Arts      Gordon Douglas   \n",
       "1558    Comedy|Drama|Kids and Family|Sports and Fitness  David Mickey Evans   \n",
       "1559  Action and Adventure|Art House and Internation...                 NaN   \n",
       "\n",
       "                                                writer  theater_date   \n",
       "0                                       Ernest Tidyman   Oct 9, 1971  \\\n",
       "1                         David Cronenberg|Don DeLillo  Aug 17, 2012   \n",
       "2                                       Allison Anders  Sep 13, 1996   \n",
       "3                      Paul Attanasio|Michael Crichton   Dec 9, 1994   \n",
       "4                                         Giles Cooper           NaN   \n",
       "...                                                ...           ...   \n",
       "1555                                               NaN  Aug 18, 2006   \n",
       "1556  Terry Turner|Tom Davis|Dan Aykroyd|Bonnie Turner  Jul 23, 1993   \n",
       "1557                                               NaN   Jan 1, 1962   \n",
       "1558                  David Mickey Evans|Robert Gunter   Apr 1, 1993   \n",
       "1559                                        Luc Besson  Sep 27, 2001   \n",
       "\n",
       "          dvd_date currency  box_office      runtime             studio  \n",
       "0     Sep 25, 2001      NaN         NaN  104 minutes                NaN  \n",
       "1      Jan 1, 2013        $     600,000  108 minutes  Entertainment One  \n",
       "2     Apr 18, 2000      NaN         NaN  116 minutes                NaN  \n",
       "3     Aug 27, 1997      NaN         NaN  128 minutes                NaN  \n",
       "4              NaN      NaN         NaN  200 minutes                NaN  \n",
       "...            ...      ...         ...          ...                ...  \n",
       "1555   Jan 2, 2007        $  33,886,034  106 minutes    New Line Cinema  \n",
       "1556  Apr 17, 2001      NaN         NaN   88 minutes  Paramount Vantage  \n",
       "1557  May 11, 2004      NaN         NaN  111 minutes                NaN  \n",
       "1558  Jan 29, 2002      NaN         NaN  101 minutes                NaN  \n",
       "1559  Feb 11, 2003      NaN         NaN   94 minutes  Columbia Pictures  \n",
       "\n",
       "[1560 rows x 12 columns]"
      ]
     },
     "execution_count": 199,
     "metadata": {},
     "output_type": "execute_result"
    }
   ],
   "source": [
    "box_info = pd.read_table('data/rt.movie_info.tsv')\n",
    "box_info"
   ]
  },
  {
   "cell_type": "code",
   "execution_count": 200,
   "id": "7bfbba5a",
   "metadata": {},
   "outputs": [
    {
     "name": "stdout",
     "output_type": "stream",
     "text": [
      "<class 'pandas.core.frame.DataFrame'>\n",
      "RangeIndex: 1560 entries, 0 to 1559\n",
      "Data columns (total 12 columns):\n",
      " #   Column        Non-Null Count  Dtype \n",
      "---  ------        --------------  ----- \n",
      " 0   id            1560 non-null   int64 \n",
      " 1   synopsis      1498 non-null   object\n",
      " 2   rating        1557 non-null   object\n",
      " 3   genre         1552 non-null   object\n",
      " 4   director      1361 non-null   object\n",
      " 5   writer        1111 non-null   object\n",
      " 6   theater_date  1201 non-null   object\n",
      " 7   dvd_date      1201 non-null   object\n",
      " 8   currency      340 non-null    object\n",
      " 9   box_office    340 non-null    object\n",
      " 10  runtime       1530 non-null   object\n",
      " 11  studio        494 non-null    object\n",
      "dtypes: int64(1), object(11)\n",
      "memory usage: 146.4+ KB\n"
     ]
    }
   ],
   "source": [
    "box_info.info()"
   ]
  },
  {
   "cell_type": "code",
   "execution_count": 201,
   "id": "2848fa56",
   "metadata": {},
   "outputs": [
    {
     "data": {
      "text/plain": [
       "id                 0\n",
       "synopsis          62\n",
       "rating             3\n",
       "genre              8\n",
       "director         199\n",
       "writer           449\n",
       "theater_date     359\n",
       "dvd_date         359\n",
       "currency        1220\n",
       "box_office      1220\n",
       "runtime           30\n",
       "studio          1066\n",
       "dtype: int64"
      ]
     },
     "execution_count": 201,
     "metadata": {},
     "output_type": "execute_result"
    }
   ],
   "source": [
    "box_info.isnull().sum()"
   ]
  },
  {
   "cell_type": "code",
   "execution_count": 202,
   "id": "389cc0c3",
   "metadata": {},
   "outputs": [],
   "source": [
    "box_fill = box_info.drop(columns=['synopsis', 'genre', 'director', 'writer',\n",
    "                       'dvd_date', 'currency', 'runtime', 'studio','id'])"
   ]
  },
  {
   "cell_type": "code",
   "execution_count": 204,
   "id": "058268b8",
   "metadata": {
    "scrolled": false
   },
   "outputs": [
    {
     "data": {
      "text/html": [
       "<div>\n",
       "<style scoped>\n",
       "    .dataframe tbody tr th:only-of-type {\n",
       "        vertical-align: middle;\n",
       "    }\n",
       "\n",
       "    .dataframe tbody tr th {\n",
       "        vertical-align: top;\n",
       "    }\n",
       "\n",
       "    .dataframe thead th {\n",
       "        text-align: right;\n",
       "    }\n",
       "</style>\n",
       "<table border=\"1\" class=\"dataframe\">\n",
       "  <thead>\n",
       "    <tr style=\"text-align: right;\">\n",
       "      <th></th>\n",
       "      <th>rating</th>\n",
       "      <th>theater_date</th>\n",
       "      <th>box_office</th>\n",
       "    </tr>\n",
       "  </thead>\n",
       "  <tbody>\n",
       "    <tr>\n",
       "      <th>0</th>\n",
       "      <td>R</td>\n",
       "      <td>Oct 9, 1971</td>\n",
       "      <td>NaN</td>\n",
       "    </tr>\n",
       "    <tr>\n",
       "      <th>1</th>\n",
       "      <td>R</td>\n",
       "      <td>Aug 17, 2012</td>\n",
       "      <td>600,000</td>\n",
       "    </tr>\n",
       "    <tr>\n",
       "      <th>2</th>\n",
       "      <td>R</td>\n",
       "      <td>Sep 13, 1996</td>\n",
       "      <td>NaN</td>\n",
       "    </tr>\n",
       "    <tr>\n",
       "      <th>3</th>\n",
       "      <td>R</td>\n",
       "      <td>Dec 9, 1994</td>\n",
       "      <td>NaN</td>\n",
       "    </tr>\n",
       "    <tr>\n",
       "      <th>4</th>\n",
       "      <td>NR</td>\n",
       "      <td>NaN</td>\n",
       "      <td>NaN</td>\n",
       "    </tr>\n",
       "    <tr>\n",
       "      <th>...</th>\n",
       "      <td>...</td>\n",
       "      <td>...</td>\n",
       "      <td>...</td>\n",
       "    </tr>\n",
       "    <tr>\n",
       "      <th>1555</th>\n",
       "      <td>R</td>\n",
       "      <td>Aug 18, 2006</td>\n",
       "      <td>33,886,034</td>\n",
       "    </tr>\n",
       "    <tr>\n",
       "      <th>1556</th>\n",
       "      <td>PG</td>\n",
       "      <td>Jul 23, 1993</td>\n",
       "      <td>NaN</td>\n",
       "    </tr>\n",
       "    <tr>\n",
       "      <th>1557</th>\n",
       "      <td>G</td>\n",
       "      <td>Jan 1, 1962</td>\n",
       "      <td>NaN</td>\n",
       "    </tr>\n",
       "    <tr>\n",
       "      <th>1558</th>\n",
       "      <td>PG</td>\n",
       "      <td>Apr 1, 1993</td>\n",
       "      <td>NaN</td>\n",
       "    </tr>\n",
       "    <tr>\n",
       "      <th>1559</th>\n",
       "      <td>R</td>\n",
       "      <td>Sep 27, 2001</td>\n",
       "      <td>NaN</td>\n",
       "    </tr>\n",
       "  </tbody>\n",
       "</table>\n",
       "<p>1560 rows × 3 columns</p>\n",
       "</div>"
      ],
      "text/plain": [
       "     rating  theater_date  box_office\n",
       "0         R   Oct 9, 1971         NaN\n",
       "1         R  Aug 17, 2012     600,000\n",
       "2         R  Sep 13, 1996         NaN\n",
       "3         R   Dec 9, 1994         NaN\n",
       "4        NR           NaN         NaN\n",
       "...     ...           ...         ...\n",
       "1555      R  Aug 18, 2006  33,886,034\n",
       "1556     PG  Jul 23, 1993         NaN\n",
       "1557      G   Jan 1, 1962         NaN\n",
       "1558     PG   Apr 1, 1993         NaN\n",
       "1559      R  Sep 27, 2001         NaN\n",
       "\n",
       "[1560 rows x 3 columns]"
      ]
     },
     "execution_count": 204,
     "metadata": {},
     "output_type": "execute_result"
    }
   ],
   "source": [
    "box_fill"
   ]
  },
  {
   "cell_type": "code",
   "execution_count": 205,
   "id": "6953ed09",
   "metadata": {},
   "outputs": [],
   "source": [
    "#Convert date from an object to date format\n",
    "box_fill['theater_date'] = pd.to_datetime(box_fill['theater_date'])"
   ]
  },
  {
   "cell_type": "code",
   "execution_count": 206,
   "id": "6bc0ea07",
   "metadata": {},
   "outputs": [],
   "source": [
    "box_fill = box_fill[box_fill['theater_date'].dt.year > 2010]"
   ]
  },
  {
   "cell_type": "code",
   "execution_count": 207,
   "id": "0462d7c0",
   "metadata": {},
   "outputs": [
    {
     "name": "stdout",
     "output_type": "stream",
     "text": [
      "<class 'pandas.core.frame.DataFrame'>\n",
      "Index: 171 entries, 1 to 1542\n",
      "Data columns (total 3 columns):\n",
      " #   Column        Non-Null Count  Dtype         \n",
      "---  ------        --------------  -----         \n",
      " 0   rating        171 non-null    object        \n",
      " 1   theater_date  171 non-null    datetime64[ns]\n",
      " 2   box_office    113 non-null    object        \n",
      "dtypes: datetime64[ns](1), object(2)\n",
      "memory usage: 5.3+ KB\n"
     ]
    }
   ],
   "source": [
    "box_fill.info()"
   ]
  },
  {
   "cell_type": "code",
   "execution_count": 208,
   "id": "de9449ed",
   "metadata": {
    "scrolled": true
   },
   "outputs": [
    {
     "data": {
      "text/html": [
       "<div>\n",
       "<style scoped>\n",
       "    .dataframe tbody tr th:only-of-type {\n",
       "        vertical-align: middle;\n",
       "    }\n",
       "\n",
       "    .dataframe tbody tr th {\n",
       "        vertical-align: top;\n",
       "    }\n",
       "\n",
       "    .dataframe thead th {\n",
       "        text-align: right;\n",
       "    }\n",
       "</style>\n",
       "<table border=\"1\" class=\"dataframe\">\n",
       "  <thead>\n",
       "    <tr style=\"text-align: right;\">\n",
       "      <th></th>\n",
       "      <th>rating</th>\n",
       "      <th>theater_date</th>\n",
       "      <th>box_office</th>\n",
       "    </tr>\n",
       "  </thead>\n",
       "  <tbody>\n",
       "    <tr>\n",
       "      <th>1</th>\n",
       "      <td>R</td>\n",
       "      <td>2012-08-17</td>\n",
       "      <td>600,000</td>\n",
       "    </tr>\n",
       "    <tr>\n",
       "      <th>16</th>\n",
       "      <td>R</td>\n",
       "      <td>2013-12-20</td>\n",
       "      <td>99,165,609</td>\n",
       "    </tr>\n",
       "    <tr>\n",
       "      <th>18</th>\n",
       "      <td>PG-13</td>\n",
       "      <td>2013-12-25</td>\n",
       "      <td>20,518,224</td>\n",
       "    </tr>\n",
       "    <tr>\n",
       "      <th>41</th>\n",
       "      <td>NR</td>\n",
       "      <td>2013-11-15</td>\n",
       "      <td>NaN</td>\n",
       "    </tr>\n",
       "    <tr>\n",
       "      <th>44</th>\n",
       "      <td>R</td>\n",
       "      <td>2012-11-21</td>\n",
       "      <td>132,088,910</td>\n",
       "    </tr>\n",
       "  </tbody>\n",
       "</table>\n",
       "</div>"
      ],
      "text/plain": [
       "   rating theater_date   box_office\n",
       "1       R   2012-08-17      600,000\n",
       "16      R   2013-12-20   99,165,609\n",
       "18  PG-13   2013-12-25   20,518,224\n",
       "41     NR   2013-11-15          NaN\n",
       "44      R   2012-11-21  132,088,910"
      ]
     },
     "execution_count": 208,
     "metadata": {},
     "output_type": "execute_result"
    }
   ],
   "source": [
    "box_fill.head()"
   ]
  },
  {
   "cell_type": "code",
   "execution_count": 209,
   "id": "259bbae3",
   "metadata": {},
   "outputs": [],
   "source": [
    "box_fillna = box_fill.dropna(subset=['box_office','theater_date'])"
   ]
  },
  {
   "cell_type": "code",
   "execution_count": 210,
   "id": "a1365cba",
   "metadata": {},
   "outputs": [
    {
     "data": {
      "text/plain": [
       "rating          0\n",
       "theater_date    0\n",
       "box_office      0\n",
       "dtype: int64"
      ]
     },
     "execution_count": 210,
     "metadata": {},
     "output_type": "execute_result"
    }
   ],
   "source": [
    "box_fillna.isna().sum()"
   ]
  },
  {
   "cell_type": "code",
   "execution_count": 211,
   "id": "b4c37e41",
   "metadata": {},
   "outputs": [
    {
     "data": {
      "text/html": [
       "<div>\n",
       "<style scoped>\n",
       "    .dataframe tbody tr th:only-of-type {\n",
       "        vertical-align: middle;\n",
       "    }\n",
       "\n",
       "    .dataframe tbody tr th {\n",
       "        vertical-align: top;\n",
       "    }\n",
       "\n",
       "    .dataframe thead th {\n",
       "        text-align: right;\n",
       "    }\n",
       "</style>\n",
       "<table border=\"1\" class=\"dataframe\">\n",
       "  <thead>\n",
       "    <tr style=\"text-align: right;\">\n",
       "      <th></th>\n",
       "      <th>rating</th>\n",
       "      <th>theater_date</th>\n",
       "      <th>box_office</th>\n",
       "    </tr>\n",
       "  </thead>\n",
       "  <tbody>\n",
       "    <tr>\n",
       "      <th>1</th>\n",
       "      <td>R</td>\n",
       "      <td>2012-08-17</td>\n",
       "      <td>600,000</td>\n",
       "    </tr>\n",
       "    <tr>\n",
       "      <th>16</th>\n",
       "      <td>R</td>\n",
       "      <td>2013-12-20</td>\n",
       "      <td>99,165,609</td>\n",
       "    </tr>\n",
       "    <tr>\n",
       "      <th>18</th>\n",
       "      <td>PG-13</td>\n",
       "      <td>2013-12-25</td>\n",
       "      <td>20,518,224</td>\n",
       "    </tr>\n",
       "    <tr>\n",
       "      <th>44</th>\n",
       "      <td>R</td>\n",
       "      <td>2012-11-21</td>\n",
       "      <td>132,088,910</td>\n",
       "    </tr>\n",
       "    <tr>\n",
       "      <th>52</th>\n",
       "      <td>R</td>\n",
       "      <td>2013-03-08</td>\n",
       "      <td>10,880,926</td>\n",
       "    </tr>\n",
       "    <tr>\n",
       "      <th>...</th>\n",
       "      <td>...</td>\n",
       "      <td>...</td>\n",
       "      <td>...</td>\n",
       "    </tr>\n",
       "    <tr>\n",
       "      <th>1511</th>\n",
       "      <td>PG</td>\n",
       "      <td>2012-04-13</td>\n",
       "      <td>41,800,000</td>\n",
       "    </tr>\n",
       "    <tr>\n",
       "      <th>1530</th>\n",
       "      <td>PG</td>\n",
       "      <td>2011-12-23</td>\n",
       "      <td>72,700,000</td>\n",
       "    </tr>\n",
       "    <tr>\n",
       "      <th>1536</th>\n",
       "      <td>NR</td>\n",
       "      <td>2013-07-03</td>\n",
       "      <td>581,813</td>\n",
       "    </tr>\n",
       "    <tr>\n",
       "      <th>1537</th>\n",
       "      <td>NR</td>\n",
       "      <td>2016-02-17</td>\n",
       "      <td>1,320,005</td>\n",
       "    </tr>\n",
       "    <tr>\n",
       "      <th>1542</th>\n",
       "      <td>NR</td>\n",
       "      <td>2012-10-05</td>\n",
       "      <td>1,416,189</td>\n",
       "    </tr>\n",
       "  </tbody>\n",
       "</table>\n",
       "<p>113 rows × 3 columns</p>\n",
       "</div>"
      ],
      "text/plain": [
       "     rating theater_date   box_office\n",
       "1         R   2012-08-17      600,000\n",
       "16        R   2013-12-20   99,165,609\n",
       "18    PG-13   2013-12-25   20,518,224\n",
       "44        R   2012-11-21  132,088,910\n",
       "52        R   2013-03-08   10,880,926\n",
       "...     ...          ...          ...\n",
       "1511     PG   2012-04-13   41,800,000\n",
       "1530     PG   2011-12-23   72,700,000\n",
       "1536     NR   2013-07-03      581,813\n",
       "1537     NR   2016-02-17    1,320,005\n",
       "1542     NR   2012-10-05    1,416,189\n",
       "\n",
       "[113 rows x 3 columns]"
      ]
     },
     "execution_count": 211,
     "metadata": {},
     "output_type": "execute_result"
    }
   ],
   "source": [
    "box_fillna"
   ]
  },
  {
   "cell_type": "code",
   "execution_count": 212,
   "id": "393aba22",
   "metadata": {
    "scrolled": true
   },
   "outputs": [
    {
     "name": "stderr",
     "output_type": "stream",
     "text": [
      "/tmp/ipykernel_3515/3498071331.py:2: SettingWithCopyWarning: \n",
      "A value is trying to be set on a copy of a slice from a DataFrame.\n",
      "Try using .loc[row_indexer,col_indexer] = value instead\n",
      "\n",
      "See the caveats in the documentation: https://pandas.pydata.org/pandas-docs/stable/user_guide/indexing.html#returning-a-view-versus-a-copy\n",
      "  box_fillna['box_office'] = box_fillna['box_office'].str.replace(',','').astype(int)\n"
     ]
    }
   ],
   "source": [
    "#Removing the commas from the box_office column\n",
    "box_fillna['box_office'] = box_fillna['box_office'].str.replace(',','').astype(int)"
   ]
  },
  {
   "cell_type": "code",
   "execution_count": 213,
   "id": "de9e4070",
   "metadata": {
    "scrolled": true
   },
   "outputs": [
    {
     "data": {
      "text/html": [
       "<div>\n",
       "<style scoped>\n",
       "    .dataframe tbody tr th:only-of-type {\n",
       "        vertical-align: middle;\n",
       "    }\n",
       "\n",
       "    .dataframe tbody tr th {\n",
       "        vertical-align: top;\n",
       "    }\n",
       "\n",
       "    .dataframe thead th {\n",
       "        text-align: right;\n",
       "    }\n",
       "</style>\n",
       "<table border=\"1\" class=\"dataframe\">\n",
       "  <thead>\n",
       "    <tr style=\"text-align: right;\">\n",
       "      <th></th>\n",
       "      <th>rating</th>\n",
       "      <th>theater_date</th>\n",
       "      <th>box_office</th>\n",
       "    </tr>\n",
       "  </thead>\n",
       "  <tbody>\n",
       "    <tr>\n",
       "      <th>1</th>\n",
       "      <td>R</td>\n",
       "      <td>2012-08-17</td>\n",
       "      <td>600000</td>\n",
       "    </tr>\n",
       "    <tr>\n",
       "      <th>16</th>\n",
       "      <td>R</td>\n",
       "      <td>2013-12-20</td>\n",
       "      <td>99165609</td>\n",
       "    </tr>\n",
       "    <tr>\n",
       "      <th>18</th>\n",
       "      <td>PG-13</td>\n",
       "      <td>2013-12-25</td>\n",
       "      <td>20518224</td>\n",
       "    </tr>\n",
       "    <tr>\n",
       "      <th>44</th>\n",
       "      <td>R</td>\n",
       "      <td>2012-11-21</td>\n",
       "      <td>132088910</td>\n",
       "    </tr>\n",
       "    <tr>\n",
       "      <th>52</th>\n",
       "      <td>R</td>\n",
       "      <td>2013-03-08</td>\n",
       "      <td>10880926</td>\n",
       "    </tr>\n",
       "    <tr>\n",
       "      <th>...</th>\n",
       "      <td>...</td>\n",
       "      <td>...</td>\n",
       "      <td>...</td>\n",
       "    </tr>\n",
       "    <tr>\n",
       "      <th>1511</th>\n",
       "      <td>PG</td>\n",
       "      <td>2012-04-13</td>\n",
       "      <td>41800000</td>\n",
       "    </tr>\n",
       "    <tr>\n",
       "      <th>1530</th>\n",
       "      <td>PG</td>\n",
       "      <td>2011-12-23</td>\n",
       "      <td>72700000</td>\n",
       "    </tr>\n",
       "    <tr>\n",
       "      <th>1536</th>\n",
       "      <td>NR</td>\n",
       "      <td>2013-07-03</td>\n",
       "      <td>581813</td>\n",
       "    </tr>\n",
       "    <tr>\n",
       "      <th>1537</th>\n",
       "      <td>NR</td>\n",
       "      <td>2016-02-17</td>\n",
       "      <td>1320005</td>\n",
       "    </tr>\n",
       "    <tr>\n",
       "      <th>1542</th>\n",
       "      <td>NR</td>\n",
       "      <td>2012-10-05</td>\n",
       "      <td>1416189</td>\n",
       "    </tr>\n",
       "  </tbody>\n",
       "</table>\n",
       "<p>113 rows × 3 columns</p>\n",
       "</div>"
      ],
      "text/plain": [
       "     rating theater_date  box_office\n",
       "1         R   2012-08-17      600000\n",
       "16        R   2013-12-20    99165609\n",
       "18    PG-13   2013-12-25    20518224\n",
       "44        R   2012-11-21   132088910\n",
       "52        R   2013-03-08    10880926\n",
       "...     ...          ...         ...\n",
       "1511     PG   2012-04-13    41800000\n",
       "1530     PG   2011-12-23    72700000\n",
       "1536     NR   2013-07-03      581813\n",
       "1537     NR   2016-02-17     1320005\n",
       "1542     NR   2012-10-05     1416189\n",
       "\n",
       "[113 rows x 3 columns]"
      ]
     },
     "execution_count": 213,
     "metadata": {},
     "output_type": "execute_result"
    }
   ],
   "source": [
    "box_fillna"
   ]
  },
  {
   "cell_type": "code",
   "execution_count": 214,
   "id": "aed065bb",
   "metadata": {
    "scrolled": true
   },
   "outputs": [
    {
     "name": "stderr",
     "output_type": "stream",
     "text": [
      "/tmp/ipykernel_3515/1586195967.py:1: SettingWithCopyWarning: \n",
      "A value is trying to be set on a copy of a slice from a DataFrame.\n",
      "Try using .loc[row_indexer,col_indexer] = value instead\n",
      "\n",
      "See the caveats in the documentation: https://pandas.pydata.org/pandas-docs/stable/user_guide/indexing.html#returning-a-view-versus-a-copy\n",
      "  box_fillna['theater_date'] = box_fillna['theater_date'].dt.year\n"
     ]
    }
   ],
   "source": [
    "box_fillna['theater_date'] = box_fillna['theater_date'].dt.year"
   ]
  },
  {
   "cell_type": "code",
   "execution_count": 215,
   "id": "4c05ea00",
   "metadata": {
    "scrolled": true
   },
   "outputs": [
    {
     "data": {
      "text/html": [
       "<div>\n",
       "<style scoped>\n",
       "    .dataframe tbody tr th:only-of-type {\n",
       "        vertical-align: middle;\n",
       "    }\n",
       "\n",
       "    .dataframe tbody tr th {\n",
       "        vertical-align: top;\n",
       "    }\n",
       "\n",
       "    .dataframe thead th {\n",
       "        text-align: right;\n",
       "    }\n",
       "</style>\n",
       "<table border=\"1\" class=\"dataframe\">\n",
       "  <thead>\n",
       "    <tr style=\"text-align: right;\">\n",
       "      <th></th>\n",
       "      <th>rating</th>\n",
       "      <th>theater_date</th>\n",
       "      <th>box_office</th>\n",
       "    </tr>\n",
       "  </thead>\n",
       "  <tbody>\n",
       "    <tr>\n",
       "      <th>1</th>\n",
       "      <td>R</td>\n",
       "      <td>2012</td>\n",
       "      <td>600000</td>\n",
       "    </tr>\n",
       "    <tr>\n",
       "      <th>16</th>\n",
       "      <td>R</td>\n",
       "      <td>2013</td>\n",
       "      <td>99165609</td>\n",
       "    </tr>\n",
       "    <tr>\n",
       "      <th>18</th>\n",
       "      <td>PG-13</td>\n",
       "      <td>2013</td>\n",
       "      <td>20518224</td>\n",
       "    </tr>\n",
       "    <tr>\n",
       "      <th>44</th>\n",
       "      <td>R</td>\n",
       "      <td>2012</td>\n",
       "      <td>132088910</td>\n",
       "    </tr>\n",
       "    <tr>\n",
       "      <th>52</th>\n",
       "      <td>R</td>\n",
       "      <td>2013</td>\n",
       "      <td>10880926</td>\n",
       "    </tr>\n",
       "  </tbody>\n",
       "</table>\n",
       "</div>"
      ],
      "text/plain": [
       "   rating  theater_date  box_office\n",
       "1       R          2012      600000\n",
       "16      R          2013    99165609\n",
       "18  PG-13          2013    20518224\n",
       "44      R          2012   132088910\n",
       "52      R          2013    10880926"
      ]
     },
     "execution_count": 215,
     "metadata": {},
     "output_type": "execute_result"
    }
   ],
   "source": [
    "box_fillna.head()"
   ]
  },
  {
   "cell_type": "code",
   "execution_count": 216,
   "id": "9359b80b",
   "metadata": {
    "scrolled": true
   },
   "outputs": [
    {
     "data": {
      "text/plain": [
       "theater_date\n",
       "2013    21\n",
       "2012    19\n",
       "2011    19\n",
       "2016    17\n",
       "2015    13\n",
       "2014    11\n",
       "2017    11\n",
       "2018     2\n",
       "Name: count, dtype: int64"
      ]
     },
     "execution_count": 216,
     "metadata": {},
     "output_type": "execute_result"
    }
   ],
   "source": [
    "box_fillna['theater_date'].value_counts()"
   ]
  },
  {
   "cell_type": "code",
   "execution_count": 217,
   "id": "9bd81eec",
   "metadata": {},
   "outputs": [
    {
     "name": "stdout",
     "output_type": "stream",
     "text": [
      "<class 'pandas.core.frame.DataFrame'>\n",
      "Index: 113 entries, 1 to 1542\n",
      "Data columns (total 3 columns):\n",
      " #   Column        Non-Null Count  Dtype \n",
      "---  ------        --------------  ----- \n",
      " 0   rating        113 non-null    object\n",
      " 1   theater_date  113 non-null    int32 \n",
      " 2   box_office    113 non-null    int64 \n",
      "dtypes: int32(1), int64(1), object(1)\n",
      "memory usage: 3.1+ KB\n"
     ]
    }
   ],
   "source": [
    "box_fillna.info()"
   ]
  },
  {
   "cell_type": "code",
   "execution_count": 218,
   "id": "21ef2818",
   "metadata": {
    "scrolled": false
   },
   "outputs": [
    {
     "data": {
      "text/html": [
       "<div>\n",
       "<style scoped>\n",
       "    .dataframe tbody tr th:only-of-type {\n",
       "        vertical-align: middle;\n",
       "    }\n",
       "\n",
       "    .dataframe tbody tr th {\n",
       "        vertical-align: top;\n",
       "    }\n",
       "\n",
       "    .dataframe thead th {\n",
       "        text-align: right;\n",
       "    }\n",
       "</style>\n",
       "<table border=\"1\" class=\"dataframe\">\n",
       "  <thead>\n",
       "    <tr style=\"text-align: right;\">\n",
       "      <th></th>\n",
       "      <th>rating</th>\n",
       "      <th>theater_date</th>\n",
       "      <th>box_office</th>\n",
       "    </tr>\n",
       "  </thead>\n",
       "  <tbody>\n",
       "    <tr>\n",
       "      <th>1</th>\n",
       "      <td>R</td>\n",
       "      <td>2012</td>\n",
       "      <td>600000</td>\n",
       "    </tr>\n",
       "    <tr>\n",
       "      <th>16</th>\n",
       "      <td>R</td>\n",
       "      <td>2013</td>\n",
       "      <td>99165609</td>\n",
       "    </tr>\n",
       "    <tr>\n",
       "      <th>18</th>\n",
       "      <td>PG-13</td>\n",
       "      <td>2013</td>\n",
       "      <td>20518224</td>\n",
       "    </tr>\n",
       "    <tr>\n",
       "      <th>44</th>\n",
       "      <td>R</td>\n",
       "      <td>2012</td>\n",
       "      <td>132088910</td>\n",
       "    </tr>\n",
       "    <tr>\n",
       "      <th>52</th>\n",
       "      <td>R</td>\n",
       "      <td>2013</td>\n",
       "      <td>10880926</td>\n",
       "    </tr>\n",
       "    <tr>\n",
       "      <th>...</th>\n",
       "      <td>...</td>\n",
       "      <td>...</td>\n",
       "      <td>...</td>\n",
       "    </tr>\n",
       "    <tr>\n",
       "      <th>1511</th>\n",
       "      <td>PG</td>\n",
       "      <td>2012</td>\n",
       "      <td>41800000</td>\n",
       "    </tr>\n",
       "    <tr>\n",
       "      <th>1530</th>\n",
       "      <td>PG</td>\n",
       "      <td>2011</td>\n",
       "      <td>72700000</td>\n",
       "    </tr>\n",
       "    <tr>\n",
       "      <th>1536</th>\n",
       "      <td>NR</td>\n",
       "      <td>2013</td>\n",
       "      <td>581813</td>\n",
       "    </tr>\n",
       "    <tr>\n",
       "      <th>1537</th>\n",
       "      <td>NR</td>\n",
       "      <td>2016</td>\n",
       "      <td>1320005</td>\n",
       "    </tr>\n",
       "    <tr>\n",
       "      <th>1542</th>\n",
       "      <td>NR</td>\n",
       "      <td>2012</td>\n",
       "      <td>1416189</td>\n",
       "    </tr>\n",
       "  </tbody>\n",
       "</table>\n",
       "<p>113 rows × 3 columns</p>\n",
       "</div>"
      ],
      "text/plain": [
       "     rating  theater_date  box_office\n",
       "1         R          2012      600000\n",
       "16        R          2013    99165609\n",
       "18    PG-13          2013    20518224\n",
       "44        R          2012   132088910\n",
       "52        R          2013    10880926\n",
       "...     ...           ...         ...\n",
       "1511     PG          2012    41800000\n",
       "1530     PG          2011    72700000\n",
       "1536     NR          2013      581813\n",
       "1537     NR          2016     1320005\n",
       "1542     NR          2012     1416189\n",
       "\n",
       "[113 rows x 3 columns]"
      ]
     },
     "execution_count": 218,
     "metadata": {},
     "output_type": "execute_result"
    }
   ],
   "source": [
    "box_fillna"
   ]
  },
  {
   "cell_type": "code",
   "execution_count": 219,
   "id": "1108945b",
   "metadata": {
    "scrolled": false
   },
   "outputs": [
    {
     "data": {
      "text/plain": [
       "rating\n",
       "R        55\n",
       "PG-13    34\n",
       "PG       13\n",
       "NR       11\n",
       "Name: count, dtype: int64"
      ]
     },
     "execution_count": 219,
     "metadata": {},
     "output_type": "execute_result"
    }
   ],
   "source": [
    "#Find the frequency of rating\n",
    "box_fillna['rating'].value_counts()"
   ]
  },
  {
   "cell_type": "code",
   "execution_count": 220,
   "id": "5ca87187",
   "metadata": {},
   "outputs": [
    {
     "data": {
      "text/html": [
       "<div>\n",
       "<style scoped>\n",
       "    .dataframe tbody tr th:only-of-type {\n",
       "        vertical-align: middle;\n",
       "    }\n",
       "\n",
       "    .dataframe tbody tr th {\n",
       "        vertical-align: top;\n",
       "    }\n",
       "\n",
       "    .dataframe thead th {\n",
       "        text-align: right;\n",
       "    }\n",
       "</style>\n",
       "<table border=\"1\" class=\"dataframe\">\n",
       "  <thead>\n",
       "    <tr style=\"text-align: right;\">\n",
       "      <th></th>\n",
       "      <th></th>\n",
       "      <th>box_office</th>\n",
       "    </tr>\n",
       "    <tr>\n",
       "      <th>rating</th>\n",
       "      <th>theater_date</th>\n",
       "      <th></th>\n",
       "    </tr>\n",
       "  </thead>\n",
       "  <tbody>\n",
       "    <tr>\n",
       "      <th rowspan=\"5\" valign=\"top\">NR</th>\n",
       "      <th>2011</th>\n",
       "      <td>8,856.00</td>\n",
       "    </tr>\n",
       "    <tr>\n",
       "      <th>2012</th>\n",
       "      <td>667,133.67</td>\n",
       "    </tr>\n",
       "    <tr>\n",
       "      <th>2013</th>\n",
       "      <td>657,697.75</td>\n",
       "    </tr>\n",
       "    <tr>\n",
       "      <th>2016</th>\n",
       "      <td>806,464.00</td>\n",
       "    </tr>\n",
       "    <tr>\n",
       "      <th>2018</th>\n",
       "      <td>1,526,248.00</td>\n",
       "    </tr>\n",
       "    <tr>\n",
       "      <th rowspan=\"7\" valign=\"top\">PG</th>\n",
       "      <th>2011</th>\n",
       "      <td>72,422,515.67</td>\n",
       "    </tr>\n",
       "    <tr>\n",
       "      <th>2012</th>\n",
       "      <td>41,800,000.00</td>\n",
       "    </tr>\n",
       "    <tr>\n",
       "      <th>2013</th>\n",
       "      <td>3,551,741.50</td>\n",
       "    </tr>\n",
       "    <tr>\n",
       "      <th>2014</th>\n",
       "      <td>190,871,149.00</td>\n",
       "    </tr>\n",
       "    <tr>\n",
       "      <th>2015</th>\n",
       "      <td>66,580,191.00</td>\n",
       "    </tr>\n",
       "    <tr>\n",
       "      <th>2016</th>\n",
       "      <td>53,986,881.00</td>\n",
       "    </tr>\n",
       "    <tr>\n",
       "      <th>2017</th>\n",
       "      <td>5,046,832.00</td>\n",
       "    </tr>\n",
       "    <tr>\n",
       "      <th rowspan=\"8\" valign=\"top\">PG-13</th>\n",
       "      <th>2011</th>\n",
       "      <td>52,896,341.44</td>\n",
       "    </tr>\n",
       "    <tr>\n",
       "      <th>2012</th>\n",
       "      <td>136,431,193.60</td>\n",
       "    </tr>\n",
       "    <tr>\n",
       "      <th>2013</th>\n",
       "      <td>11,235,644.00</td>\n",
       "    </tr>\n",
       "    <tr>\n",
       "      <th>2014</th>\n",
       "      <td>14,158,920.00</td>\n",
       "    </tr>\n",
       "    <tr>\n",
       "      <th>2015</th>\n",
       "      <td>23,820,773.40</td>\n",
       "    </tr>\n",
       "    <tr>\n",
       "      <th>2016</th>\n",
       "      <td>6,427,293.50</td>\n",
       "    </tr>\n",
       "    <tr>\n",
       "      <th>2017</th>\n",
       "      <td>33,468,167.00</td>\n",
       "    </tr>\n",
       "    <tr>\n",
       "      <th>2018</th>\n",
       "      <td>35,003,216.00</td>\n",
       "    </tr>\n",
       "    <tr>\n",
       "      <th rowspan=\"7\" valign=\"top\">R</th>\n",
       "      <th>2011</th>\n",
       "      <td>26,538,761.33</td>\n",
       "    </tr>\n",
       "    <tr>\n",
       "      <th>2012</th>\n",
       "      <td>14,751,780.30</td>\n",
       "    </tr>\n",
       "    <tr>\n",
       "      <th>2013</th>\n",
       "      <td>26,169,268.83</td>\n",
       "    </tr>\n",
       "    <tr>\n",
       "      <th>2014</th>\n",
       "      <td>13,238,987.00</td>\n",
       "    </tr>\n",
       "    <tr>\n",
       "      <th>2015</th>\n",
       "      <td>15,224,882.86</td>\n",
       "    </tr>\n",
       "    <tr>\n",
       "      <th>2016</th>\n",
       "      <td>17,949,941.55</td>\n",
       "    </tr>\n",
       "    <tr>\n",
       "      <th>2017</th>\n",
       "      <td>45,867,255.25</td>\n",
       "    </tr>\n",
       "  </tbody>\n",
       "</table>\n",
       "</div>"
      ],
      "text/plain": [
       "                        box_office\n",
       "rating theater_date               \n",
       "NR     2011               8,856.00\n",
       "       2012             667,133.67\n",
       "       2013             657,697.75\n",
       "       2016             806,464.00\n",
       "       2018           1,526,248.00\n",
       "PG     2011          72,422,515.67\n",
       "       2012          41,800,000.00\n",
       "       2013           3,551,741.50\n",
       "       2014         190,871,149.00\n",
       "       2015          66,580,191.00\n",
       "       2016          53,986,881.00\n",
       "       2017           5,046,832.00\n",
       "PG-13  2011          52,896,341.44\n",
       "       2012         136,431,193.60\n",
       "       2013          11,235,644.00\n",
       "       2014          14,158,920.00\n",
       "       2015          23,820,773.40\n",
       "       2016           6,427,293.50\n",
       "       2017          33,468,167.00\n",
       "       2018          35,003,216.00\n",
       "R      2011          26,538,761.33\n",
       "       2012          14,751,780.30\n",
       "       2013          26,169,268.83\n",
       "       2014          13,238,987.00\n",
       "       2015          15,224,882.86\n",
       "       2016          17,949,941.55\n",
       "       2017          45,867,255.25"
      ]
     },
     "execution_count": 220,
     "metadata": {},
     "output_type": "execute_result"
    }
   ],
   "source": [
    "# dom_studio_grp = dom_studio.groupby(['studio','year']).mean()\n",
    "# dom_studio_grp\n",
    "x = box_fillna.groupby(['rating', 'theater_date']).mean()\n",
    "x"
   ]
  },
  {
   "cell_type": "code",
   "execution_count": 222,
   "id": "d12f35c3",
   "metadata": {},
   "outputs": [],
   "source": [
    "x.reset_index(inplace=True)"
   ]
  },
  {
   "cell_type": "code",
   "execution_count": 225,
   "id": "b644ca18",
   "metadata": {
    "scrolled": true
   },
   "outputs": [
    {
     "name": "stdout",
     "output_type": "stream",
     "text": [
      "<class 'pandas.core.frame.DataFrame'>\n",
      "RangeIndex: 27 entries, 0 to 26\n",
      "Data columns (total 3 columns):\n",
      " #   Column        Non-Null Count  Dtype  \n",
      "---  ------        --------------  -----  \n",
      " 0   rating        27 non-null     object \n",
      " 1   theater_date  27 non-null     int32  \n",
      " 2   box_office    27 non-null     float64\n",
      "dtypes: float64(1), int32(1), object(1)\n",
      "memory usage: 668.0+ bytes\n"
     ]
    }
   ],
   "source": [
    "x.info()"
   ]
  },
  {
   "cell_type": "code",
   "execution_count": 226,
   "id": "81edb1ed",
   "metadata": {},
   "outputs": [],
   "source": [
    "#normalize the box office using the logarithimic scaling\n",
    "x['box_office'] = np.log10(x['box_office'])"
   ]
  },
  {
   "cell_type": "code",
   "execution_count": 230,
   "id": "97e37ae9",
   "metadata": {},
   "outputs": [
    {
     "data": {
      "image/png": "[encoded data removed]",
      "text/plain": [
       "<Figure size 1500x800 with 1 Axes>"
      ]
     },
     "metadata": {},
     "output_type": "display_data"
    }
   ],
   "source": [
    "#Draw a bar graph using sns\n",
    "# plt.figure(figsize=(10,6))\n",
    "# sns.barplot(data=box_fillna, x='rating', y='box_office');\n",
    "plt.figure(figsize=(15, 8))\n",
    "sns.barplot(x='theater_date', y='box_office', hue='rating', data=x);"
   ]
  },
  {
   "cell_type": "markdown",
   "id": "781209bc",
   "metadata": {},
   "source": [
    "#### Findings\n",
    "1. Since 2010 the **R** movies are the higest in production.\n",
    "2. The **PG & PG-13** has shown consistency in high production in box office."
   ]
  },
  {
   "cell_type": "markdown",
   "id": "9ad6f154",
   "metadata": {},
   "source": []
  }
 ],
 "metadata": {
  "kernelspec": {
   "display_name": "Python 3 (ipykernel)",
   "language": "python",
   "name": "python3"
  },
  "language_info": {
   "codemirror_mode": {
    "name": "ipython",
    "version": 3
   },
   "file_extension": ".py",
   "mimetype": "text/x-python",
   "name": "python",
   "nbconvert_exporter": "python",
   "pygments_lexer": "ipython3",
   "version": "3.10.11"
  }
 },
 "nbformat": 4,
 "nbformat_minor": 5
}
