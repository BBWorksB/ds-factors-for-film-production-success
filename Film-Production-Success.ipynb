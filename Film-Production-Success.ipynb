{
 "cells": [
  {
   "cell_type": "markdown",
   "id": "9be656a2",
   "metadata": {},
   "source": [
    "# Factors for film Production Success"
   ]
  },
  {
   "cell_type": "markdown",
   "id": "8522c47e",
   "metadata": {},
   "source": [
    "## 1. Business Understanding"
   ]
  },
  {
   "cell_type": "markdown",
   "id": "cd464f1e",
   "metadata": {},
   "source": [
    "### a) Introduction"
   ]
  },
  {
   "cell_type": "markdown",
   "id": "07a6ecea",
   "metadata": {},
   "source": [
    "Film production has become one of the best way to cultivate an image about a product and create a little world of fanticies on the viewers. Many companies are investing in this and the growth of the companies has triggered intrest of other companies to invest in it too. \n",
    "\n",
    "This project is to use data collected from different platforms to determine the factor of the success in the existing production. "
   ]
  },
  {
   "cell_type": "markdown",
   "id": "ba1e3aaf",
   "metadata": {},
   "source": [
    "### b) Problem of the Statement\n",
    "For better insight of investing we cant rely on the traditional method to make decision. The use of a data driven decision is more reliable. Before starting the invest getting a clear understanding of the factors to consider for the success of the same is important.\n",
    "\n",
    "It is important to have this understanding not only to get better returns but to also remain relevant to the community we are to rech out to. Relevance to the audience will be a better market strategy that will increase the marketing strategy and incress the market scope."
   ]
  },
  {
   "cell_type": "markdown",
   "id": "83402a00",
   "metadata": {},
   "source": [
    "### c) Main Objective\n",
    "To determine the factors that lead to film production success"
   ]
  },
  {
   "cell_type": "markdown",
   "id": "e22916fa",
   "metadata": {},
   "source": [
    "### d) Specific Objective\n",
    "* Determine the relationship between the audience rating and genre and the movie runtime\n",
    "* Determine the relationship between movie budget production and its domestic and worldwid gross\n",
    "* Determine the best perfoming studio in terms of domestic and foreign gross\n",
    "* Determine rating of genre and its value in Box office"
   ]
  },
  {
   "cell_type": "markdown",
   "id": "684fff3b",
   "metadata": {},
   "source": [
    "### e) Experimental Design\n",
    "1. Data Collection\n",
    "2. Read and Check data\n",
    "3. Cleaning the Data\n",
    "4. Exploratory Data Analysis\n",
    "5. Conclusions and Recommendations"
   ]
  },
  {
   "cell_type": "markdown",
   "id": "21024048",
   "metadata": {},
   "source": [
    "### f) Data Understanding\n",
    "The data to be used was provided by the instituion.\n",
    "The datasets to be used are:\n",
    "1. IMDB title rating: It has the movie ID'S(tconst) with avaragerating of each and the numvotes.\n",
    "2. IMDB title basics: It contains the movie genre and the tconst with the movie runtime.\n",
    "3. BOM movie gross: contains stuio with their respective domestic and foreign gross\n",
    "4. Rotten Tomatoes Movie info: Contains movie genre, box office and genre\n",
    "5. Rotten Tomatoes Reviews info: Contains the rating and fresh data."
   ]
  },
  {
   "cell_type": "code",
   "execution_count": null,
   "id": "8286de5d",
   "metadata": {},
   "outputs": [],
   "source": []
  }
 ],
 "metadata": {
  "kernelspec": {
   "display_name": "Python 3 (ipykernel)",
   "language": "python",
   "name": "python3"
  },
  "language_info": {
   "codemirror_mode": {
    "name": "ipython",
    "version": 3
   },
   "file_extension": ".py",
   "mimetype": "text/x-python",
   "name": "python",
   "nbconvert_exporter": "python",
   "pygments_lexer": "ipython3",
   "version": "3.10.11"
  }
 },
 "nbformat": 4,
 "nbformat_minor": 5
}
